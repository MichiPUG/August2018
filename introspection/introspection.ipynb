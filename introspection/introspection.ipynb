{
 "cells": [
  {
   "cell_type": "markdown",
   "metadata": {},
   "source": [
    "# Python 3 Introspection\n",
    "\n",
    "## Builtin Functions:\n",
    "-  help - prints help for the python object\n",
    "-  dir  - return an alphabetized list of names comprising (some of) the attributes\n",
    "    of the given object, and of attributes reachable from it.\n",
    "-  callable -  Return whether the object is callable\n",
    "-  hasattr - Return whether the object has an attribute with the given name\n",
    "-  id - Return the “identity” of an object.\n",
    "-  type - Return value is a type object \n",
    "-  isinstance - Return whether an object is an instance of a class or of a subclass\n",
    "-  issubclass - Return whether 'cls' is a derived from another class or is the same class\n",
    "-  globals - Return the dictionary containing the current scope's global variables \n",
    "-  locals - Return a dictionary containing the current scope's local variables\n",
    "-  vars - Return the \\_\\_dict\\_\\_ attribute for a module, class, instance"
   ]
  },
  {
   "cell_type": "code",
   "execution_count": 1,
   "metadata": {},
   "outputs": [],
   "source": [
    "class  example:\n",
    "    \"this is help text for the example class\"\n",
    "    \n",
    "    def __init__(self, arg_1, arg_2, *args, kw_default=1, **kw):\n",
    "        \"init just saves the calling args\"\n",
    "        self.arg_1 = arg_1\n",
    "        self.arg_2 = arg_2\n",
    "        self.args = args\n",
    "        self.default = kw_default\n",
    "        self.kw = kw\n",
    "        \n",
    "    def func1(self):\n",
    "        \"func1 does nothing (just a pass)\"\n",
    "        pass\n",
    "    \n",
    "    def print_locals(self):\n",
    "        print(f\"locals: {locals()}\"\n",
    "             )\n",
    "        for key, value in locals().items():\n",
    "            print(f\"{key}={value}\")\n",
    "    \n",
    "class example_2(example):\n",
    "    def func_2(self, message):\n",
    "        print(\"example_2 func_2: message {message}\")\n",
    "    \n"
   ]
  },
  {
   "cell_type": "markdown",
   "metadata": {},
   "source": [
    "### help([object])\n",
    "Invoke the built-in help system. (This function is intended for interactive use.) If no argument is given, the interactive help system starts on the interpreter console. If the argument is a string, then the string is looked up as the name of a module, function, class, method, keyword, or documentation topic, and a help page is printed on the console. If the argument is any other kind of object, a help page on the object is generated.\n",
    "\n",
    "This function is added to the built-in namespace by the site module.\n",
    "\n",
    "Changed in version 3.4: Changes to pydoc and inspect mean that the reported signatures for callables are now more comprehensive and consistent."
   ]
  },
  {
   "cell_type": "code",
   "execution_count": 2,
   "metadata": {},
   "outputs": [
    {
     "name": "stdout",
     "output_type": "stream",
     "text": [
      "Help on class example in module __main__:\n",
      "\n",
      "class example(builtins.object)\n",
      " |  this is help text for the example class\n",
      " |  \n",
      " |  Methods defined here:\n",
      " |  \n",
      " |  __init__(self, arg_1, arg_2, *args, kw_default=1, **kw)\n",
      " |      init just saves the calling args\n",
      " |  \n",
      " |  func1(self)\n",
      " |      func1 does nothing (just a pass)\n",
      " |  \n",
      " |  print_locals(self)\n",
      " |  \n",
      " |  ----------------------------------------------------------------------\n",
      " |  Data descriptors defined here:\n",
      " |  \n",
      " |  __dict__\n",
      " |      dictionary for instance variables (if defined)\n",
      " |  \n",
      " |  __weakref__\n",
      " |      list of weak references to the object (if defined)\n",
      "\n"
     ]
    }
   ],
   "source": [
    "help(example)"
   ]
  },
  {
   "cell_type": "code",
   "execution_count": 3,
   "metadata": {},
   "outputs": [
    {
     "name": "stdout",
     "output_type": "stream",
     "text": [
      "Help on example in module __main__ object:\n",
      "\n",
      "class example(builtins.object)\n",
      " |  this is help text for the example class\n",
      " |  \n",
      " |  Methods defined here:\n",
      " |  \n",
      " |  __init__(self, arg_1, arg_2, *args, kw_default=1, **kw)\n",
      " |      init just saves the calling args\n",
      " |  \n",
      " |  func1(self)\n",
      " |      func1 does nothing (just a pass)\n",
      " |  \n",
      " |  print_locals(self)\n",
      " |  \n",
      " |  ----------------------------------------------------------------------\n",
      " |  Data descriptors defined here:\n",
      " |  \n",
      " |  __dict__\n",
      " |      dictionary for instance variables (if defined)\n",
      " |  \n",
      " |  __weakref__\n",
      " |      list of weak references to the object (if defined)\n",
      "\n"
     ]
    }
   ],
   "source": [
    "instance = example(1, 2, 3, 4, 5, extras=6)\n",
    "help(instance)"
   ]
  },
  {
   "cell_type": "code",
   "execution_count": 4,
   "metadata": {},
   "outputs": [
    {
     "name": "stdout",
     "output_type": "stream",
     "text": [
      "Help on method func1 in module __main__:\n",
      "\n",
      "func1() method of __main__.example instance\n",
      "    func1 does nothing (just a pass)\n",
      "\n"
     ]
    }
   ],
   "source": [
    "help(instance.func1)"
   ]
  },
  {
   "cell_type": "markdown",
   "metadata": {},
   "source": [
    "#### dir([object])\n",
    "Without arguments, return the list of names in the current local scope. With an argument, attempt to return a list of valid attributes for that object.\n",
    "\n",
    "If the object has a method named \\_\\_dir\\_\\_(), this method will be called and must return the list of attributes. This allows objects that implement a custom \\_\\_getattr\\_\\_() or \\_\\_getattribute\\_\\_() function to customize the way dir() reports their attributes.\n",
    "\n",
    "If the object does not provide \\_\\_dir\\_\\_(), the function tries its best to gather information from the object’s \\_\\_dict\\_\\_ attribute, if defined, and from its type object. The resulting list is not necessarily complete, and may be inaccurate when the object has a custom \\_\\_getattr\\_\\_().\n",
    "\n",
    "The default dir() mechanism behaves differently with different types of objects, as it attempts to produce the most relevant, rather than complete, information:\n",
    "\n",
    "If the object is a module object, the list contains the names of the module’s attributes.\n",
    "If the object is a type or class object, the list contains the names of its attributes, and recursively of the attributes of its bases.\n",
    "Otherwise, the list contains the object’s attributes’ names, the names of its class’s attributes, and recursively of the attributes of its class’s base classes."
   ]
  },
  {
   "cell_type": "markdown",
   "metadata": {},
   "source": [
    "###    Function objects provide these attributes:\n",
    "-        \\_\\_doc\\_\\_         documentation string\n",
    "-        \\_\\_name\\_\\_        name with which this function was defined\n",
    "-        \\_\\_code\\_\\_        code object containing compiled function bytecode\n",
    "-        \\_\\_defaults\\_\\_    tuple of any default values for arguments\n",
    "-        \\_\\_globals\\_\\_     global namespace in which this function was defined\n",
    "-        \\_\\_annotations\\_\\_ dict of parameter annotations\n",
    "-        \\_\\_kwdefaults\\_\\_  dict of keyword only parameters with defaults\n",
    "\n",
    "###    Class objects provide these attributes:\n",
    "-        \\_\\_doc\\_\\_         documentation string\n",
    "-        \\_\\_module\\_\\_      name of module in which this class was defined\n",
    "\n",
    "###    Instance method objects provide these attributes:\n",
    "-        \\_\\_doc\\_\\_         documentation string\n",
    "-        \\_\\_name\\_\\_        name with which this method was defined\n",
    "-        \\_\\_func\\_\\_        function object containing implementation of method\n",
    "-        \\_\\_self\\_\\_        instance to which this method is bound\"\n",
    "\n",
    "###    Code objects provide these attributes:\n",
    "-        co_argcount         number of arguments (not including *, ** args or keyword only arguments)\n",
    "-        co_code             string of raw compiled bytecode\n",
    "-        co_cellvars         tuple of names of cell variables\n",
    "-        co_consts           tuple of constants used in the bytecode\n",
    "-        co_filename         name of file in which this code object was created\n",
    "-        co_firstlineno      number of first line in Python source code\n",
    "-        co_flags            bitmap: 1=optimized | 2=newlocals | 4=*arg | 8=**arg | 16=nested | 32=generator | 64=nofree | 128=coroutine        co_freevars         tuple of names of free variables\n",
    "-        co_kwonlyargcount   number of keyword only arguments (not including ** a\n",
    "rg)\n",
    "-        co_lnotab           encoded mapping of line numbers to bytecode indices\n",
    "-        co_name             name with which this code object was defined\n",
    "-        co_names            tuple of names of local variables\n",
    "-        co_nlocals          number of local variables\n",
    "-        co_stacksize        virtual machine stack space required\n",
    "-        co_varnames         tuple of names of arguments and local variables\n",
    "\n",
    "\n",
    "\n"
   ]
  },
  {
   "cell_type": "code",
   "execution_count": 5,
   "metadata": {},
   "outputs": [
    {
     "name": "stdout",
     "output_type": "stream",
     "text": [
      "Class dir: ['__class__', '__delattr__', '__dict__', '__dir__', '__doc__', '__eq__', '__format__', '__ge__', '__getattribute__', '__gt__', '__hash__', '__init__', '__init_subclass__', '__le__', '__lt__', '__module__', '__ne__', '__new__', '__reduce__', '__reduce_ex__', '__repr__', '__setattr__', '__sizeof__', '__str__', '__subclasshook__', '__weakref__', 'func1', 'print_locals']\n",
      "\n",
      "\n",
      "Instance dir: ['__class__', '__delattr__', '__dict__', '__dir__', '__doc__', '__eq__', '__format__', '__ge__', '__getattribute__', '__gt__', '__hash__', '__init__', '__init_subclass__', '__le__', '__lt__', '__module__', '__ne__', '__new__', '__reduce__', '__reduce_ex__', '__repr__', '__setattr__', '__sizeof__', '__str__', '__subclasshook__', '__weakref__', 'arg_1', 'arg_2', 'args', 'default', 'func1', 'kw', 'print_locals']\n",
      "\n",
      "\n",
      "diff: {'arg_1', 'kw', 'arg_2', 'default', 'args'}\n"
     ]
    }
   ],
   "source": [
    "print(f\"Class dir: {dir(example)}\\n\\n\")\n",
    "print(f\"Instance dir: {dir(instance)}\\n\\n\")\n",
    "print(f\"diff: {set(dir(example)) ^ set(dir(instance))}\")"
   ]
  },
  {
   "cell_type": "code",
   "execution_count": 6,
   "metadata": {},
   "outputs": [
    {
     "name": "stdout",
     "output_type": "stream",
     "text": [
      "instance: <class '__main__.example'>\n",
      "class example: <class 'type'>\n"
     ]
    }
   ],
   "source": [
    "print(f\"instance: {type(instance)}\")\n",
    "print(f\"class example: {type(example)}\")"
   ]
  },
  {
   "cell_type": "markdown",
   "metadata": {},
   "source": [
    "    Traceback objects provide these attributes:\n",
    "-        tb_frame        frame object at this level\n",
    "-        tb_lasti        index of last attempted instruction in bytecode\n",
    "-        tb_lineno       current line number in Python source code\n",
    "-        tb_next         next inner traceback object (called by this level)\n",
    "\n",
    "    Frame objects provide these attributes:\n",
    "-        f_back          next outer frame object (this frame's caller)\n",
    "-        f_builtins      built-in namespace seen by this frame\n",
    "-        f_code          code object being executed in this frame\n",
    "-        f_globals       global namespace seen by this frame\n",
    "-        f_lasti         index of last attempted instruction in bytecode\n",
    "-        f_lineno        current line number in Python source code\n",
    "-        f_locals        local namespace seen by this frame\n",
    "-        f_trace         tracing function for this frame, or None\n",
    "\n",
    "\n",
    "\n",
    "\n"
   ]
  },
  {
   "cell_type": "markdown",
   "metadata": {},
   "source": [
    "#### callable(object)\n",
    "Return True if the object argument appears callable, False if not. If this returns true, it is still possible that a call fails, but if it is false, calling object will never succeed. Note that classes are callable (calling a class returns a new instance); instances are callable if their class has a \\_\\_call\\_\\_() method.\n",
    "\n",
    "New in version 3.2: This function was first removed in Python 3.0 and then brought back in Python 3.2.\n",
    "\n"
   ]
  },
  {
   "cell_type": "code",
   "execution_count": 7,
   "metadata": {
    "scrolled": true
   },
   "outputs": [
    {
     "name": "stdout",
     "output_type": "stream",
     "text": [
      "instance.func1 callable True\n",
      "instance callable False\n",
      "instance.arg_1 calable False\n"
     ]
    }
   ],
   "source": [
    "print(f\"instance.func1 callable {callable(instance.func1)}\")\n",
    "print(f\"instance callable {callable(instance)}\")\n",
    "print(f\"instance.arg_1 calable {callable(instance.arg_1)}\")"
   ]
  },
  {
   "cell_type": "markdown",
   "metadata": {},
   "source": [
    "#### hasattr(object, name)\n",
    "The arguments are an object and a string. The result is True if the string is the name of one of the object’s attributes, False if not. (This is implemented by calling getattr(object, name) and seeing whether it raises an AttributeError or not.)"
   ]
  },
  {
   "cell_type": "code",
   "execution_count": 8,
   "metadata": {},
   "outputs": [
    {
     "name": "stdout",
     "output_type": "stream",
     "text": [
      "does instance have a func1 True\n",
      "does instance have a arg_1 True\n",
      "does instance have a __class__ True\n",
      "does example have a arg_1 False\n"
     ]
    }
   ],
   "source": [
    "print(f\"does instance have a func1 {hasattr(instance, 'func1')}\")\n",
    "print(f\"does instance have a arg_1 {hasattr(instance, 'arg_1')}\")\n",
    "print(f\"does instance have a __class__ {hasattr(instance, '__class__')}\")\n",
    "print(f\"does example have a arg_1 {hasattr(example, 'arg_1')}\")"
   ]
  },
  {
   "cell_type": "markdown",
   "metadata": {},
   "source": [
    "#### id(object)\n",
    "Return the “identity” of an object. This is an integer which is guaranteed to be unique and constant for this object during its lifetime. Two objects with non-overlapping lifetimes may have the same id() value.\n",
    "\n",
    "CPython implementation detail: This is the address of the object in memory.\n",
    "\n"
   ]
  },
  {
   "cell_type": "code",
   "execution_count": 9,
   "metadata": {},
   "outputs": [
    {
     "name": "stdout",
     "output_type": "stream",
     "text": [
      "id of instance 140206867538888\n",
      "id of instance2 140206867540736\n",
      "id of example 46950264\n"
     ]
    }
   ],
   "source": [
    "instance2 = example(1, 2, 3, 4, 5, extras=6)\n",
    "print(f\"id of instance {id(instance)}\")\n",
    "print(f\"id of instance2 {id(instance2)}\")\n",
    "print(f\"id of example {id(example)}\")\n"
   ]
  },
  {
   "cell_type": "markdown",
   "metadata": {},
   "source": [
    "#### type(object)\n",
    "With one argument, return the type of an object. The return value is a type object and generally the same object as returned by object.\\_\\_class\\_\\_.\n",
    "\n",
    "The isinstance() built-in function is recommended for testing the type of an object, because it takes subclasses into account."
   ]
  },
  {
   "cell_type": "code",
   "execution_count": 10,
   "metadata": {},
   "outputs": [
    {
     "name": "stdout",
     "output_type": "stream",
     "text": [
      "type of instance <class '__main__.example'>\n",
      "type of instance.func1 <class 'method'>\n",
      "type of instance.__dict__ <class 'dict'>\n"
     ]
    }
   ],
   "source": [
    "print(f\"type of instance {type(instance)}\")\n",
    "print(f\"type of instance.func1 {type(instance.func1)}\")\n",
    "print(f\"type of instance.__dict__ {type(instance.__dict__)}\")"
   ]
  },
  {
   "cell_type": "markdown",
   "metadata": {},
   "source": [
    "#### isinstance(object, classinfo)\n",
    "Return true if the object argument is an instance of the classinfo argument, or of a (direct, indirect or virtual) subclass thereof. If object is not an object of the given type, the function always returns false. If classinfo is a tuple of type objects (or recursively, other such tuples), return true if object is an instance of any of the types. If classinfo is not a type or tuple of types and such tuples, a TypeError exception is raised."
   ]
  },
  {
   "cell_type": "code",
   "execution_count": 11,
   "metadata": {},
   "outputs": [
    {
     "name": "stdout",
     "output_type": "stream",
     "text": [
      "checking instance to example True\n",
      "checking instance to example_2 False\n",
      "checking instance to example, example2 True\n"
     ]
    }
   ],
   "source": [
    "print(f\"checking instance to example {isinstance(instance, example)}\")\n",
    "print(f\"checking instance to example_2 {isinstance(instance, example_2)}\")\n",
    "print(f\"checking instance to example, example2 {isinstance(instance, (example, example_2))}\")"
   ]
  },
  {
   "cell_type": "markdown",
   "metadata": {},
   "source": [
    "#### issubclass(class, classinfo)\n",
    "Return true if class is a subclass (direct, indirect or virtual) of classinfo. A class is considered a subclass of itself. classinfo may be a tuple of class objects, in which case every entry in classinfo will be checked. In any other case, a TypeError exception is raised."
   ]
  },
  {
   "cell_type": "code",
   "execution_count": 12,
   "metadata": {},
   "outputs": [
    {
     "name": "stdout",
     "output_type": "stream",
     "text": [
      "Exampe_2 is subclass of example True\n",
      "Exampe is subclass of example True\n",
      "example is subclas of str False\n"
     ]
    }
   ],
   "source": [
    "print(f\"Exampe_2 is subclass of example {issubclass(example_2, example)}\")\n",
    "print(f\"Exampe is subclass of example {issubclass(example, example)}\")\n",
    "print(f\"example is subclas of str {issubclass(example, str)}\")"
   ]
  },
  {
   "cell_type": "markdown",
   "metadata": {},
   "source": [
    "#### globals()\n",
    "Return a dictionary representing the current global symbol table. This is always the dictionary of the current module (inside a function or method, this is the module where it is defined, not the module from which it is called)."
   ]
  },
  {
   "cell_type": "code",
   "execution_count": 13,
   "metadata": {},
   "outputs": [
    {
     "data": {
      "text/plain": [
       "{'__name__': '__main__',\n",
       " '__doc__': 'Automatically created module for IPython interactive environment',\n",
       " '__package__': None,\n",
       " '__loader__': None,\n",
       " '__spec__': None,\n",
       " '__builtin__': <module 'builtins' (built-in)>,\n",
       " '__builtins__': <module 'builtins' (built-in)>,\n",
       " '_ih': ['',\n",
       "  'class  example:\\n    \"this is help text for the example class\"\\n    \\n    def __init__(self, arg_1, arg_2, *args, kw_default=1, **kw):\\n        \"init just saves the calling args\"\\n        self.arg_1 = arg_1\\n        self.arg_2 = arg_2\\n        self.args = args\\n        self.default = kw_default\\n        self.kw = kw\\n        \\n    def func1(self):\\n        \"func1 does nothing (just a pass)\"\\n        pass\\n    \\n    def print_locals(self):\\n        print(f\"locals: {locals()}\"\\n             )\\n        for key, value in locals().items():\\n            print(f\"{key}={value}\")\\n    \\nclass example_2(example):\\n    def func_2(self, message):\\n        print(\"example_2 func_2: message {message}\")\\n    ',\n",
       "  'help(example)',\n",
       "  'instance = example(1, 2, 3, 4, 5, extras=6)\\nhelp(instance)',\n",
       "  'help(instance.func1)',\n",
       "  'print(f\"Class dir: {dir(example)}\\\\n\\\\n\")\\nprint(f\"Instance dir: {dir(instance)}\\\\n\\\\n\")\\nprint(f\"diff: {set(dir(example)) ^ set(dir(instance))}\")',\n",
       "  'print(f\"instance: {type(instance)}\")\\nprint(f\"class example: {type(example)}\")',\n",
       "  'print(f\"instance.func1 callable {callable(instance.func1)}\")\\nprint(f\"instance callable {callable(instance)}\")\\nprint(f\"instance.arg_1 calable {callable(instance.arg_1)}\")',\n",
       "  'print(f\"does instance have a func1 {hasattr(instance, \\'func1\\')}\")\\nprint(f\"does instance have a arg_1 {hasattr(instance, \\'arg_1\\')}\")\\nprint(f\"does instance have a __class__ {hasattr(instance, \\'__class__\\')}\")\\nprint(f\"does example have a arg_1 {hasattr(example, \\'arg_1\\')}\")',\n",
       "  'instance2 = example(1, 2, 3, 4, 5, extras=6)\\nprint(f\"id of instance {id(instance)}\")\\nprint(f\"id of instance2 {id(instance2)}\")\\nprint(f\"id of example {id(example)}\")',\n",
       "  'print(f\"type of instance {type(instance)}\")\\nprint(f\"type of instance.func1 {type(instance.func1)}\")\\nprint(f\"type of instance.__dict__ {type(instance.__dict__)}\")',\n",
       "  'print(f\"checking instance to example {isinstance(instance, example)}\")\\nprint(f\"checking instance to example_2 {isinstance(instance, example_2)}\")\\nprint(f\"checking instance to example, example2 {isinstance(instance, (example, example_2))}\")',\n",
       "  'print(f\"Exampe_2 is subclass of example {issubclass(example_2, example)}\")\\nprint(f\"Exampe is subclass of example {issubclass(example, example)}\")\\nprint(f\"example is subclas of str {issubclass(example, str)}\")',\n",
       "  'globals()'],\n",
       " '_oh': {},\n",
       " '_dh': ['/home/mike/michpug'],\n",
       " 'In': ['',\n",
       "  'class  example:\\n    \"this is help text for the example class\"\\n    \\n    def __init__(self, arg_1, arg_2, *args, kw_default=1, **kw):\\n        \"init just saves the calling args\"\\n        self.arg_1 = arg_1\\n        self.arg_2 = arg_2\\n        self.args = args\\n        self.default = kw_default\\n        self.kw = kw\\n        \\n    def func1(self):\\n        \"func1 does nothing (just a pass)\"\\n        pass\\n    \\n    def print_locals(self):\\n        print(f\"locals: {locals()}\"\\n             )\\n        for key, value in locals().items():\\n            print(f\"{key}={value}\")\\n    \\nclass example_2(example):\\n    def func_2(self, message):\\n        print(\"example_2 func_2: message {message}\")\\n    ',\n",
       "  'help(example)',\n",
       "  'instance = example(1, 2, 3, 4, 5, extras=6)\\nhelp(instance)',\n",
       "  'help(instance.func1)',\n",
       "  'print(f\"Class dir: {dir(example)}\\\\n\\\\n\")\\nprint(f\"Instance dir: {dir(instance)}\\\\n\\\\n\")\\nprint(f\"diff: {set(dir(example)) ^ set(dir(instance))}\")',\n",
       "  'print(f\"instance: {type(instance)}\")\\nprint(f\"class example: {type(example)}\")',\n",
       "  'print(f\"instance.func1 callable {callable(instance.func1)}\")\\nprint(f\"instance callable {callable(instance)}\")\\nprint(f\"instance.arg_1 calable {callable(instance.arg_1)}\")',\n",
       "  'print(f\"does instance have a func1 {hasattr(instance, \\'func1\\')}\")\\nprint(f\"does instance have a arg_1 {hasattr(instance, \\'arg_1\\')}\")\\nprint(f\"does instance have a __class__ {hasattr(instance, \\'__class__\\')}\")\\nprint(f\"does example have a arg_1 {hasattr(example, \\'arg_1\\')}\")',\n",
       "  'instance2 = example(1, 2, 3, 4, 5, extras=6)\\nprint(f\"id of instance {id(instance)}\")\\nprint(f\"id of instance2 {id(instance2)}\")\\nprint(f\"id of example {id(example)}\")',\n",
       "  'print(f\"type of instance {type(instance)}\")\\nprint(f\"type of instance.func1 {type(instance.func1)}\")\\nprint(f\"type of instance.__dict__ {type(instance.__dict__)}\")',\n",
       "  'print(f\"checking instance to example {isinstance(instance, example)}\")\\nprint(f\"checking instance to example_2 {isinstance(instance, example_2)}\")\\nprint(f\"checking instance to example, example2 {isinstance(instance, (example, example_2))}\")',\n",
       "  'print(f\"Exampe_2 is subclass of example {issubclass(example_2, example)}\")\\nprint(f\"Exampe is subclass of example {issubclass(example, example)}\")\\nprint(f\"example is subclas of str {issubclass(example, str)}\")',\n",
       "  'globals()'],\n",
       " 'Out': {},\n",
       " 'get_ipython': <bound method InteractiveShell.get_ipython of <ipykernel.zmqshell.ZMQInteractiveShell object at 0x7f8478a2b908>>,\n",
       " 'exit': <IPython.core.autocall.ZMQExitAutocall at 0x7f8478a3fb00>,\n",
       " 'quit': <IPython.core.autocall.ZMQExitAutocall at 0x7f8478a3fb00>,\n",
       " '_': '',\n",
       " '__': '',\n",
       " '___': '',\n",
       " '_i': 'print(f\"Exampe_2 is subclass of example {issubclass(example_2, example)}\")\\nprint(f\"Exampe is subclass of example {issubclass(example, example)}\")\\nprint(f\"example is subclas of str {issubclass(example, str)}\")',\n",
       " '_ii': 'print(f\"checking instance to example {isinstance(instance, example)}\")\\nprint(f\"checking instance to example_2 {isinstance(instance, example_2)}\")\\nprint(f\"checking instance to example, example2 {isinstance(instance, (example, example_2))}\")',\n",
       " '_iii': 'print(f\"type of instance {type(instance)}\")\\nprint(f\"type of instance.func1 {type(instance.func1)}\")\\nprint(f\"type of instance.__dict__ {type(instance.__dict__)}\")',\n",
       " '_i1': 'class  example:\\n    \"this is help text for the example class\"\\n    \\n    def __init__(self, arg_1, arg_2, *args, kw_default=1, **kw):\\n        \"init just saves the calling args\"\\n        self.arg_1 = arg_1\\n        self.arg_2 = arg_2\\n        self.args = args\\n        self.default = kw_default\\n        self.kw = kw\\n        \\n    def func1(self):\\n        \"func1 does nothing (just a pass)\"\\n        pass\\n    \\n    def print_locals(self):\\n        print(f\"locals: {locals()}\"\\n             )\\n        for key, value in locals().items():\\n            print(f\"{key}={value}\")\\n    \\nclass example_2(example):\\n    def func_2(self, message):\\n        print(\"example_2 func_2: message {message}\")\\n    ',\n",
       " 'example': __main__.example,\n",
       " 'example_2': __main__.example_2,\n",
       " '_i2': 'help(example)',\n",
       " '_i3': 'instance = example(1, 2, 3, 4, 5, extras=6)\\nhelp(instance)',\n",
       " 'instance': <__main__.example at 0x7f847488e3c8>,\n",
       " '_i4': 'help(instance.func1)',\n",
       " '_i5': 'print(f\"Class dir: {dir(example)}\\\\n\\\\n\")\\nprint(f\"Instance dir: {dir(instance)}\\\\n\\\\n\")\\nprint(f\"diff: {set(dir(example)) ^ set(dir(instance))}\")',\n",
       " '_i6': 'print(f\"instance: {type(instance)}\")\\nprint(f\"class example: {type(example)}\")',\n",
       " '_i7': 'print(f\"instance.func1 callable {callable(instance.func1)}\")\\nprint(f\"instance callable {callable(instance)}\")\\nprint(f\"instance.arg_1 calable {callable(instance.arg_1)}\")',\n",
       " '_i8': 'print(f\"does instance have a func1 {hasattr(instance, \\'func1\\')}\")\\nprint(f\"does instance have a arg_1 {hasattr(instance, \\'arg_1\\')}\")\\nprint(f\"does instance have a __class__ {hasattr(instance, \\'__class__\\')}\")\\nprint(f\"does example have a arg_1 {hasattr(example, \\'arg_1\\')}\")',\n",
       " '_i9': 'instance2 = example(1, 2, 3, 4, 5, extras=6)\\nprint(f\"id of instance {id(instance)}\")\\nprint(f\"id of instance2 {id(instance2)}\")\\nprint(f\"id of example {id(example)}\")',\n",
       " 'instance2': <__main__.example at 0x7f847488eb00>,\n",
       " '_i10': 'print(f\"type of instance {type(instance)}\")\\nprint(f\"type of instance.func1 {type(instance.func1)}\")\\nprint(f\"type of instance.__dict__ {type(instance.__dict__)}\")',\n",
       " '_i11': 'print(f\"checking instance to example {isinstance(instance, example)}\")\\nprint(f\"checking instance to example_2 {isinstance(instance, example_2)}\")\\nprint(f\"checking instance to example, example2 {isinstance(instance, (example, example_2))}\")',\n",
       " '_i12': 'print(f\"Exampe_2 is subclass of example {issubclass(example_2, example)}\")\\nprint(f\"Exampe is subclass of example {issubclass(example, example)}\")\\nprint(f\"example is subclas of str {issubclass(example, str)}\")',\n",
       " '_i13': 'globals()'}"
      ]
     },
     "execution_count": 13,
     "metadata": {},
     "output_type": "execute_result"
    }
   ],
   "source": [
    "globals()"
   ]
  },
  {
   "cell_type": "markdown",
   "metadata": {},
   "source": [
    "#### locals()\n",
    "Update and return a dictionary representing the current local symbol table. Free variables are returned by locals() when it is called in function blocks, but not in class blocks.\n",
    "\n",
    "Note The contents of this dictionary should not be modified; changes may not affect the values of local and free variables used by the interpreter.\n"
   ]
  },
  {
   "cell_type": "code",
   "execution_count": 14,
   "metadata": {},
   "outputs": [
    {
     "name": "stdout",
     "output_type": "stream",
     "text": [
      "locals: {'local_3': ['one', 'two', 'three'], 'local_2': 123, 'local_1': 'test1', 'kw': {'kw_2': 'from caller'}, 'args': (2, 3), 'kw_1': 'default_1', 'arg_1': 1}\n"
     ]
    }
   ],
   "source": [
    "def local_example(arg_1, *args, kw_1='default_1', **kw):\n",
    "    local_1 = 'test1'\n",
    "    local_2 = 123\n",
    "    local_3 = ['one', 'two', 'three']\n",
    "    print(f\"locals: {locals()}\")\n",
    "\n",
    "local_example(1, 2, 3, kw_2='from caller')"
   ]
  },
  {
   "cell_type": "markdown",
   "metadata": {},
   "source": [
    "#### vars([object])\n",
    "Return the \\_\\_dict\\_\\_ attribute for a module, class, instance, or any other object with a \\_\\_dict\\_\\_ attribute.\n",
    "\n",
    "Objects such as modules and instances have an updateable \\_\\_dict\\_\\_ attribute; however, other objects may have write restrictions on their \\_\\_dict\\_\\_ attributes (for example, classes use a types.MappingProxyType to prevent direct dictionary updates).\n",
    "\n",
    "Without an argument, vars() acts like locals(). Note, the locals dictionary is only useful for reads since updates to the locals dictionary are ignored."
   ]
  },
  {
   "cell_type": "markdown",
   "metadata": {},
   "source": [
    "## inspect module\n",
    "\n",
    "### Retrieving Source code\n",
    "- getdoc - Get the documentation string for an object\n",
    "- getcomments - Return in a single string any lines of comments immediately preceding the object’s source code\n",
    "- getfile - Get the documentation string for an object\n",
    "- getmodule - Get the documentation string for an object\n",
    "- getsourcefile - Return the name of the Python source file in which an object was defined\n",
    "- getsourcelines - Return a list of source lines and starting line number for an object\n",
    "- getsource - Return the text of the source code for an object\n",
    "\n",
    "### introspecting callables\n",
    "- signature - get a Signature object for the callable\n",
    "- getclasstree - Arrange the given list of classes into a hierarchy of nested lists.\n",
    "- getargvalues - Get information about arguments passed into a particular frame.\n",
    "- getmro - Return a tuple of class cls’s base classes, including cls, in method resolution order\n",
    "\n",
    "### Interpreter stack\n",
    "- getframeinfo - Get information about a frame or traceback object\n",
    "- getouterframes - Get a list of frame records for a frame and all outer frames\n",
    "- getinnerfames - Get a list of frame records for a frame and all outer frames\n",
    "- currentframe - Return the frame object for the caller’s stack frame\n",
    "- stack - Return the frame object for the caller’s stack frame\n",
    "- trace - Return a list of frame records for the stack between the current frame and the frame in which an exception currently being handled was raised in"
   ]
  },
  {
   "cell_type": "markdown",
   "metadata": {},
   "source": [
    "## Retrieving Source code"
   ]
  },
  {
   "cell_type": "code",
   "execution_count": 15,
   "metadata": {},
   "outputs": [],
   "source": [
    "import inspect as ip\n",
    "import example_code\n"
   ]
  },
  {
   "cell_type": "markdown",
   "metadata": {},
   "source": [
    "#### inspect.getdoc(object)\n",
    "Get the documentation string for an object, cleaned up with cleandoc(). If the documentation string for an object is not provided and the object is a class, a method, a property or a descriptor, retrieve the documentation string from the inheritance hierarchy.\n",
    "\n",
    "Changed in version 3.5: Documentation strings are now inherited if not overridden.\n",
    "\n"
   ]
  },
  {
   "cell_type": "code",
   "execution_count": 16,
   "metadata": {},
   "outputs": [
    {
     "name": "stdout",
     "output_type": "stream",
     "text": [
      "example_code doc Example function doc string\n",
      "example_class doc Example class doc string\n",
      "example_class.__init__ doc Example class __init__ doc string\n"
     ]
    }
   ],
   "source": [
    "print(f\"example_code doc {ip.getdoc(example_code.example_func)}\")\n",
    "print(f\"example_class doc {ip.getdoc(example_code.example_class)}\")\n",
    "print(f\"example_class.__init__ doc {ip.getdoc(example_code.example_class.__init__)}\")"
   ]
  },
  {
   "cell_type": "markdown",
   "metadata": {},
   "source": [
    "#### inspect.getcomments(object)\n",
    "Return in a single string any lines of comments immediately preceding the object’s source code (for a class, function, or method), or at the top of the Python source file (if the object is a module). If the object’s source code is unavailable, return None. This could happen if the object has been defined in C or the interactive shell."
   ]
  },
  {
   "cell_type": "code",
   "execution_count": 17,
   "metadata": {},
   "outputs": [
    {
     "name": "stdout",
     "output_type": "stream",
     "text": [
      "example_code comment # comment code example_func\n",
      "\n",
      "example_class comment # comment code for example_class\n",
      "\n",
      "example_class.__init__ comment #comment code for example class __init__\n",
      "\n"
     ]
    }
   ],
   "source": [
    "print(f\"example_code comment {ip.getcomments(example_code.example_func)}\")\n",
    "print(f\"example_class comment {ip.getcomments(example_code.example_class)}\")\n",
    "print(f\"example_class.__init__ comment {ip.getcomments(example_code.example_class.__init__)}\")"
   ]
  },
  {
   "cell_type": "markdown",
   "metadata": {},
   "source": [
    "#### inspect.getfile(object)\n",
    "Return the name of the (text or binary) file in which an object was defined. This will fail with a TypeError if the object is a built-in module, class, or function."
   ]
  },
  {
   "cell_type": "code",
   "execution_count": 18,
   "metadata": {},
   "outputs": [
    {
     "name": "stdout",
     "output_type": "stream",
     "text": [
      "File for example_func /home/mike/michpug/example_code.py\n",
      "File for example_class /home/mike/michpug/example_code.py\n",
      "File for inspect.getfile /usr/lib/python3.6/inspect.py\n"
     ]
    }
   ],
   "source": [
    "print(f\"File for example_func {ip.getfile(example_code.example_func)}\")\n",
    "print(f\"File for example_class {ip.getfile(example_code.example_class)}\")\n",
    "print(f\"File for inspect.getfile {ip.getfile(ip.getfile)}\")"
   ]
  },
  {
   "cell_type": "markdown",
   "metadata": {},
   "source": [
    "#### inspect.getmodule(object)\n",
    "Try to guess which module an object was defined in."
   ]
  },
  {
   "cell_type": "code",
   "execution_count": 19,
   "metadata": {},
   "outputs": [
    {
     "name": "stdout",
     "output_type": "stream",
     "text": [
      "module for example_func <module 'example_code' from '/home/mike/michpug/example_code.py'>\n",
      "module for example_class <module 'example_code' from '/home/mike/michpug/example_code.py'>\n",
      "module for getmodue <module 'inspect' from '/usr/lib/python3.6/inspect.py'>\n",
      "type for getmodule <class 'module'>\n"
     ]
    }
   ],
   "source": [
    "print(f\"module for example_func {ip.getmodule(example_code.example_func)}\")\n",
    "print(f\"module for example_class {ip.getmodule(example_code.example_class)}\")\n",
    "print(f\"module for getmodue {ip.getmodule(ip.getmodule)}\")\n",
    "print(f\"type for getmodule {type(ip.getmodule(example_code.example_func))}\")"
   ]
  },
  {
   "cell_type": "markdown",
   "metadata": {},
   "source": [
    "#### inspect.getsourcelines(object)\n",
    "Return a list of source lines and starting line number for an object. The argument may be a module, class, method, function, traceback, frame, or code object. The source code is returned as a list of the lines corresponding to the object and the line number indicates where in the original source file the first line of code was found. An OSError is raised if the source code cannot be retrieved.\n",
    "\n",
    "Changed in version 3.3: OSError is raised instead of IOError, now an alias of the former."
   ]
  },
  {
   "cell_type": "code",
   "execution_count": 20,
   "metadata": {},
   "outputs": [
    {
     "name": "stdout",
     "output_type": "stream",
     "text": [
      "getsourcelines for example_func starts at 4 \n",
      "def example_func(arg_1, kw_1='kw arg 1', *args, **kw):\n",
      "    \"Example function doc string\"\n",
      "    print(f\"example_func call with arg_1={arg_1} kw_1={kw_1} *args={args} kw={kw}\")\n",
      "\n",
      "****************************************\n",
      "getsourelines for example_class starts at 9 \n",
      "class example_class:\n",
      "    \"Example class doc string\"\n",
      "\n",
      "    #comment code for example class __init__\n",
      "    def __init__(self, arg_1, arg_2=1, *args, **kw):\n",
      "        \"Example class __init__ doc string\"\n",
      "        self.arg_1 = arg_1\n",
      "        self.arg_2 = arg_2\n",
      "        self.args = args\n",
      "        self.kw = kw\n",
      "\n",
      "    def __str__(self):\n",
      "        \"Example class __str__ doc string\"\n",
      "        print(f\"arg_1={self.arg_1} arg_2={self.arg_2} args={self.args} kw={self.kw}\")\n",
      "\n"
     ]
    }
   ],
   "source": [
    "source, line = ip.getsourcelines(example_code.example_func)\n",
    "print(f\"getsourcelines for example_func starts at {line} \\n{''.join(source)}\")\n",
    "print('*' * 40)\n",
    "source, line = ip.getsourcelines(example_code.example_class)\n",
    "print(f\"getsourelines for example_class starts at {line} \\n{''.join(source)}\")"
   ]
  },
  {
   "cell_type": "markdown",
   "metadata": {},
   "source": [
    "#### inspect.getsource(object)\n",
    "Return the text of the source code for an object. The argument may be a module, class, method, function, traceback, frame, or code object. The source code is returned as a single string. An OSError is raised if the source code cannot be retrieved.\n",
    "\n",
    "Changed in version 3.3: OSError is raised instead of IOError, now an alias of the former."
   ]
  },
  {
   "cell_type": "code",
   "execution_count": 21,
   "metadata": {},
   "outputs": [
    {
     "name": "stdout",
     "output_type": "stream",
     "text": [
      "source for exampe_func \n",
      "def example_func(arg_1, kw_1='kw arg 1', *args, **kw):\n",
      "    \"Example function doc string\"\n",
      "    print(f\"example_func call with arg_1={arg_1} kw_1={kw_1} *args={args} kw={kw}\")\n",
      "\n",
      "****************************************\n",
      "source for example_class\n",
      "class example_class:\n",
      "    \"Example class doc string\"\n",
      "\n",
      "    #comment code for example class __init__\n",
      "    def __init__(self, arg_1, arg_2=1, *args, **kw):\n",
      "        \"Example class __init__ doc string\"\n",
      "        self.arg_1 = arg_1\n",
      "        self.arg_2 = arg_2\n",
      "        self.args = args\n",
      "        self.kw = kw\n",
      "\n",
      "    def __str__(self):\n",
      "        \"Example class __str__ doc string\"\n",
      "        print(f\"arg_1={self.arg_1} arg_2={self.arg_2} args={self.args} kw={self.kw}\")\n",
      "\n"
     ]
    }
   ],
   "source": [
    "print(f\"source for exampe_func \\n{''.join(ip.getsource(example_code.example_func))}\")\n",
    "print('*' * 40)\n",
    "print(f\"source for example_class\\n{''.join(ip.getsource(example_code.example_class))}\")"
   ]
  },
  {
   "cell_type": "markdown",
   "metadata": {},
   "source": [
    "## Introspecting callables"
   ]
  },
  {
   "cell_type": "markdown",
   "metadata": {},
   "source": [
    "#### inspect.signature(callable, *, follow_wrapped=True)\n",
    "\n",
    "Return a Signature object for the given callable\n",
    "\n",
    "Accepts a wide range of python callables, from plain functions and classes to functools.partial() objects.\n",
    "\n",
    "Raises ValueError if no signature can be provided, and TypeError if that type of object is not supported.\n",
    "\n",
    "New in version 3.5: follow_wrapped parameter. Pass False to get a signature of callable specifically (callable.\\_\\_wrapped\\_\\_ will not be used to unwrap decorated callables.)\n",
    "\n",
    "Note Some callables may not be introspectable in certain implementations of Python. For example, in CPython, some built-in functions defined in C provide no metadata about their arguments.\n"
   ]
  },
  {
   "cell_type": "code",
   "execution_count": 22,
   "metadata": {},
   "outputs": [
    {
     "name": "stdout",
     "output_type": "stream",
     "text": [
      "def stack_on(arg_1)\n",
      "def __init__(self, arg_1, arg_2=1, *args, **kw)\n",
      "self: kind:1 default=<class 'inspect._empty'>\n",
      "arg_1: kind:1 default=<class 'inspect._empty'>\n",
      "arg_2: kind:1 default=1\n",
      "args: kind:2 default=<class 'inspect._empty'>\n",
      "kw: kind:4 default=<class 'inspect._empty'>\n"
     ]
    }
   ],
   "source": [
    "print(f\"def stack_on{ip.signature(example_code.stack_one)}\")\n",
    "print(f\"def __init__{ip.signature(example_code.example_subclass.__init__)}\")\n",
    "sig = ip.signature(example_code.example_subclass.__init__)\n",
    "for param in sig.parameters.values():\n",
    "    print(f\"{param.name}: kind:{param.kind} default={param.default}\")"
   ]
  },
  {
   "cell_type": "markdown",
   "metadata": {},
   "source": [
    "#### inspect.getclasstree(classes, unique=False)\n",
    "Arrange the given list of classes into a hierarchy of nested lists. Where a nested list appears, it contains classes derived from the class whose entry immediately precedes the list. Each entry is a 2-tuple containing a class and a tuple of its base classes. If the unique argument is true, exactly one entry appears in the returned structure for each class in the given list. Otherwise, classes using multiple inheritance and their descendants will appear multiple times."
   ]
  },
  {
   "cell_type": "code",
   "execution_count": 23,
   "metadata": {},
   "outputs": [
    {
     "name": "stdout",
     "output_type": "stream",
     "text": [
      "[(<class 'object'>, ()), [(<class 'example_code.example_class'>, (<class 'object'>,))]]\n",
      "[(<class 'example_code.example_class'>, (<class 'object'>,)), [(<class 'example_code.example_subclass'>, (<class 'example_code.example_class'>,))]]\n"
     ]
    }
   ],
   "source": [
    "print(ip.getclasstree([example_code.example_class]))\n",
    "print(ip.getclasstree([example_code.example_subclass]))"
   ]
  },
  {
   "cell_type": "markdown",
   "metadata": {},
   "source": [
    "#### inspect.getargvalues(frame)\n",
    "Get information about arguments passed into a particular frame. A named tuple ArgInfo(args, varargs, keywords, locals) is returned. args is a list of the argument names. varargs and keywords are the names of the * and ** arguments or None. locals is the locals dictionary of the given frame."
   ]
  },
  {
   "cell_type": "code",
   "execution_count": 24,
   "metadata": {},
   "outputs": [
    {
     "name": "stdout",
     "output_type": "stream",
     "text": [
      "calling args to stack_three ArgInfo(args=['arg_1'], varargs=None, keywords=None, locals={'local_data': 3.0, 'arg_1': 3})\n",
      "calling for stack_three:\n",
      "  args=['arg_1']\n",
      "  varargs=None\n",
      "  keywords=None\n",
      "  locals={'local_data': 3.0, 'arg_1': 3}\n",
      "calling for stack_two:\n",
      "  args=['arg_1']\n",
      "  varargs=None\n",
      "  keywords=None\n",
      "  locals={'local_data': 3.0, 'arg_1': 3}\n",
      "calling for stack_one:\n",
      "  args=['arg_1']\n",
      "  varargs=None\n",
      "  keywords=None\n",
      "  locals={'local_data': 3.0, 'arg_1': 3}\n",
      "calling for <module>:\n",
      "  args=['arg_1']\n",
      "  varargs=None\n",
      "  keywords=None\n",
      "  locals={'local_data': 3.0, 'arg_1': 3}\n",
      "calling for run_code:\n",
      "  args=['arg_1']\n",
      "  varargs=None\n",
      "  keywords=None\n",
      "  locals={'local_data': 3.0, 'arg_1': 3}\n",
      "calling for run_ast_nodes:\n",
      "  args=['arg_1']\n",
      "  varargs=None\n",
      "  keywords=None\n",
      "  locals={'local_data': 3.0, 'arg_1': 3}\n",
      "calling for _run_cell:\n",
      "  args=['arg_1']\n",
      "  varargs=None\n",
      "  keywords=None\n",
      "  locals={'local_data': 3.0, 'arg_1': 3}\n",
      "calling for run_cell:\n",
      "  args=['arg_1']\n",
      "  varargs=None\n",
      "  keywords=None\n",
      "  locals={'local_data': 3.0, 'arg_1': 3}\n",
      "calling for run_cell:\n",
      "  args=['arg_1']\n",
      "  varargs=None\n",
      "  keywords=None\n",
      "  locals={'local_data': 3.0, 'arg_1': 3}\n",
      "calling for do_execute:\n",
      "  args=['arg_1']\n",
      "  varargs=None\n",
      "  keywords=None\n",
      "  locals={'local_data': 3.0, 'arg_1': 3}\n",
      "calling for execute_request:\n",
      "  args=['arg_1']\n",
      "  varargs=None\n",
      "  keywords=None\n",
      "  locals={'local_data': 3.0, 'arg_1': 3}\n",
      "calling for dispatch_shell:\n",
      "  args=['arg_1']\n",
      "  varargs=None\n",
      "  keywords=None\n",
      "  locals={'local_data': 3.0, 'arg_1': 3}\n",
      "calling for dispatcher:\n",
      "  args=['arg_1']\n",
      "  varargs=None\n",
      "  keywords=None\n",
      "  locals={'local_data': 3.0, 'arg_1': 3}\n",
      "calling for null_wrapper:\n",
      "  args=['arg_1']\n",
      "  varargs=None\n",
      "  keywords=None\n",
      "  locals={'local_data': 3.0, 'arg_1': 3}\n",
      "calling for _run_callback:\n",
      "  args=['arg_1']\n",
      "  varargs=None\n",
      "  keywords=None\n",
      "  locals={'local_data': 3.0, 'arg_1': 3}\n",
      "calling for _handle_recv:\n",
      "  args=['arg_1']\n",
      "  varargs=None\n",
      "  keywords=None\n",
      "  locals={'local_data': 3.0, 'arg_1': 3}\n",
      "calling for _handle_events:\n",
      "  args=['arg_1']\n",
      "  varargs=None\n",
      "  keywords=None\n",
      "  locals={'local_data': 3.0, 'arg_1': 3}\n",
      "calling for null_wrapper:\n",
      "  args=['arg_1']\n",
      "  varargs=None\n",
      "  keywords=None\n",
      "  locals={'local_data': 3.0, 'arg_1': 3}\n",
      "calling for _handle_events:\n",
      "  args=['arg_1']\n",
      "  varargs=None\n",
      "  keywords=None\n",
      "  locals={'local_data': 3.0, 'arg_1': 3}\n",
      "calling for _run:\n",
      "  args=['arg_1']\n",
      "  varargs=None\n",
      "  keywords=None\n",
      "  locals={'local_data': 3.0, 'arg_1': 3}\n",
      "calling for _run_once:\n",
      "  args=['arg_1']\n",
      "  varargs=None\n",
      "  keywords=None\n",
      "  locals={'local_data': 3.0, 'arg_1': 3}\n",
      "calling for run_forever:\n",
      "  args=['arg_1']\n",
      "  varargs=None\n",
      "  keywords=None\n",
      "  locals={'local_data': 3.0, 'arg_1': 3}\n",
      "calling for start:\n",
      "  args=['arg_1']\n",
      "  varargs=None\n",
      "  keywords=None\n",
      "  locals={'local_data': 3.0, 'arg_1': 3}\n",
      "calling for start:\n",
      "  args=['arg_1']\n",
      "  varargs=None\n",
      "  keywords=None\n",
      "  locals={'local_data': 3.0, 'arg_1': 3}\n",
      "calling for launch_instance:\n",
      "  args=['arg_1']\n",
      "  varargs=None\n",
      "  keywords=None\n",
      "  locals={'local_data': 3.0, 'arg_1': 3}\n",
      "calling for <module>:\n",
      "  args=['arg_1']\n",
      "  varargs=None\n",
      "  keywords=None\n",
      "  locals={'local_data': 3.0, 'arg_1': 3}\n",
      "calling for _run_code:\n",
      "  args=['arg_1']\n",
      "  varargs=None\n",
      "  keywords=None\n",
      "  locals={'local_data': 3.0, 'arg_1': 3}\n",
      "calling for _run_module_as_main:\n",
      "  args=['arg_1']\n",
      "  varargs=None\n",
      "  keywords=None\n",
      "  locals={'local_data': 3.0, 'arg_1': 3}\n"
     ]
    }
   ],
   "source": [
    "frame = example_code.stack_one('test')\n",
    "frames = ip.getouterframes(frame)\n",
    "print(f\"calling args to stack_three {ip.getargvalues(frame)}\")\n",
    "for info in frames:\n",
    "    print(f\"calling for {info.function}:\")\n",
    "    args = ip.getargvalues(frame)\n",
    "    for key in args._fields:\n",
    "        print(f\"  {key}={getattr(args, key)}\")"
   ]
  },
  {
   "cell_type": "markdown",
   "metadata": {},
   "source": [
    "#### inspect.getmro(cls)\n",
    "Return a tuple of class cls’s base classes, including cls, in method resolution order. No class appears more than once in this tuple. Note that the method resolution order depends on cls’s type. Unless a very peculiar user-defined metatype is in use, cls will be the first element of the tuple."
   ]
  },
  {
   "cell_type": "code",
   "execution_count": 25,
   "metadata": {},
   "outputs": [
    {
     "name": "stdout",
     "output_type": "stream",
     "text": [
      "example_class mro (<class 'example_code.example_class'>, <class 'object'>)\n",
      "example_subclass mro (<class 'example_code.example_subclass'>, <class 'example_code.example_class'>, <class 'object'>)\n",
      "mro for klass_four (<class '__main__.klass_four'>, <class '__main__.klass_three'>, <class '__main__.klass_one'>, <class '__main__.klass_two'>, <class 'object'>)\n"
     ]
    }
   ],
   "source": [
    "\n",
    "class klass_one:\n",
    "    pass\n",
    "\n",
    "class klass_two:\n",
    "    pass\n",
    "\n",
    "class klass_three(klass_one, klass_two):\n",
    "    pass\n",
    "\n",
    "class klass_four(klass_three):\n",
    "    pass\n",
    "\n",
    "print(f\"example_class mro {ip.getmro(example_code.example_class)}\")\n",
    "print(f\"example_subclass mro {ip.getmro(example_code.example_subclass)}\")\n",
    "print(f\"mro for klass_four {ip.getmro(klass_four)}\")"
   ]
  },
  {
   "cell_type": "markdown",
   "metadata": {},
   "source": [
    "## The interpreter stack\n",
    "When the following functions return “frame records,” each record is a named tuple FrameInfo(frame, filename, lineno, function, code_context, index). The tuple contains the frame object, the filename, the line number of the current line, the function name, a list of lines of context from the source code, and the index of the current line within that list.\n"
   ]
  },
  {
   "cell_type": "code",
   "execution_count": 26,
   "metadata": {},
   "outputs": [],
   "source": [
    "def print_frameinfo(frameinfo, ident=''):\n",
    "    print(f\"{ident}filename={frameinfo.filename}\")\n",
    "    print(f\"{ident}lineno={frameinfo.lineno}\")\n",
    "    print(f\"{ident}function={frameinfo.function}\")\n",
    "    print(f\"{ident}code_context={frameinfo.code_context}\")\n",
    "    print(f\"{ident}index={frameinfo.index}\")\n",
    "    \n",
    "def print_frameinfos(frameinfos):\n",
    "    for frame_no, frameinfo in enumerate(frameinfos):\n",
    "      print(f\"Frameinfo {frame_no}:\")\n",
    "      print_frameinfo(frameinfo, '  ')\n",
    "        \n",
    "def print_frame(frame):\n",
    "    print_frameinfo(ip.getframeinfo(frame))\n",
    "\n",
    "\n"
   ]
  },
  {
   "cell_type": "markdown",
   "metadata": {},
   "source": [
    "#### inspect.getframeinfo(frame, context=1)\n",
    "Get information about a frame or traceback object. A named tuple Traceback(filename, lineno, function, code_context, index) is returned.\n",
    "\n"
   ]
  },
  {
   "cell_type": "code",
   "execution_count": 27,
   "metadata": {},
   "outputs": [
    {
     "name": "stdout",
     "output_type": "stream",
     "text": [
      "filename=/home/mike/michpug/example_code.py\n",
      "lineno=39\n",
      "function=stack_three\n",
      "code_context=['    return sys._getframe(0)\\n']\n",
      "index=0\n"
     ]
    }
   ],
   "source": [
    "print_frameinfo(ip.getframeinfo(example_code.stack_three(1)))"
   ]
  },
  {
   "cell_type": "markdown",
   "metadata": {},
   "source": [
    "#### inspect.getouterframes(frame, context=1)\n",
    "Get a list of frame records for a frame and all outer frames. These frames represent the calls that lead to the creation of frame. The first entry in the returned list represents frame; the last entry represents the outermost call on frame’s stack.\n",
    "\n",
    "Changed in version 3.5: A list of named tuples FrameInfo(frame, filename, lineno, function, code_context, index) is returned."
   ]
  },
  {
   "cell_type": "code",
   "execution_count": 28,
   "metadata": {},
   "outputs": [
    {
     "name": "stdout",
     "output_type": "stream",
     "text": [
      "Frameinfo 0:\n",
      "  filename=/home/mike/michpug/example_code.py\n",
      "  lineno=39\n",
      "  function=stack_three\n",
      "  code_context=['    return sys._getframe(0)\\n']\n",
      "  index=0\n",
      "Frameinfo 1:\n",
      "  filename=/home/mike/michpug/example_code.py\n",
      "  lineno=35\n",
      "  function=stack_two\n",
      "  code_context=['    return stack_three(3)\\n']\n",
      "  index=0\n",
      "Frameinfo 2:\n",
      "  filename=/home/mike/michpug/example_code.py\n",
      "  lineno=31\n",
      "  function=stack_one\n",
      "  code_context=['    return stack_two(2)\\n']\n",
      "  index=0\n",
      "Frameinfo 3:\n",
      "  filename=<ipython-input-28-a09a9afe5f79>\n",
      "  lineno=1\n",
      "  function=<module>\n",
      "  code_context=['print_frameinfos(ip.getouterframes(example_code.stack_one(1)))\\n']\n",
      "  index=0\n",
      "Frameinfo 4:\n",
      "  filename=/usr/local/lib/python3.6/dist-packages/IPython/core/interactiveshell.py\n",
      "  lineno=2963\n",
      "  function=run_code\n",
      "  code_context=['                exec(code_obj, self.user_global_ns, self.user_ns)\\n']\n",
      "  index=0\n",
      "Frameinfo 5:\n",
      "  filename=/usr/local/lib/python3.6/dist-packages/IPython/core/interactiveshell.py\n",
      "  lineno=2909\n",
      "  function=run_ast_nodes\n",
      "  code_context=['                if self.run_code(code, result):\\n']\n",
      "  index=0\n",
      "Frameinfo 6:\n",
      "  filename=/usr/local/lib/python3.6/dist-packages/IPython/core/interactiveshell.py\n",
      "  lineno=2785\n",
      "  function=_run_cell\n",
      "  code_context=['                   interactivity=interactivity, compiler=compiler, result=result)\\n']\n",
      "  index=0\n",
      "Frameinfo 7:\n",
      "  filename=/usr/local/lib/python3.6/dist-packages/IPython/core/interactiveshell.py\n",
      "  lineno=2662\n",
      "  function=run_cell\n",
      "  code_context=['                raw_cell, store_history, silent, shell_futures)\\n']\n",
      "  index=0\n",
      "Frameinfo 8:\n",
      "  filename=/usr/local/lib/python3.6/dist-packages/ipykernel/zmqshell.py\n",
      "  lineno=537\n",
      "  function=run_cell\n",
      "  code_context=['        return super(ZMQInteractiveShell, self).run_cell(*args, **kwargs)\\n']\n",
      "  index=0\n",
      "Frameinfo 9:\n",
      "  filename=/usr/local/lib/python3.6/dist-packages/ipykernel/ipkernel.py\n",
      "  lineno=208\n",
      "  function=do_execute\n",
      "  code_context=['            res = shell.run_cell(code, store_history=store_history, silent=silent)\\n']\n",
      "  index=0\n",
      "Frameinfo 10:\n",
      "  filename=/usr/local/lib/python3.6/dist-packages/ipykernel/kernelbase.py\n",
      "  lineno=399\n",
      "  function=execute_request\n",
      "  code_context=['                                        user_expressions, allow_stdin)\\n']\n",
      "  index=0\n",
      "Frameinfo 11:\n",
      "  filename=/usr/local/lib/python3.6/dist-packages/ipykernel/kernelbase.py\n",
      "  lineno=233\n",
      "  function=dispatch_shell\n",
      "  code_context=['                handler(stream, idents, msg)\\n']\n",
      "  index=0\n",
      "Frameinfo 12:\n",
      "  filename=/usr/local/lib/python3.6/dist-packages/ipykernel/kernelbase.py\n",
      "  lineno=283\n",
      "  function=dispatcher\n",
      "  code_context=['                return self.dispatch_shell(stream, msg)\\n']\n",
      "  index=0\n",
      "Frameinfo 13:\n",
      "  filename=/usr/local/lib/python3.6/dist-packages/tornado/stack_context.py\n",
      "  lineno=300\n",
      "  function=null_wrapper\n",
      "  code_context=['                return fn(*args, **kwargs)\\n']\n",
      "  index=0\n",
      "Frameinfo 14:\n",
      "  filename=/usr/local/lib/python3.6/dist-packages/zmq/eventloop/zmqstream.py\n",
      "  lineno=432\n",
      "  function=_run_callback\n",
      "  code_context=['                callback(*args, **kwargs)\\n']\n",
      "  index=0\n",
      "Frameinfo 15:\n",
      "  filename=/usr/local/lib/python3.6/dist-packages/zmq/eventloop/zmqstream.py\n",
      "  lineno=480\n",
      "  function=_handle_recv\n",
      "  code_context=['                self._run_callback(callback, msg)\\n']\n",
      "  index=0\n",
      "Frameinfo 16:\n",
      "  filename=/usr/local/lib/python3.6/dist-packages/zmq/eventloop/zmqstream.py\n",
      "  lineno=450\n",
      "  function=_handle_events\n",
      "  code_context=['                self._handle_recv()\\n']\n",
      "  index=0\n",
      "Frameinfo 17:\n",
      "  filename=/usr/local/lib/python3.6/dist-packages/tornado/stack_context.py\n",
      "  lineno=300\n",
      "  function=null_wrapper\n",
      "  code_context=['                return fn(*args, **kwargs)\\n']\n",
      "  index=0\n",
      "Frameinfo 18:\n",
      "  filename=/usr/local/lib/python3.6/dist-packages/tornado/platform/asyncio.py\n",
      "  lineno=122\n",
      "  function=_handle_events\n",
      "  code_context=['        handler_func(fileobj, events)\\n']\n",
      "  index=0\n",
      "Frameinfo 19:\n",
      "  filename=/usr/lib/python3.6/asyncio/events.py\n",
      "  lineno=145\n",
      "  function=_run\n",
      "  code_context=['            self._callback(*self._args)\\n']\n",
      "  index=0\n",
      "Frameinfo 20:\n",
      "  filename=/usr/lib/python3.6/asyncio/base_events.py\n",
      "  lineno=1432\n",
      "  function=_run_once\n",
      "  code_context=['                handle._run()\\n']\n",
      "  index=0\n",
      "Frameinfo 21:\n",
      "  filename=/usr/lib/python3.6/asyncio/base_events.py\n",
      "  lineno=422\n",
      "  function=run_forever\n",
      "  code_context=['                self._run_once()\\n']\n",
      "  index=0\n",
      "Frameinfo 22:\n",
      "  filename=/usr/local/lib/python3.6/dist-packages/tornado/platform/asyncio.py\n",
      "  lineno=132\n",
      "  function=start\n",
      "  code_context=['            self.asyncio_loop.run_forever()\\n']\n",
      "  index=0\n",
      "Frameinfo 23:\n",
      "  filename=/usr/local/lib/python3.6/dist-packages/ipykernel/kernelapp.py\n",
      "  lineno=486\n",
      "  function=start\n",
      "  code_context=['            self.io_loop.start()\\n']\n",
      "  index=0\n",
      "Frameinfo 24:\n",
      "  filename=/usr/local/lib/python3.6/dist-packages/traitlets/config/application.py\n",
      "  lineno=658\n",
      "  function=launch_instance\n",
      "  code_context=['        app.start()\\n']\n",
      "  index=0\n",
      "Frameinfo 25:\n",
      "  filename=/usr/local/lib/python3.6/dist-packages/ipykernel_launcher.py\n",
      "  lineno=16\n",
      "  function=<module>\n",
      "  code_context=['    app.launch_new_instance()\\n']\n",
      "  index=0\n",
      "Frameinfo 26:\n",
      "  filename=/usr/lib/python3.6/runpy.py\n",
      "  lineno=85\n",
      "  function=_run_code\n",
      "  code_context=['    exec(code, run_globals)\\n']\n",
      "  index=0\n",
      "Frameinfo 27:\n",
      "  filename=/usr/lib/python3.6/runpy.py\n",
      "  lineno=193\n",
      "  function=_run_module_as_main\n",
      "  code_context=['                     \"__main__\", mod_spec)\\n']\n",
      "  index=0\n"
     ]
    }
   ],
   "source": [
    "print_frameinfos(ip.getouterframes(example_code.stack_one(1)))\n",
    "    "
   ]
  },
  {
   "cell_type": "markdown",
   "metadata": {},
   "source": [
    "#### inspect.getinnerframes(traceback, context=1)\n",
    "Get a list of frame records for a traceback’s frame and all inner frames. These frames represent calls made as a consequence of frame. The first entry in the list represents traceback; the last entry represents where the exception was raised.\n",
    "\n",
    "Changed in version 3.5: A list of named tuples FrameInfo(frame, filename, lineno, function, code_context, index) is returned."
   ]
  },
  {
   "cell_type": "code",
   "execution_count": null,
   "metadata": {},
   "outputs": [],
   "source": [
    "def inner_one():\n",
    "    return inner_two()\n",
    "    \n",
    "def inner_two():\n",
    "    return inner_three()\n",
    "    \n",
    "def inner_three():\n",
    "    return 1\n",
    "    "
   ]
  },
  {
   "cell_type": "markdown",
   "metadata": {},
   "source": [
    "#### inspect.currentframe()\n",
    "Return the frame object for the caller’s stack frame.\n",
    "\n",
    "CPython implementation detail: This function relies on Python stack frame support in the interpreter, which isn’t guaranteed to exist in all implementations of Python. If running in an implementation without Python stack frame support this function returns None."
   ]
  },
  {
   "cell_type": "code",
   "execution_count": 29,
   "metadata": {},
   "outputs": [
    {
     "name": "stdout",
     "output_type": "stream",
     "text": [
      "filename=<ipython-input-29-582bdaff9d9c>\n",
      "lineno=2\n",
      "function=frame_current\n",
      "code_context=['    return ip.currentframe()\\n']\n",
      "index=0\n"
     ]
    }
   ],
   "source": [
    "def frame_current():\n",
    "    return ip.currentframe()\n",
    "\n",
    "print_frame(frame_current())\n"
   ]
  },
  {
   "cell_type": "markdown",
   "metadata": {},
   "source": [
    "#### inspect.stack(context=1)\n",
    "Return a list of frame records for the caller’s stack. The first entry in the returned list represents the caller; the last entry represents the outermost call on the stack.\n",
    "\n",
    "Changed in version 3.5: A list of named tuples FrameInfo(frame, filename, lineno, function, code_context, index) is returned."
   ]
  },
  {
   "cell_type": "markdown",
   "metadata": {},
   "source": [
    "#### inspect.trace(context=1)\n",
    "Return a list of frame records for the stack between the current frame and the frame in which an exception currently being handled was raised in. The first entry in the list represents the caller; the last entry represents where the exception was raised.\n",
    "\n",
    "Changed in version 3.5: A list of named tuples FrameInfo(frame, filename, lineno, function, code_context, index) is returned.\n",
    "\n"
   ]
  },
  {
   "cell_type": "code",
   "execution_count": 30,
   "metadata": {},
   "outputs": [
    {
     "name": "stdout",
     "output_type": "stream",
     "text": [
      "Frameinfo 0:\n",
      "  filename=<ipython-input-30-0dfcce2d4471>\n",
      "  lineno=11\n",
      "  function=<module>\n",
      "  code_context=['    trace_one()\\n']\n",
      "  index=0\n",
      "Frameinfo 1:\n",
      "  filename=<ipython-input-30-0dfcce2d4471>\n",
      "  lineno=2\n",
      "  function=trace_one\n",
      "  code_context=['    trace_two()\\n']\n",
      "  index=0\n",
      "Frameinfo 2:\n",
      "  filename=<ipython-input-30-0dfcce2d4471>\n",
      "  lineno=5\n",
      "  function=trace_two\n",
      "  code_context=['    trace_three()\\n']\n",
      "  index=0\n",
      "Frameinfo 3:\n",
      "  filename=<ipython-input-30-0dfcce2d4471>\n",
      "  lineno=8\n",
      "  function=trace_three\n",
      "  code_context=['    raise RuntimeError(\"error in trace_three\")\\n']\n",
      "  index=0\n"
     ]
    }
   ],
   "source": [
    "def trace_one():\n",
    "    trace_two()\n",
    "    \n",
    "def trace_two():\n",
    "    trace_three()\n",
    "    \n",
    "def trace_three():\n",
    "    raise RuntimeError(\"error in trace_three\")\n",
    "    \n",
    "try:\n",
    "    trace_one()\n",
    "except:\n",
    "    print_frameinfos(ip.trace())"
   ]
  }
 ],
 "metadata": {
  "kernelspec": {
   "display_name": "Python 3",
   "language": "python",
   "name": "python3"
  },
  "language_info": {
   "codemirror_mode": {
    "name": "ipython",
    "version": 3
   },
   "file_extension": ".py",
   "mimetype": "text/x-python",
   "name": "python",
   "nbconvert_exporter": "python",
   "pygments_lexer": "ipython3",
   "version": "3.6.5"
  }
 },
 "nbformat": 4,
 "nbformat_minor": 2
}
