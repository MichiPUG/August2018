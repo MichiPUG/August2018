{
 "cells": [
  {
   "cell_type": "markdown",
   "metadata": {},
   "source": [
    "# **Introduction to Pandas**\n",
    "###### Chuck Anderson\n",
    "  * framework for working with data\n",
    "  * with handy analysis tools\n",
    "  \n",
    "Pandas name arose from \"pan\"el \"da\"ta sets\n",
    "\n",
    "#### Can perform principal steps in processing and analysis of data\n",
    "  - load\n",
    "  - prepare\n",
    "  - manipulate\n",
    "  - model\n",
    "  - analyze\n",
    "  \n",
    "<br>\n",
    "\n",
    "\n",
    "#### _Key Features_\n",
    "  - Fast and efficient DataFrame object with default and customized indexing.\n",
    "  - Tools for loading data into in-memory data objects from different file formats.\n",
    "  - Data alignment and integrated handling of missing data.\n",
    "  - Reshaping and pivoting of date sets.\n",
    "  - Label-based slicing, indexing and subsetting of large data sets.\n",
    "  - Columns from a data structure can be deleted or inserted.\n",
    "  - Group by data for aggregation and transformations.\n",
    "  - High performance merging and joining of data.\n",
    "  - Time Series functionality\n",
    "\n",
    "<br><br>\n",
    "\n",
    "---\n",
    "\n",
    "## **Data structures** \n",
    "  - series:  1 dimensional\n",
    "  - dataframe: 2D, allows mix of datatypes\n",
    "  - panel: 3D, container of dataframes\n",
    "  \n",
    "#### Basic functions\n",
    "  - axes\n",
    "  - dtype\n",
    "  - size\n",
    "  - shape : tuple\n",
    "  - T : transpose\n",
    "  - values : returns an ndarray\n",
    "  - head()\n",
    "  - tail()"
   ]
  },
  {
   "cell_type": "code",
   "execution_count": 1,
   "metadata": {},
   "outputs": [
    {
     "data": {
      "text/html": [
       "<div>\n",
       "<style scoped>\n",
       "    .dataframe tbody tr th:only-of-type {\n",
       "        vertical-align: middle;\n",
       "    }\n",
       "\n",
       "    .dataframe tbody tr th {\n",
       "        vertical-align: top;\n",
       "    }\n",
       "\n",
       "    .dataframe thead th {\n",
       "        text-align: right;\n",
       "    }\n",
       "</style>\n",
       "<table border=\"1\" class=\"dataframe\">\n",
       "  <thead>\n",
       "    <tr style=\"text-align: right;\">\n",
       "      <th></th>\n",
       "      <th>Col_1</th>\n",
       "      <th>Col_2</th>\n",
       "      <th>Col_3</th>\n",
       "      <th>Col_4</th>\n",
       "      <th>Col_5</th>\n",
       "      <th>Col_6</th>\n",
       "      <th>Name</th>\n",
       "    </tr>\n",
       "  </thead>\n",
       "  <tbody>\n",
       "    <tr>\n",
       "      <th>0</th>\n",
       "      <td>25</td>\n",
       "      <td>28</td>\n",
       "      <td>22</td>\n",
       "      <td>20</td>\n",
       "      <td>22</td>\n",
       "      <td>30</td>\n",
       "      <td>MN</td>\n",
       "    </tr>\n",
       "    <tr>\n",
       "      <th>1</th>\n",
       "      <td>24</td>\n",
       "      <td>29</td>\n",
       "      <td>23</td>\n",
       "      <td>21</td>\n",
       "      <td>28</td>\n",
       "      <td>32</td>\n",
       "      <td>MI</td>\n",
       "    </tr>\n",
       "    <tr>\n",
       "      <th>2</th>\n",
       "      <td>22</td>\n",
       "      <td>20</td>\n",
       "      <td>26</td>\n",
       "      <td>26</td>\n",
       "      <td>24</td>\n",
       "      <td>26</td>\n",
       "      <td>WI</td>\n",
       "    </tr>\n",
       "    <tr>\n",
       "      <th>3</th>\n",
       "      <td>27</td>\n",
       "      <td>21</td>\n",
       "      <td>28</td>\n",
       "      <td>23</td>\n",
       "      <td>29</td>\n",
       "      <td>-999</td>\n",
       "      <td>IA</td>\n",
       "    </tr>\n",
       "  </tbody>\n",
       "</table>\n",
       "</div>"
      ],
      "text/plain": [
       "   Col_1  Col_2  Col_3  Col_4  Col_5  Col_6 Name\n",
       "0     25     28     22     20     22     30   MN\n",
       "1     24     29     23     21     28     32   MI\n",
       "2     22     20     26     26     24     26   WI\n",
       "3     27     21     28     23     29   -999   IA"
      ]
     },
     "execution_count": 1,
     "metadata": {},
     "output_type": "execute_result"
    }
   ],
   "source": [
    "import pandas as pd\n",
    "\n",
    "#create a dict of key-value pairs where key is a label, and value is a list\n",
    "starting = {'Col_1':[25,24,22,27],\n",
    "            'Col_2':[28,29,20,21],\n",
    "            'Col_3':[22,23,26,28],\n",
    "            'Col_4':[20,21,26,23],\n",
    "            'Col_5':[22,28,24,29],\n",
    "            'Col_6':[30,32,26,-999],\n",
    "            'Name':['MN','MI','WI','IA']\n",
    "            }\n",
    "\n",
    "#create dataframe from dict\n",
    "df = pd.DataFrame(starting)\n",
    "\n",
    "#render the dataframe\n",
    "df"
   ]
  },
  {
   "cell_type": "code",
   "execution_count": 2,
   "metadata": {},
   "outputs": [
    {
     "name": "stdout",
     "output_type": "stream",
     "text": [
      "   Col_1  Col_2  Col_3  Col_4  Col_5  Col_6 Name\n",
      "0     25     28     22     20     22     30   MN\n",
      "1     24     29     23     21     28     32   MI\n",
      "2     22     20     26     26     24     26   WI\n",
      "3     27     21     28     23     29   -999   IA\n"
     ]
    }
   ],
   "source": [
    "#print the dataframe contents\n",
    "print(df)"
   ]
  },
  {
   "cell_type": "code",
   "execution_count": 3,
   "metadata": {},
   "outputs": [
    {
     "name": "stdout",
     "output_type": "stream",
     "text": [
      "Col_1     int64\n",
      "Col_2     int64\n",
      "Col_3     int64\n",
      "Col_4     int64\n",
      "Col_5     int64\n",
      "Col_6     int64\n",
      "Name     object\n",
      "dtype: object\n"
     ]
    }
   ],
   "source": [
    "#####list the datatypes \n",
    "print(df.dtypes)"
   ]
  },
  {
   "cell_type": "code",
   "execution_count": 4,
   "metadata": {},
   "outputs": [
    {
     "data": {
      "text/plain": [
       "25"
      ]
     },
     "execution_count": 4,
     "metadata": {},
     "output_type": "execute_result"
    }
   ],
   "source": [
    "##### slice by specific column name and index\n",
    "df['Col_1'][0]"
   ]
  },
  {
   "cell_type": "code",
   "execution_count": 5,
   "metadata": {},
   "outputs": [
    {
     "data": {
      "text/plain": [
       "'WI'"
      ]
     },
     "execution_count": 5,
     "metadata": {},
     "output_type": "execute_result"
    }
   ],
   "source": [
    "df['Name'][2]"
   ]
  },
  {
   "cell_type": "code",
   "execution_count": 6,
   "metadata": {},
   "outputs": [
    {
     "name": "stdout",
     "output_type": "stream",
     "text": [
      "0    25\n",
      "1    24\n",
      "2    22\n",
      "3    27\n",
      "Name: Col_1, dtype: int64\n"
     ]
    }
   ],
   "source": [
    "##### Can referencce column name without quotes\n",
    "print(df.Col_1)"
   ]
  },
  {
   "cell_type": "code",
   "execution_count": 7,
   "metadata": {},
   "outputs": [
    {
     "data": {
      "text/html": [
       "<div>\n",
       "<style scoped>\n",
       "    .dataframe tbody tr th:only-of-type {\n",
       "        vertical-align: middle;\n",
       "    }\n",
       "\n",
       "    .dataframe tbody tr th {\n",
       "        vertical-align: top;\n",
       "    }\n",
       "\n",
       "    .dataframe thead th {\n",
       "        text-align: right;\n",
       "    }\n",
       "</style>\n",
       "<table border=\"1\" class=\"dataframe\">\n",
       "  <thead>\n",
       "    <tr style=\"text-align: right;\">\n",
       "      <th></th>\n",
       "      <th>Col_1</th>\n",
       "      <th>Col_2</th>\n",
       "      <th>Col_3</th>\n",
       "      <th>Col_4</th>\n",
       "      <th>Col_5</th>\n",
       "      <th>Col_6</th>\n",
       "      <th>Name</th>\n",
       "    </tr>\n",
       "  </thead>\n",
       "  <tbody>\n",
       "    <tr>\n",
       "      <th>0</th>\n",
       "      <td>25</td>\n",
       "      <td>28</td>\n",
       "      <td>22</td>\n",
       "      <td>20</td>\n",
       "      <td>22</td>\n",
       "      <td>30</td>\n",
       "      <td>MN</td>\n",
       "    </tr>\n",
       "    <tr>\n",
       "      <th>1</th>\n",
       "      <td>24</td>\n",
       "      <td>29</td>\n",
       "      <td>23</td>\n",
       "      <td>21</td>\n",
       "      <td>28</td>\n",
       "      <td>32</td>\n",
       "      <td>MI</td>\n",
       "    </tr>\n",
       "    <tr>\n",
       "      <th>2</th>\n",
       "      <td>22</td>\n",
       "      <td>20</td>\n",
       "      <td>26</td>\n",
       "      <td>26</td>\n",
       "      <td>24</td>\n",
       "      <td>26</td>\n",
       "      <td>WI</td>\n",
       "    </tr>\n",
       "    <tr>\n",
       "      <th>3</th>\n",
       "      <td>27</td>\n",
       "      <td>21</td>\n",
       "      <td>28</td>\n",
       "      <td>23</td>\n",
       "      <td>29</td>\n",
       "      <td>-999</td>\n",
       "      <td>IA</td>\n",
       "    </tr>\n",
       "  </tbody>\n",
       "</table>\n",
       "</div>"
      ],
      "text/plain": [
       "   Col_1  Col_2  Col_3  Col_4  Col_5  Col_6 Name\n",
       "0     25     28     22     20     22     30   MN\n",
       "1     24     29     23     21     28     32   MI\n",
       "2     22     20     26     26     24     26   WI\n",
       "3     27     21     28     23     29   -999   IA"
      ]
     },
     "execution_count": 7,
     "metadata": {},
     "output_type": "execute_result"
    }
   ],
   "source": [
    "##### unless specified otherwise, head and tail are first and last 5 rows\n",
    "df.head()\n",
    "#### print(df.tail)"
   ]
  },
  {
   "cell_type": "markdown",
   "metadata": {},
   "source": [
    "#### pandas creates an index when creating dataframes, either automatically or based on user specifications"
   ]
  },
  {
   "cell_type": "code",
   "execution_count": 8,
   "metadata": {},
   "outputs": [
    {
     "data": {
      "text/plain": [
       "RangeIndex(start=0, stop=4, step=1)"
      ]
     },
     "execution_count": 8,
     "metadata": {},
     "output_type": "execute_result"
    }
   ],
   "source": [
    "##### the index which was created in the dataframe\n",
    "df.index"
   ]
  },
  {
   "cell_type": "code",
   "execution_count": 9,
   "metadata": {},
   "outputs": [
    {
     "data": {
      "text/html": [
       "<div>\n",
       "<style scoped>\n",
       "    .dataframe tbody tr th:only-of-type {\n",
       "        vertical-align: middle;\n",
       "    }\n",
       "\n",
       "    .dataframe tbody tr th {\n",
       "        vertical-align: top;\n",
       "    }\n",
       "\n",
       "    .dataframe thead th {\n",
       "        text-align: right;\n",
       "    }\n",
       "</style>\n",
       "<table border=\"1\" class=\"dataframe\">\n",
       "  <thead>\n",
       "    <tr style=\"text-align: right;\">\n",
       "      <th></th>\n",
       "      <th>0</th>\n",
       "      <th>1</th>\n",
       "      <th>2</th>\n",
       "      <th>3</th>\n",
       "    </tr>\n",
       "  </thead>\n",
       "  <tbody>\n",
       "    <tr>\n",
       "      <th>Col_1</th>\n",
       "      <td>25</td>\n",
       "      <td>24</td>\n",
       "      <td>22</td>\n",
       "      <td>27</td>\n",
       "    </tr>\n",
       "    <tr>\n",
       "      <th>Col_2</th>\n",
       "      <td>28</td>\n",
       "      <td>29</td>\n",
       "      <td>20</td>\n",
       "      <td>21</td>\n",
       "    </tr>\n",
       "    <tr>\n",
       "      <th>Col_3</th>\n",
       "      <td>22</td>\n",
       "      <td>23</td>\n",
       "      <td>26</td>\n",
       "      <td>28</td>\n",
       "    </tr>\n",
       "    <tr>\n",
       "      <th>Col_4</th>\n",
       "      <td>20</td>\n",
       "      <td>21</td>\n",
       "      <td>26</td>\n",
       "      <td>23</td>\n",
       "    </tr>\n",
       "    <tr>\n",
       "      <th>Col_5</th>\n",
       "      <td>22</td>\n",
       "      <td>28</td>\n",
       "      <td>24</td>\n",
       "      <td>29</td>\n",
       "    </tr>\n",
       "    <tr>\n",
       "      <th>Col_6</th>\n",
       "      <td>30</td>\n",
       "      <td>32</td>\n",
       "      <td>26</td>\n",
       "      <td>-999</td>\n",
       "    </tr>\n",
       "    <tr>\n",
       "      <th>Name</th>\n",
       "      <td>MN</td>\n",
       "      <td>MI</td>\n",
       "      <td>WI</td>\n",
       "      <td>IA</td>\n",
       "    </tr>\n",
       "  </tbody>\n",
       "</table>\n",
       "</div>"
      ],
      "text/plain": [
       "        0   1   2     3\n",
       "Col_1  25  24  22    27\n",
       "Col_2  28  29  20    21\n",
       "Col_3  22  23  26    28\n",
       "Col_4  20  21  26    23\n",
       "Col_5  22  28  24    29\n",
       "Col_6  30  32  26  -999\n",
       "Name   MN  MI  WI    IA"
      ]
     },
     "execution_count": 9,
     "metadata": {},
     "output_type": "execute_result"
    }
   ],
   "source": [
    "##### transpose the dataframe\n",
    "tranny = df.T\n",
    "tranny"
   ]
  },
  {
   "cell_type": "code",
   "execution_count": 10,
   "metadata": {},
   "outputs": [
    {
     "data": {
      "text/plain": [
       "[RangeIndex(start=0, stop=4, step=1),\n",
       " Index(['Col_1', 'Col_2', 'Col_3', 'Col_4', 'Col_5', 'Col_6', 'Name'], dtype='object')]"
      ]
     },
     "execution_count": 10,
     "metadata": {},
     "output_type": "execute_result"
    }
   ],
   "source": [
    "df.axes"
   ]
  },
  {
   "cell_type": "code",
   "execution_count": 11,
   "metadata": {},
   "outputs": [
    {
     "data": {
      "text/plain": [
       "(4, 7)"
      ]
     },
     "execution_count": 11,
     "metadata": {},
     "output_type": "execute_result"
    }
   ],
   "source": [
    "df.shape"
   ]
  },
  {
   "cell_type": "code",
   "execution_count": 12,
   "metadata": {},
   "outputs": [
    {
     "data": {
      "text/plain": [
       "28"
      ]
     },
     "execution_count": 12,
     "metadata": {},
     "output_type": "execute_result"
    }
   ],
   "source": [
    "df.size"
   ]
  },
  {
   "cell_type": "code",
   "execution_count": 13,
   "metadata": {},
   "outputs": [
    {
     "data": {
      "text/plain": [
       "array([[25, 28, 22, 20, 22, 30, 'MN'],\n",
       "       [24, 29, 23, 21, 28, 32, 'MI'],\n",
       "       [22, 20, 26, 26, 24, 26, 'WI'],\n",
       "       [27, 21, 28, 23, 29, -999, 'IA']], dtype=object)"
      ]
     },
     "execution_count": 13,
     "metadata": {},
     "output_type": "execute_result"
    }
   ],
   "source": [
    "##### return numpy ndarray\n",
    "ndExample = df.values\n",
    "ndExample"
   ]
  },
  {
   "cell_type": "code",
   "execution_count": 14,
   "metadata": {},
   "outputs": [
    {
     "data": {
      "text/plain": [
       "array([[25, 24, 22, 27],\n",
       "       [28, 29, 20, 21],\n",
       "       [22, 23, 26, 28],\n",
       "       [20, 21, 26, 23],\n",
       "       [22, 28, 24, 29],\n",
       "       [30, 32, 26, -999],\n",
       "       ['MN', 'MI', 'WI', 'IA']], dtype=object)"
      ]
     },
     "execution_count": 14,
     "metadata": {},
     "output_type": "execute_result"
    }
   ],
   "source": [
    "##### ndarray of transposed\n",
    "tranny.values"
   ]
  },
  {
   "cell_type": "markdown",
   "metadata": {},
   "source": [
    "---\n",
    "## **Basic statistics**\n",
    "  - describe()\n",
    "  - count()\n",
    "  - sum()\n",
    "  - mean()\n",
    "  - median()\n",
    "  - mode()\n",
    "  - std()\n",
    "  - min()\n",
    "  - max()\n",
    "  - abs()\n",
    "  - prod()\n",
    "  - crosstab()\n",
    "  - cumsum()\n",
    "  - cumprod()"
   ]
  },
  {
   "cell_type": "code",
   "execution_count": 15,
   "metadata": {},
   "outputs": [
    {
     "data": {
      "text/html": [
       "<div>\n",
       "<style scoped>\n",
       "    .dataframe tbody tr th:only-of-type {\n",
       "        vertical-align: middle;\n",
       "    }\n",
       "\n",
       "    .dataframe tbody tr th {\n",
       "        vertical-align: top;\n",
       "    }\n",
       "\n",
       "    .dataframe thead th {\n",
       "        text-align: right;\n",
       "    }\n",
       "</style>\n",
       "<table border=\"1\" class=\"dataframe\">\n",
       "  <thead>\n",
       "    <tr style=\"text-align: right;\">\n",
       "      <th></th>\n",
       "      <th>Col_1</th>\n",
       "      <th>Col_2</th>\n",
       "      <th>Col_3</th>\n",
       "      <th>Col_4</th>\n",
       "      <th>Col_5</th>\n",
       "      <th>Col_6</th>\n",
       "      <th>Name</th>\n",
       "    </tr>\n",
       "  </thead>\n",
       "  <tbody>\n",
       "    <tr>\n",
       "      <th>count</th>\n",
       "      <td>4.000000</td>\n",
       "      <td>4.000000</td>\n",
       "      <td>4.000000</td>\n",
       "      <td>4.000000</td>\n",
       "      <td>4.000000</td>\n",
       "      <td>4.000000</td>\n",
       "      <td>4</td>\n",
       "    </tr>\n",
       "    <tr>\n",
       "      <th>unique</th>\n",
       "      <td>NaN</td>\n",
       "      <td>NaN</td>\n",
       "      <td>NaN</td>\n",
       "      <td>NaN</td>\n",
       "      <td>NaN</td>\n",
       "      <td>NaN</td>\n",
       "      <td>4</td>\n",
       "    </tr>\n",
       "    <tr>\n",
       "      <th>top</th>\n",
       "      <td>NaN</td>\n",
       "      <td>NaN</td>\n",
       "      <td>NaN</td>\n",
       "      <td>NaN</td>\n",
       "      <td>NaN</td>\n",
       "      <td>NaN</td>\n",
       "      <td>MN</td>\n",
       "    </tr>\n",
       "    <tr>\n",
       "      <th>freq</th>\n",
       "      <td>NaN</td>\n",
       "      <td>NaN</td>\n",
       "      <td>NaN</td>\n",
       "      <td>NaN</td>\n",
       "      <td>NaN</td>\n",
       "      <td>NaN</td>\n",
       "      <td>1</td>\n",
       "    </tr>\n",
       "    <tr>\n",
       "      <th>mean</th>\n",
       "      <td>24.500000</td>\n",
       "      <td>24.500000</td>\n",
       "      <td>24.750000</td>\n",
       "      <td>22.500000</td>\n",
       "      <td>25.750000</td>\n",
       "      <td>-227.750000</td>\n",
       "      <td>NaN</td>\n",
       "    </tr>\n",
       "    <tr>\n",
       "      <th>std</th>\n",
       "      <td>2.081666</td>\n",
       "      <td>4.654747</td>\n",
       "      <td>2.753785</td>\n",
       "      <td>2.645751</td>\n",
       "      <td>3.304038</td>\n",
       "      <td>514.172717</td>\n",
       "      <td>NaN</td>\n",
       "    </tr>\n",
       "    <tr>\n",
       "      <th>min</th>\n",
       "      <td>22.000000</td>\n",
       "      <td>20.000000</td>\n",
       "      <td>22.000000</td>\n",
       "      <td>20.000000</td>\n",
       "      <td>22.000000</td>\n",
       "      <td>-999.000000</td>\n",
       "      <td>NaN</td>\n",
       "    </tr>\n",
       "    <tr>\n",
       "      <th>25%</th>\n",
       "      <td>23.500000</td>\n",
       "      <td>20.750000</td>\n",
       "      <td>22.750000</td>\n",
       "      <td>20.750000</td>\n",
       "      <td>23.500000</td>\n",
       "      <td>-230.250000</td>\n",
       "      <td>NaN</td>\n",
       "    </tr>\n",
       "    <tr>\n",
       "      <th>50%</th>\n",
       "      <td>24.500000</td>\n",
       "      <td>24.500000</td>\n",
       "      <td>24.500000</td>\n",
       "      <td>22.000000</td>\n",
       "      <td>26.000000</td>\n",
       "      <td>28.000000</td>\n",
       "      <td>NaN</td>\n",
       "    </tr>\n",
       "    <tr>\n",
       "      <th>75%</th>\n",
       "      <td>25.500000</td>\n",
       "      <td>28.250000</td>\n",
       "      <td>26.500000</td>\n",
       "      <td>23.750000</td>\n",
       "      <td>28.250000</td>\n",
       "      <td>30.500000</td>\n",
       "      <td>NaN</td>\n",
       "    </tr>\n",
       "    <tr>\n",
       "      <th>max</th>\n",
       "      <td>27.000000</td>\n",
       "      <td>29.000000</td>\n",
       "      <td>28.000000</td>\n",
       "      <td>26.000000</td>\n",
       "      <td>29.000000</td>\n",
       "      <td>32.000000</td>\n",
       "      <td>NaN</td>\n",
       "    </tr>\n",
       "  </tbody>\n",
       "</table>\n",
       "</div>"
      ],
      "text/plain": [
       "            Col_1      Col_2      Col_3      Col_4      Col_5       Col_6 Name\n",
       "count    4.000000   4.000000   4.000000   4.000000   4.000000    4.000000    4\n",
       "unique        NaN        NaN        NaN        NaN        NaN         NaN    4\n",
       "top           NaN        NaN        NaN        NaN        NaN         NaN   MN\n",
       "freq          NaN        NaN        NaN        NaN        NaN         NaN    1\n",
       "mean    24.500000  24.500000  24.750000  22.500000  25.750000 -227.750000  NaN\n",
       "std      2.081666   4.654747   2.753785   2.645751   3.304038  514.172717  NaN\n",
       "min     22.000000  20.000000  22.000000  20.000000  22.000000 -999.000000  NaN\n",
       "25%     23.500000  20.750000  22.750000  20.750000  23.500000 -230.250000  NaN\n",
       "50%     24.500000  24.500000  24.500000  22.000000  26.000000   28.000000  NaN\n",
       "75%     25.500000  28.250000  26.500000  23.750000  28.250000   30.500000  NaN\n",
       "max     27.000000  29.000000  28.000000  26.000000  29.000000   32.000000  NaN"
      ]
     },
     "execution_count": 15,
     "metadata": {},
     "output_type": "execute_result"
    }
   ],
   "source": [
    "df.describe(include='all')"
   ]
  },
  {
   "cell_type": "code",
   "execution_count": 16,
   "metadata": {},
   "outputs": [
    {
     "data": {
      "text/plain": [
       "0    25\n",
       "1    49\n",
       "2    71\n",
       "3    98\n",
       "Name: Col_1, dtype: int64"
      ]
     },
     "execution_count": 16,
     "metadata": {},
     "output_type": "execute_result"
    }
   ],
   "source": [
    "df['Col_1'].cumsum()"
   ]
  },
  {
   "cell_type": "markdown",
   "metadata": {},
   "source": [
    "<br>\n",
    "#### slice dataframe and obtain first six columns"
   ]
  },
  {
   "cell_type": "code",
   "execution_count": 17,
   "metadata": {},
   "outputs": [
    {
     "data": {
      "text/html": [
       "<div>\n",
       "<style scoped>\n",
       "    .dataframe tbody tr th:only-of-type {\n",
       "        vertical-align: middle;\n",
       "    }\n",
       "\n",
       "    .dataframe tbody tr th {\n",
       "        vertical-align: top;\n",
       "    }\n",
       "\n",
       "    .dataframe thead th {\n",
       "        text-align: right;\n",
       "    }\n",
       "</style>\n",
       "<table border=\"1\" class=\"dataframe\">\n",
       "  <thead>\n",
       "    <tr style=\"text-align: right;\">\n",
       "      <th></th>\n",
       "      <th>Col_1</th>\n",
       "      <th>Col_2</th>\n",
       "      <th>Col_3</th>\n",
       "      <th>Col_4</th>\n",
       "      <th>Col_5</th>\n",
       "    </tr>\n",
       "  </thead>\n",
       "  <tbody>\n",
       "    <tr>\n",
       "      <th>0</th>\n",
       "      <td>25</td>\n",
       "      <td>28</td>\n",
       "      <td>22</td>\n",
       "      <td>20</td>\n",
       "      <td>22</td>\n",
       "    </tr>\n",
       "    <tr>\n",
       "      <th>1</th>\n",
       "      <td>24</td>\n",
       "      <td>29</td>\n",
       "      <td>23</td>\n",
       "      <td>21</td>\n",
       "      <td>28</td>\n",
       "    </tr>\n",
       "    <tr>\n",
       "      <th>2</th>\n",
       "      <td>22</td>\n",
       "      <td>20</td>\n",
       "      <td>26</td>\n",
       "      <td>26</td>\n",
       "      <td>24</td>\n",
       "    </tr>\n",
       "    <tr>\n",
       "      <th>3</th>\n",
       "      <td>27</td>\n",
       "      <td>21</td>\n",
       "      <td>28</td>\n",
       "      <td>23</td>\n",
       "      <td>29</td>\n",
       "    </tr>\n",
       "  </tbody>\n",
       "</table>\n",
       "</div>"
      ],
      "text/plain": [
       "   Col_1  Col_2  Col_3  Col_4  Col_5\n",
       "0     25     28     22     20     22\n",
       "1     24     29     23     21     28\n",
       "2     22     20     26     26     24\n",
       "3     27     21     28     23     29"
      ]
     },
     "execution_count": 17,
     "metadata": {},
     "output_type": "execute_result"
    }
   ],
   "source": [
    "slicer = df.iloc[:, 0:5]\n",
    "slicer"
   ]
  },
  {
   "cell_type": "markdown",
   "metadata": {},
   "source": [
    "#### perform stats across rows, which is axis = 1"
   ]
  },
  {
   "cell_type": "code",
   "execution_count": 18,
   "metadata": {},
   "outputs": [
    {
     "data": {
      "text/plain": [
       "0    23.4\n",
       "1    25.0\n",
       "2    23.6\n",
       "3    25.6\n",
       "dtype: float64"
      ]
     },
     "execution_count": 18,
     "metadata": {},
     "output_type": "execute_result"
    }
   ],
   "source": [
    "rowmeans = slicer.mean(axis=1)\n",
    "rowmeans"
   ]
  },
  {
   "cell_type": "markdown",
   "metadata": {},
   "source": [
    "---\n",
    "## **Simple data manip. & function application**\n",
    "First add value to entire dataframe"
   ]
  },
  {
   "cell_type": "code",
   "execution_count": 19,
   "metadata": {},
   "outputs": [
    {
     "data": {
      "text/html": [
       "<div>\n",
       "<style scoped>\n",
       "    .dataframe tbody tr th:only-of-type {\n",
       "        vertical-align: middle;\n",
       "    }\n",
       "\n",
       "    .dataframe tbody tr th {\n",
       "        vertical-align: top;\n",
       "    }\n",
       "\n",
       "    .dataframe thead th {\n",
       "        text-align: right;\n",
       "    }\n",
       "</style>\n",
       "<table border=\"1\" class=\"dataframe\">\n",
       "  <thead>\n",
       "    <tr style=\"text-align: right;\">\n",
       "      <th></th>\n",
       "      <th>Col_1</th>\n",
       "      <th>Col_2</th>\n",
       "      <th>Col_3</th>\n",
       "      <th>Col_4</th>\n",
       "      <th>Col_5</th>\n",
       "    </tr>\n",
       "  </thead>\n",
       "  <tbody>\n",
       "    <tr>\n",
       "      <th>0</th>\n",
       "      <td>27</td>\n",
       "      <td>30</td>\n",
       "      <td>24</td>\n",
       "      <td>22</td>\n",
       "      <td>24</td>\n",
       "    </tr>\n",
       "    <tr>\n",
       "      <th>1</th>\n",
       "      <td>26</td>\n",
       "      <td>31</td>\n",
       "      <td>25</td>\n",
       "      <td>23</td>\n",
       "      <td>30</td>\n",
       "    </tr>\n",
       "    <tr>\n",
       "      <th>2</th>\n",
       "      <td>24</td>\n",
       "      <td>22</td>\n",
       "      <td>28</td>\n",
       "      <td>28</td>\n",
       "      <td>26</td>\n",
       "    </tr>\n",
       "    <tr>\n",
       "      <th>3</th>\n",
       "      <td>29</td>\n",
       "      <td>23</td>\n",
       "      <td>30</td>\n",
       "      <td>25</td>\n",
       "      <td>31</td>\n",
       "    </tr>\n",
       "  </tbody>\n",
       "</table>\n",
       "</div>"
      ],
      "text/plain": [
       "   Col_1  Col_2  Col_3  Col_4  Col_5\n",
       "0     27     30     24     22     24\n",
       "1     26     31     25     23     30\n",
       "2     24     22     28     28     26\n",
       "3     29     23     30     25     31"
      ]
     },
     "execution_count": 19,
     "metadata": {},
     "output_type": "execute_result"
    }
   ],
   "source": [
    "slicer + 2"
   ]
  },
  {
   "cell_type": "code",
   "execution_count": 20,
   "metadata": {},
   "outputs": [],
   "source": [
    "def multi(arg0, arg1):\n",
    "    return arg0*arg1"
   ]
  },
  {
   "cell_type": "markdown",
   "metadata": {},
   "source": [
    "##### Apply function to entire dataframe using pipe"
   ]
  },
  {
   "cell_type": "code",
   "execution_count": 21,
   "metadata": {},
   "outputs": [
    {
     "data": {
      "text/html": [
       "<div>\n",
       "<style scoped>\n",
       "    .dataframe tbody tr th:only-of-type {\n",
       "        vertical-align: middle;\n",
       "    }\n",
       "\n",
       "    .dataframe tbody tr th {\n",
       "        vertical-align: top;\n",
       "    }\n",
       "\n",
       "    .dataframe thead th {\n",
       "        text-align: right;\n",
       "    }\n",
       "</style>\n",
       "<table border=\"1\" class=\"dataframe\">\n",
       "  <thead>\n",
       "    <tr style=\"text-align: right;\">\n",
       "      <th></th>\n",
       "      <th>Col_1</th>\n",
       "      <th>Col_2</th>\n",
       "      <th>Col_3</th>\n",
       "      <th>Col_4</th>\n",
       "      <th>Col_5</th>\n",
       "    </tr>\n",
       "  </thead>\n",
       "  <tbody>\n",
       "    <tr>\n",
       "      <th>0</th>\n",
       "      <td>50</td>\n",
       "      <td>56</td>\n",
       "      <td>44</td>\n",
       "      <td>40</td>\n",
       "      <td>44</td>\n",
       "    </tr>\n",
       "    <tr>\n",
       "      <th>1</th>\n",
       "      <td>48</td>\n",
       "      <td>58</td>\n",
       "      <td>46</td>\n",
       "      <td>42</td>\n",
       "      <td>56</td>\n",
       "    </tr>\n",
       "    <tr>\n",
       "      <th>2</th>\n",
       "      <td>44</td>\n",
       "      <td>40</td>\n",
       "      <td>52</td>\n",
       "      <td>52</td>\n",
       "      <td>48</td>\n",
       "    </tr>\n",
       "    <tr>\n",
       "      <th>3</th>\n",
       "      <td>54</td>\n",
       "      <td>42</td>\n",
       "      <td>56</td>\n",
       "      <td>46</td>\n",
       "      <td>58</td>\n",
       "    </tr>\n",
       "  </tbody>\n",
       "</table>\n",
       "</div>"
      ],
      "text/plain": [
       "   Col_1  Col_2  Col_3  Col_4  Col_5\n",
       "0     50     56     44     40     44\n",
       "1     48     58     46     42     56\n",
       "2     44     40     52     52     48\n",
       "3     54     42     56     46     58"
      ]
     },
     "execution_count": 21,
     "metadata": {},
     "output_type": "execute_result"
    }
   ],
   "source": [
    "doneMult = slicer.pipe(multi,2)\n",
    "doneMult"
   ]
  },
  {
   "cell_type": "markdown",
   "metadata": {},
   "source": [
    "##### Apply function to columns, or rows"
   ]
  },
  {
   "cell_type": "code",
   "execution_count": 22,
   "metadata": {},
   "outputs": [
    {
     "data": {
      "text/plain": [
       "Col_1    24.50\n",
       "Col_2    24.50\n",
       "Col_3    24.75\n",
       "Col_4    22.50\n",
       "Col_5    25.75\n",
       "dtype: float64"
      ]
     },
     "execution_count": 22,
     "metadata": {},
     "output_type": "execute_result"
    }
   ],
   "source": [
    "import numpy as np\n",
    "slicer.apply(np.mean)"
   ]
  },
  {
   "cell_type": "code",
   "execution_count": 23,
   "metadata": {},
   "outputs": [
    {
     "data": {
      "text/plain": [
       "0    23.4\n",
       "1    25.0\n",
       "2    23.6\n",
       "3    25.6\n",
       "dtype: float64"
      ]
     },
     "execution_count": 23,
     "metadata": {},
     "output_type": "execute_result"
    }
   ],
   "source": [
    "##### now apply to rows\n",
    "slicer.apply(np.mean, axis=1)"
   ]
  },
  {
   "cell_type": "markdown",
   "metadata": {},
   "source": [
    "### Create column from other columns in dataframe"
   ]
  },
  {
   "cell_type": "code",
   "execution_count": 24,
   "metadata": {},
   "outputs": [
    {
     "data": {
      "text/html": [
       "<div>\n",
       "<style scoped>\n",
       "    .dataframe tbody tr th:only-of-type {\n",
       "        vertical-align: middle;\n",
       "    }\n",
       "\n",
       "    .dataframe tbody tr th {\n",
       "        vertical-align: top;\n",
       "    }\n",
       "\n",
       "    .dataframe thead th {\n",
       "        text-align: right;\n",
       "    }\n",
       "</style>\n",
       "<table border=\"1\" class=\"dataframe\">\n",
       "  <thead>\n",
       "    <tr style=\"text-align: right;\">\n",
       "      <th></th>\n",
       "      <th>Col_1</th>\n",
       "      <th>Col_2</th>\n",
       "      <th>Col_3</th>\n",
       "      <th>Col_4</th>\n",
       "      <th>Col_5</th>\n",
       "      <th>Col_6</th>\n",
       "      <th>Name</th>\n",
       "      <th>Col5_minus_Col2</th>\n",
       "    </tr>\n",
       "  </thead>\n",
       "  <tbody>\n",
       "    <tr>\n",
       "      <th>0</th>\n",
       "      <td>25</td>\n",
       "      <td>28</td>\n",
       "      <td>22</td>\n",
       "      <td>20</td>\n",
       "      <td>22</td>\n",
       "      <td>30</td>\n",
       "      <td>MN</td>\n",
       "      <td>-6</td>\n",
       "    </tr>\n",
       "    <tr>\n",
       "      <th>1</th>\n",
       "      <td>24</td>\n",
       "      <td>29</td>\n",
       "      <td>23</td>\n",
       "      <td>21</td>\n",
       "      <td>28</td>\n",
       "      <td>32</td>\n",
       "      <td>MI</td>\n",
       "      <td>-1</td>\n",
       "    </tr>\n",
       "    <tr>\n",
       "      <th>2</th>\n",
       "      <td>22</td>\n",
       "      <td>20</td>\n",
       "      <td>26</td>\n",
       "      <td>26</td>\n",
       "      <td>24</td>\n",
       "      <td>26</td>\n",
       "      <td>WI</td>\n",
       "      <td>4</td>\n",
       "    </tr>\n",
       "    <tr>\n",
       "      <th>3</th>\n",
       "      <td>27</td>\n",
       "      <td>21</td>\n",
       "      <td>28</td>\n",
       "      <td>23</td>\n",
       "      <td>29</td>\n",
       "      <td>-999</td>\n",
       "      <td>IA</td>\n",
       "      <td>8</td>\n",
       "    </tr>\n",
       "  </tbody>\n",
       "</table>\n",
       "</div>"
      ],
      "text/plain": [
       "   Col_1  Col_2  Col_3  Col_4  Col_5  Col_6 Name  Col5_minus_Col2\n",
       "0     25     28     22     20     22     30   MN               -6\n",
       "1     24     29     23     21     28     32   MI               -1\n",
       "2     22     20     26     26     24     26   WI                4\n",
       "3     27     21     28     23     29   -999   IA                8"
      ]
     },
     "execution_count": 24,
     "metadata": {},
     "output_type": "execute_result"
    }
   ],
   "source": [
    "df['Col5_minus_Col2'] = df.Col_5 - df.Col_2\n",
    "df.head()"
   ]
  },
  {
   "cell_type": "markdown",
   "metadata": {},
   "source": [
    "--- \n",
    "## **Data visualization**\n",
    "\n",
    "pandas plotting is a simple wrapper around matplotlib\n",
    "##### jupyter needs the development version of pandas_datareader which can be installed via:\n",
    "##### pip install git+https://github.com/pydata/pandas-datareader.git "
   ]
  },
  {
   "cell_type": "code",
   "execution_count": 25,
   "metadata": {},
   "outputs": [
    {
     "data": {
      "text/html": [
       "<div>\n",
       "<style scoped>\n",
       "    .dataframe tbody tr th:only-of-type {\n",
       "        vertical-align: middle;\n",
       "    }\n",
       "\n",
       "    .dataframe tbody tr th {\n",
       "        vertical-align: top;\n",
       "    }\n",
       "\n",
       "    .dataframe thead th {\n",
       "        text-align: right;\n",
       "    }\n",
       "</style>\n",
       "<table border=\"1\" class=\"dataframe\">\n",
       "  <thead>\n",
       "    <tr style=\"text-align: right;\">\n",
       "      <th></th>\n",
       "      <th>open</th>\n",
       "      <th>high</th>\n",
       "      <th>low</th>\n",
       "      <th>close</th>\n",
       "      <th>volume</th>\n",
       "    </tr>\n",
       "    <tr>\n",
       "      <th>date</th>\n",
       "      <th></th>\n",
       "      <th></th>\n",
       "      <th></th>\n",
       "      <th></th>\n",
       "      <th></th>\n",
       "    </tr>\n",
       "  </thead>\n",
       "  <tbody>\n",
       "    <tr>\n",
       "      <th>2017-06-20</th>\n",
       "      <td>144.1164</td>\n",
       "      <td>144.1164</td>\n",
       "      <td>142.2225</td>\n",
       "      <td>142.2912</td>\n",
       "      <td>24900073</td>\n",
       "    </tr>\n",
       "    <tr>\n",
       "      <th>2017-06-21</th>\n",
       "      <td>142.7917</td>\n",
       "      <td>143.3307</td>\n",
       "      <td>141.8987</td>\n",
       "      <td>143.1351</td>\n",
       "      <td>21265751</td>\n",
       "    </tr>\n",
       "    <tr>\n",
       "      <th>2017-06-22</th>\n",
       "      <td>143.0370</td>\n",
       "      <td>143.9495</td>\n",
       "      <td>142.3991</td>\n",
       "      <td>142.8996</td>\n",
       "      <td>19106294</td>\n",
       "    </tr>\n",
       "    <tr>\n",
       "      <th>2017-06-23</th>\n",
       "      <td>142.4090</td>\n",
       "      <td>144.4009</td>\n",
       "      <td>142.3893</td>\n",
       "      <td>143.5374</td>\n",
       "      <td>35439389</td>\n",
       "    </tr>\n",
       "    <tr>\n",
       "      <th>2017-06-26</th>\n",
       "      <td>144.4107</td>\n",
       "      <td>145.4999</td>\n",
       "      <td>142.6543</td>\n",
       "      <td>143.0860</td>\n",
       "      <td>25692361</td>\n",
       "    </tr>\n",
       "  </tbody>\n",
       "</table>\n",
       "</div>"
      ],
      "text/plain": [
       "                open      high       low     close    volume\n",
       "date                                                        \n",
       "2017-06-20  144.1164  144.1164  142.2225  142.2912  24900073\n",
       "2017-06-21  142.7917  143.3307  141.8987  143.1351  21265751\n",
       "2017-06-22  143.0370  143.9495  142.3991  142.8996  19106294\n",
       "2017-06-23  142.4090  144.4009  142.3893  143.5374  35439389\n",
       "2017-06-26  144.4107  145.4999  142.6543  143.0860  25692361"
      ]
     },
     "execution_count": 25,
     "metadata": {},
     "output_type": "execute_result"
    }
   ],
   "source": [
    "import datetime\n",
    "from pandas_datareader import data as web\n",
    "\n",
    "start = datetime.datetime(2017, 6, 20)\n",
    "end = datetime.datetime(2018, 6, 20)\n",
    "AAPL = web.DataReader(\"AAPL\", \"iex\", start, end)\n",
    "AAPL.head()"
   ]
  },
  {
   "cell_type": "code",
   "execution_count": 26,
   "metadata": {},
   "outputs": [
    {
     "data": {
      "text/plain": [
       "(253, 5)"
      ]
     },
     "execution_count": 26,
     "metadata": {},
     "output_type": "execute_result"
    }
   ],
   "source": [
    "AAPL.shape"
   ]
  },
  {
   "cell_type": "code",
   "execution_count": 27,
   "metadata": {},
   "outputs": [
    {
     "data": {
      "text/plain": [
       "Index(['2017-06-20', '2017-06-21', '2017-06-22', '2017-06-23', '2017-06-26',\n",
       "       '2017-06-27', '2017-06-28', '2017-06-29', '2017-06-30', '2017-07-03',\n",
       "       ...\n",
       "       '2018-06-07', '2018-06-08', '2018-06-11', '2018-06-12', '2018-06-13',\n",
       "       '2018-06-14', '2018-06-15', '2018-06-18', '2018-06-19', '2018-06-20'],\n",
       "      dtype='object', name='date', length=253)"
      ]
     },
     "execution_count": 27,
     "metadata": {},
     "output_type": "execute_result"
    }
   ],
   "source": [
    "AAPL.index"
   ]
  },
  {
   "cell_type": "code",
   "execution_count": 28,
   "metadata": {},
   "outputs": [
    {
     "data": {
      "text/plain": [
       "<matplotlib.axes._subplots.AxesSubplot at 0x7f72fe887ef0>"
      ]
     },
     "execution_count": 28,
     "metadata": {},
     "output_type": "execute_result"
    },
    {
     "data": {
      "image/png": "[encoded data removed]",
      "text/plain": [
       "<Figure size 432x288 with 1 Axes>"
      ]
     },
     "metadata": {},
     "output_type": "display_data"
    }
   ],
   "source": [
    "##### need this \"magic\" statement to display plots inside jupyter lab\n",
    "%matplotlib inline\n",
    "\n",
    "AAPL.plot()"
   ]
  },
  {
   "cell_type": "markdown",
   "metadata": {},
   "source": [
    "#### Only select prices (volume level obscures other variables)"
   ]
  },
  {
   "cell_type": "code",
   "execution_count": 29,
   "metadata": {},
   "outputs": [
    {
     "data": {
      "text/plain": [
       "<matplotlib.axes._subplots.AxesSubplot at 0x7f72fdf5d710>"
      ]
     },
     "execution_count": 29,
     "metadata": {},
     "output_type": "execute_result"
    },
    {
     "data": {
      "image/png": "[encoded data removed]",
      "text/plain": [
       "<Figure size 432x288 with 1 Axes>"
      ]
     },
     "metadata": {},
     "output_type": "display_data"
    }
   ],
   "source": [
    "AAPL.iloc[:,0:4].plot()"
   ]
  },
  {
   "cell_type": "code",
   "execution_count": 30,
   "metadata": {},
   "outputs": [
    {
     "data": {
      "text/plain": [
       "<matplotlib.axes._subplots.AxesSubplot at 0x7f72fdf44278>"
      ]
     },
     "execution_count": 30,
     "metadata": {},
     "output_type": "execute_result"
    },
    {
     "data": {
      "image/png": "[encoded data removed]",
      "text/plain": [
       "<Figure size 432x288 with 1 Axes>"
      ]
     },
     "metadata": {},
     "output_type": "display_data"
    }
   ],
   "source": [
    "AAPL.iloc[25:30,0:4].plot.bar()"
   ]
  },
  {
   "cell_type": "markdown",
   "metadata": {},
   "source": [
    "#### Overlapping histograms"
   ]
  },
  {
   "cell_type": "code",
   "execution_count": 31,
   "metadata": {},
   "outputs": [
    {
     "data": {
      "text/plain": [
       "<matplotlib.axes._subplots.AxesSubplot at 0x7f72fdec9710>"
      ]
     },
     "execution_count": 31,
     "metadata": {},
     "output_type": "execute_result"
    },
    {
     "data": {
      "image/png": "[encoded data removed]",
      "text/plain": [
       "<Figure size 432x288 with 1 Axes>"
      ]
     },
     "metadata": {},
     "output_type": "display_data"
    }
   ],
   "source": [
    "AAPL.iloc[:,0:4].plot.hist(bins=25)"
   ]
  },
  {
   "cell_type": "markdown",
   "metadata": {},
   "source": [
    "#### Separate histograms"
   ]
  },
  {
   "cell_type": "code",
   "execution_count": 32,
   "metadata": {},
   "outputs": [
    {
     "data": {
      "text/plain": [
       "array([[<matplotlib.axes._subplots.AxesSubplot object at 0x7f72fdda7208>,\n",
       "        <matplotlib.axes._subplots.AxesSubplot object at 0x7f72fddc0710>],\n",
       "       [<matplotlib.axes._subplots.AxesSubplot object at 0x7f72fdd55da0>,\n",
       "        <matplotlib.axes._subplots.AxesSubplot object at 0x7f72fdd73470>]], dtype=object)"
      ]
     },
     "execution_count": 32,
     "metadata": {},
     "output_type": "execute_result"
    },
    {
     "data": {
      "image/png": "[encoded data removed]",
      "text/plain": [
       "<Figure size 432x288 with 4 Axes>"
      ]
     },
     "metadata": {},
     "output_type": "display_data"
    }
   ],
   "source": [
    "AAPL.iloc[0:200,0:4].diff().hist(bins=25)"
   ]
  },
  {
   "cell_type": "markdown",
   "metadata": {},
   "source": [
    "---\n",
    "## **Indexing & selecting, slicing data**\n",
    "  - loc[ ] : label-based\n",
    "  - iloc[ ] : integer-based\n",
    "  - at[ ], iat[ ] : select single scalar value, fast "
   ]
  },
  {
   "cell_type": "code",
   "execution_count": 33,
   "metadata": {},
   "outputs": [
    {
     "data": {
      "text/html": [
       "<div>\n",
       "<style scoped>\n",
       "    .dataframe tbody tr th:only-of-type {\n",
       "        vertical-align: middle;\n",
       "    }\n",
       "\n",
       "    .dataframe tbody tr th {\n",
       "        vertical-align: top;\n",
       "    }\n",
       "\n",
       "    .dataframe thead th {\n",
       "        text-align: right;\n",
       "    }\n",
       "</style>\n",
       "<table border=\"1\" class=\"dataframe\">\n",
       "  <thead>\n",
       "    <tr style=\"text-align: right;\">\n",
       "      <th></th>\n",
       "      <th>high</th>\n",
       "      <th>low</th>\n",
       "    </tr>\n",
       "    <tr>\n",
       "      <th>date</th>\n",
       "      <th></th>\n",
       "      <th></th>\n",
       "    </tr>\n",
       "  </thead>\n",
       "  <tbody>\n",
       "    <tr>\n",
       "      <th>2017-06-20</th>\n",
       "      <td>144.1164</td>\n",
       "      <td>142.2225</td>\n",
       "    </tr>\n",
       "    <tr>\n",
       "      <th>2017-06-21</th>\n",
       "      <td>143.3307</td>\n",
       "      <td>141.8987</td>\n",
       "    </tr>\n",
       "    <tr>\n",
       "      <th>2017-06-22</th>\n",
       "      <td>143.9495</td>\n",
       "      <td>142.3991</td>\n",
       "    </tr>\n",
       "    <tr>\n",
       "      <th>2017-06-23</th>\n",
       "      <td>144.4009</td>\n",
       "      <td>142.3893</td>\n",
       "    </tr>\n",
       "    <tr>\n",
       "      <th>2017-06-26</th>\n",
       "      <td>145.4999</td>\n",
       "      <td>142.6543</td>\n",
       "    </tr>\n",
       "    <tr>\n",
       "      <th>2017-06-27</th>\n",
       "      <td>143.4197</td>\n",
       "      <td>140.9273</td>\n",
       "    </tr>\n",
       "    <tr>\n",
       "      <th>2017-06-28</th>\n",
       "      <td>143.3706</td>\n",
       "      <td>140.4760</td>\n",
       "    </tr>\n",
       "    <tr>\n",
       "      <th>2017-06-29</th>\n",
       "      <td>142.4090</td>\n",
       "      <td>139.6124</td>\n",
       "    </tr>\n",
       "    <tr>\n",
       "      <th>2017-06-30</th>\n",
       "      <td>142.2422</td>\n",
       "      <td>141.0843</td>\n",
       "    </tr>\n",
       "    <tr>\n",
       "      <th>2017-07-03</th>\n",
       "      <td>142.5759</td>\n",
       "      <td>140.4170</td>\n",
       "    </tr>\n",
       "    <tr>\n",
       "      <th>2017-07-05</th>\n",
       "      <td>142.0753</td>\n",
       "      <td>140.0478</td>\n",
       "    </tr>\n",
       "    <tr>\n",
       "      <th>2017-07-06</th>\n",
       "      <td>140.8095</td>\n",
       "      <td>139.7400</td>\n",
       "    </tr>\n",
       "    <tr>\n",
       "      <th>2017-07-07</th>\n",
       "      <td>142.0361</td>\n",
       "      <td>140.2208</td>\n",
       "    </tr>\n",
       "    <tr>\n",
       "      <th>2017-07-10</th>\n",
       "      <td>143.2136</td>\n",
       "      <td>140.6820</td>\n",
       "    </tr>\n",
       "    <tr>\n",
       "      <th>2017-07-11</th>\n",
       "      <td>143.1155</td>\n",
       "      <td>141.6730</td>\n",
       "    </tr>\n",
       "    <tr>\n",
       "      <th>2017-07-12</th>\n",
       "      <td>143.4393</td>\n",
       "      <td>142.1048</td>\n",
       "    </tr>\n",
       "    <tr>\n",
       "      <th>2017-07-13</th>\n",
       "      <td>145.7060</td>\n",
       "      <td>142.7132</td>\n",
       "    </tr>\n",
       "    <tr>\n",
       "      <th>2017-07-14</th>\n",
       "      <td>146.5302</td>\n",
       "      <td>144.5677</td>\n",
       "    </tr>\n",
       "    <tr>\n",
       "      <th>2017-07-17</th>\n",
       "      <td>148.0708</td>\n",
       "      <td>145.7845</td>\n",
       "    </tr>\n",
       "    <tr>\n",
       "      <th>2017-07-18</th>\n",
       "      <td>147.3152</td>\n",
       "      <td>145.8826</td>\n",
       "    </tr>\n",
       "    <tr>\n",
       "      <th>2017-07-19</th>\n",
       "      <td>148.5810</td>\n",
       "      <td>147.1386</td>\n",
       "    </tr>\n",
       "    <tr>\n",
       "      <th>2017-07-20</th>\n",
       "      <td>148.8950</td>\n",
       "      <td>147.3741</td>\n",
       "    </tr>\n",
       "  </tbody>\n",
       "</table>\n",
       "</div>"
      ],
      "text/plain": [
       "                high       low\n",
       "date                          \n",
       "2017-06-20  144.1164  142.2225\n",
       "2017-06-21  143.3307  141.8987\n",
       "2017-06-22  143.9495  142.3991\n",
       "2017-06-23  144.4009  142.3893\n",
       "2017-06-26  145.4999  142.6543\n",
       "2017-06-27  143.4197  140.9273\n",
       "2017-06-28  143.3706  140.4760\n",
       "2017-06-29  142.4090  139.6124\n",
       "2017-06-30  142.2422  141.0843\n",
       "2017-07-03  142.5759  140.4170\n",
       "2017-07-05  142.0753  140.0478\n",
       "2017-07-06  140.8095  139.7400\n",
       "2017-07-07  142.0361  140.2208\n",
       "2017-07-10  143.2136  140.6820\n",
       "2017-07-11  143.1155  141.6730\n",
       "2017-07-12  143.4393  142.1048\n",
       "2017-07-13  145.7060  142.7132\n",
       "2017-07-14  146.5302  144.5677\n",
       "2017-07-17  148.0708  145.7845\n",
       "2017-07-18  147.3152  145.8826\n",
       "2017-07-19  148.5810  147.1386\n",
       "2017-07-20  148.8950  147.3741"
      ]
     },
     "execution_count": 33,
     "metadata": {},
     "output_type": "execute_result"
    }
   ],
   "source": [
    "##### first examine loc()\n",
    "SelectedHighLows = AAPL.loc[\"2017-06-20\":\"2017-07-20\", [\"high\", \"low\"]]\n",
    "SelectedHighLows"
   ]
  },
  {
   "cell_type": "code",
   "execution_count": 34,
   "metadata": {},
   "outputs": [
    {
     "data": {
      "text/html": [
       "<div>\n",
       "<style scoped>\n",
       "    .dataframe tbody tr th:only-of-type {\n",
       "        vertical-align: middle;\n",
       "    }\n",
       "\n",
       "    .dataframe tbody tr th {\n",
       "        vertical-align: top;\n",
       "    }\n",
       "\n",
       "    .dataframe thead th {\n",
       "        text-align: right;\n",
       "    }\n",
       "</style>\n",
       "<table border=\"1\" class=\"dataframe\">\n",
       "  <thead>\n",
       "    <tr style=\"text-align: right;\">\n",
       "      <th></th>\n",
       "      <th>high</th>\n",
       "      <th>close</th>\n",
       "    </tr>\n",
       "    <tr>\n",
       "      <th>date</th>\n",
       "      <th></th>\n",
       "      <th></th>\n",
       "    </tr>\n",
       "  </thead>\n",
       "  <tbody>\n",
       "    <tr>\n",
       "      <th>2018-04-06</th>\n",
       "      <td>171.2170</td>\n",
       "      <td>167.1470</td>\n",
       "    </tr>\n",
       "    <tr>\n",
       "      <th>2018-04-09</th>\n",
       "      <td>171.8225</td>\n",
       "      <td>168.8048</td>\n",
       "    </tr>\n",
       "    <tr>\n",
       "      <th>2018-04-10</th>\n",
       "      <td>172.7259</td>\n",
       "      <td>171.9814</td>\n",
       "    </tr>\n",
       "    <tr>\n",
       "      <th>2018-04-11</th>\n",
       "      <td>172.6496</td>\n",
       "      <td>171.1773</td>\n",
       "    </tr>\n",
       "    <tr>\n",
       "      <th>2018-04-12</th>\n",
       "      <td>173.7185</td>\n",
       "      <td>172.8648</td>\n",
       "    </tr>\n",
       "    <tr>\n",
       "      <th>2018-04-13</th>\n",
       "      <td>174.5524</td>\n",
       "      <td>173.4505</td>\n",
       "    </tr>\n",
       "    <tr>\n",
       "      <th>2018-04-16</th>\n",
       "      <td>174.8998</td>\n",
       "      <td>174.5325</td>\n",
       "    </tr>\n",
       "    <tr>\n",
       "      <th>2018-04-17</th>\n",
       "      <td>177.6262</td>\n",
       "      <td>176.9348</td>\n",
       "    </tr>\n",
       "    <tr>\n",
       "      <th>2018-04-18</th>\n",
       "      <td>177.5106</td>\n",
       "      <td>176.5378</td>\n",
       "    </tr>\n",
       "    <tr>\n",
       "      <th>2018-04-19</th>\n",
       "      <td>174.1057</td>\n",
       "      <td>171.5347</td>\n",
       "    </tr>\n",
       "  </tbody>\n",
       "</table>\n",
       "</div>"
      ],
      "text/plain": [
       "                high     close\n",
       "date                          \n",
       "2018-04-06  171.2170  167.1470\n",
       "2018-04-09  171.8225  168.8048\n",
       "2018-04-10  172.7259  171.9814\n",
       "2018-04-11  172.6496  171.1773\n",
       "2018-04-12  173.7185  172.8648\n",
       "2018-04-13  174.5524  173.4505\n",
       "2018-04-16  174.8998  174.5325\n",
       "2018-04-17  177.6262  176.9348\n",
       "2018-04-18  177.5106  176.5378\n",
       "2018-04-19  174.1057  171.5347"
      ]
     },
     "execution_count": 34,
     "metadata": {},
     "output_type": "execute_result"
    }
   ],
   "source": [
    "#### we have already seen iloc(); here is another example\n",
    "SelectedOpenClose = AAPL.iloc[200:210, [1,3]]\n",
    "SelectedOpenClose"
   ]
  },
  {
   "cell_type": "markdown",
   "metadata": {},
   "source": [
    "---\n",
    "## **Iteration**\n",
    "  - iterating dataframe gives column names\n",
    "  - to iterate over rows, use:\n",
    "    * iteritems() : terates over each column as key, value pair with label as key and column value as a Series object\n",
    "    * iterrows() : returns the iterator yielding each index value along with a series containing the data in each row\n",
    "    * itertuples() : iterator yielding a named tuple for each row in the DataFrame. The first element of the tuple will be the row’s corresponding index value, while the remaining values are the row value"
   ]
  },
  {
   "cell_type": "code",
   "execution_count": 35,
   "metadata": {},
   "outputs": [
    {
     "name": "stdout",
     "output_type": "stream",
     "text": [
      "Col_1\n",
      "Col_2\n",
      "Col_3\n",
      "Col_4\n",
      "Col_5\n",
      "Col_6\n",
      "Name\n",
      "Col5_minus_Col2\n"
     ]
    }
   ],
   "source": [
    "##### iterating dataframe gives column names\n",
    "for x in df:\n",
    "    print(x)"
   ]
  },
  {
   "cell_type": "code",
   "execution_count": 36,
   "metadata": {},
   "outputs": [
    {
     "name": "stdout",
     "output_type": "stream",
     "text": [
      "{'Col_1': 0    25\n",
      "1    24\n",
      "2    22\n",
      "3    27\n",
      "Name: Col_1, dtype: int64}\n",
      "{'Col_2': 0    28\n",
      "1    29\n",
      "2    20\n",
      "3    21\n",
      "Name: Col_2, dtype: int64}\n",
      "{'Col_3': 0    22\n",
      "1    23\n",
      "2    26\n",
      "3    28\n",
      "Name: Col_3, dtype: int64}\n",
      "{'Col_4': 0    20\n",
      "1    21\n",
      "2    26\n",
      "3    23\n",
      "Name: Col_4, dtype: int64}\n",
      "{'Col_5': 0    22\n",
      "1    28\n",
      "2    24\n",
      "3    29\n",
      "Name: Col_5, dtype: int64}\n",
      "{'Col_6': 0     30\n",
      "1     32\n",
      "2     26\n",
      "3   -999\n",
      "Name: Col_6, dtype: int64}\n",
      "{'Name': 0    MN\n",
      "1    MI\n",
      "2    WI\n",
      "3    IA\n",
      "Name: Name, dtype: object}\n",
      "{'Col5_minus_Col2': 0   -6\n",
      "1   -1\n",
      "2    4\n",
      "3    8\n",
      "Name: Col5_minus_Col2, dtype: int64}\n"
     ]
    }
   ],
   "source": [
    "##### key, value pairs\n",
    "for key, value in df.iteritems():\n",
    "    x = {key : value}\n",
    "    print(x)"
   ]
  },
  {
   "cell_type": "code",
   "execution_count": 37,
   "metadata": {},
   "outputs": [
    {
     "name": "stdout",
     "output_type": "stream",
     "text": [
      "0 Col_1              25\n",
      "Col_2              28\n",
      "Col_3              22\n",
      "Col_4              20\n",
      "Col_5              22\n",
      "Col_6              30\n",
      "Name               MN\n",
      "Col5_minus_Col2    -6\n",
      "Name: 0, dtype: object\n",
      "1 Col_1              24\n",
      "Col_2              29\n",
      "Col_3              23\n",
      "Col_4              21\n",
      "Col_5              28\n",
      "Col_6              32\n",
      "Name               MI\n",
      "Col5_minus_Col2    -1\n",
      "Name: 1, dtype: object\n",
      "2 Col_1              22\n",
      "Col_2              20\n",
      "Col_3              26\n",
      "Col_4              26\n",
      "Col_5              24\n",
      "Col_6              26\n",
      "Name               WI\n",
      "Col5_minus_Col2     4\n",
      "Name: 2, dtype: object\n",
      "3 Col_1                27\n",
      "Col_2                21\n",
      "Col_3                28\n",
      "Col_4                23\n",
      "Col_5                29\n",
      "Col_6              -999\n",
      "Name                 IA\n",
      "Col5_minus_Col2       8\n",
      "Name: 3, dtype: object\n"
     ]
    }
   ],
   "source": [
    "##### index, series pairs\n",
    "for row_index, row in df.iterrows():\n",
    "    print(row_index, row)"
   ]
  },
  {
   "cell_type": "code",
   "execution_count": 38,
   "metadata": {},
   "outputs": [
    {
     "name": "stdout",
     "output_type": "stream",
     "text": [
      "Pandas(Index=0, Col_1=25, Col_2=28, Col_3=22, Col_4=20, Col_5=22, Col_6=30, Name='MN', Col5_minus_Col2=-6)\n",
      "Pandas(Index=1, Col_1=24, Col_2=29, Col_3=23, Col_4=21, Col_5=28, Col_6=32, Name='MI', Col5_minus_Col2=-1)\n",
      "Pandas(Index=2, Col_1=22, Col_2=20, Col_3=26, Col_4=26, Col_5=24, Col_6=26, Name='WI', Col5_minus_Col2=4)\n",
      "Pandas(Index=3, Col_1=27, Col_2=21, Col_3=28, Col_4=23, Col_5=29, Col_6=-999, Name='IA', Col5_minus_Col2=8)\n"
     ]
    }
   ],
   "source": [
    "##### named tuple\n",
    "for row in df.itertuples():\n",
    "    print(row)"
   ]
  },
  {
   "cell_type": "markdown",
   "metadata": {},
   "source": [
    "---\n",
    "## **Sorting**\n",
    "  - by label : over index or column labels\n",
    "  - by value"
   ]
  },
  {
   "cell_type": "code",
   "execution_count": 39,
   "metadata": {},
   "outputs": [
    {
     "data": {
      "text/html": [
       "<div>\n",
       "<style scoped>\n",
       "    .dataframe tbody tr th:only-of-type {\n",
       "        vertical-align: middle;\n",
       "    }\n",
       "\n",
       "    .dataframe tbody tr th {\n",
       "        vertical-align: top;\n",
       "    }\n",
       "\n",
       "    .dataframe thead th {\n",
       "        text-align: right;\n",
       "    }\n",
       "</style>\n",
       "<table border=\"1\" class=\"dataframe\">\n",
       "  <thead>\n",
       "    <tr style=\"text-align: right;\">\n",
       "      <th></th>\n",
       "      <th>open</th>\n",
       "      <th>high</th>\n",
       "      <th>low</th>\n",
       "      <th>close</th>\n",
       "      <th>volume</th>\n",
       "    </tr>\n",
       "    <tr>\n",
       "      <th>date</th>\n",
       "      <th></th>\n",
       "      <th></th>\n",
       "      <th></th>\n",
       "      <th></th>\n",
       "      <th></th>\n",
       "    </tr>\n",
       "  </thead>\n",
       "  <tbody>\n",
       "    <tr>\n",
       "      <th>2018-06-20</th>\n",
       "      <td>185.6987</td>\n",
       "      <td>186.5457</td>\n",
       "      <td>185.0809</td>\n",
       "      <td>185.8482</td>\n",
       "      <td>20628701</td>\n",
       "    </tr>\n",
       "    <tr>\n",
       "      <th>2018-06-19</th>\n",
       "      <td>184.4929</td>\n",
       "      <td>185.6788</td>\n",
       "      <td>182.8088</td>\n",
       "      <td>185.0410</td>\n",
       "      <td>33578455</td>\n",
       "    </tr>\n",
       "    <tr>\n",
       "      <th>2018-06-18</th>\n",
       "      <td>187.2234</td>\n",
       "      <td>188.5587</td>\n",
       "      <td>186.5457</td>\n",
       "      <td>188.0804</td>\n",
       "      <td>18484865</td>\n",
       "    </tr>\n",
       "    <tr>\n",
       "      <th>2018-06-15</th>\n",
       "      <td>189.3658</td>\n",
       "      <td>189.4954</td>\n",
       "      <td>187.6020</td>\n",
       "      <td>188.1800</td>\n",
       "      <td>61719160</td>\n",
       "    </tr>\n",
       "    <tr>\n",
       "      <th>2018-06-14</th>\n",
       "      <td>190.8805</td>\n",
       "      <td>190.9005</td>\n",
       "      <td>189.5552</td>\n",
       "      <td>190.1332</td>\n",
       "      <td>21610074</td>\n",
       "    </tr>\n",
       "  </tbody>\n",
       "</table>\n",
       "</div>"
      ],
      "text/plain": [
       "                open      high       low     close    volume\n",
       "date                                                        \n",
       "2018-06-20  185.6987  186.5457  185.0809  185.8482  20628701\n",
       "2018-06-19  184.4929  185.6788  182.8088  185.0410  33578455\n",
       "2018-06-18  187.2234  188.5587  186.5457  188.0804  18484865\n",
       "2018-06-15  189.3658  189.4954  187.6020  188.1800  61719160\n",
       "2018-06-14  190.8805  190.9005  189.5552  190.1332  21610074"
      ]
     },
     "execution_count": 39,
     "metadata": {},
     "output_type": "execute_result"
    }
   ],
   "source": [
    "##### sort by label on index\n",
    "reverseAAPL = AAPL.sort_index(ascending=False)\n",
    "reverseAAPL.head()"
   ]
  },
  {
   "cell_type": "code",
   "execution_count": 40,
   "metadata": {},
   "outputs": [
    {
     "data": {
      "text/html": [
       "<div>\n",
       "<style scoped>\n",
       "    .dataframe tbody tr th:only-of-type {\n",
       "        vertical-align: middle;\n",
       "    }\n",
       "\n",
       "    .dataframe tbody tr th {\n",
       "        vertical-align: top;\n",
       "    }\n",
       "\n",
       "    .dataframe thead th {\n",
       "        text-align: right;\n",
       "    }\n",
       "</style>\n",
       "<table border=\"1\" class=\"dataframe\">\n",
       "  <thead>\n",
       "    <tr style=\"text-align: right;\">\n",
       "      <th></th>\n",
       "      <th>close</th>\n",
       "      <th>high</th>\n",
       "      <th>low</th>\n",
       "      <th>open</th>\n",
       "      <th>volume</th>\n",
       "    </tr>\n",
       "    <tr>\n",
       "      <th>date</th>\n",
       "      <th></th>\n",
       "      <th></th>\n",
       "      <th></th>\n",
       "      <th></th>\n",
       "      <th></th>\n",
       "    </tr>\n",
       "  </thead>\n",
       "  <tbody>\n",
       "    <tr>\n",
       "      <th>2017-06-20</th>\n",
       "      <td>142.2912</td>\n",
       "      <td>144.1164</td>\n",
       "      <td>142.2225</td>\n",
       "      <td>144.1164</td>\n",
       "      <td>24900073</td>\n",
       "    </tr>\n",
       "    <tr>\n",
       "      <th>2017-06-21</th>\n",
       "      <td>143.1351</td>\n",
       "      <td>143.3307</td>\n",
       "      <td>141.8987</td>\n",
       "      <td>142.7917</td>\n",
       "      <td>21265751</td>\n",
       "    </tr>\n",
       "    <tr>\n",
       "      <th>2017-06-22</th>\n",
       "      <td>142.8996</td>\n",
       "      <td>143.9495</td>\n",
       "      <td>142.3991</td>\n",
       "      <td>143.0370</td>\n",
       "      <td>19106294</td>\n",
       "    </tr>\n",
       "    <tr>\n",
       "      <th>2017-06-23</th>\n",
       "      <td>143.5374</td>\n",
       "      <td>144.4009</td>\n",
       "      <td>142.3893</td>\n",
       "      <td>142.4090</td>\n",
       "      <td>35439389</td>\n",
       "    </tr>\n",
       "    <tr>\n",
       "      <th>2017-06-26</th>\n",
       "      <td>143.0860</td>\n",
       "      <td>145.4999</td>\n",
       "      <td>142.6543</td>\n",
       "      <td>144.4107</td>\n",
       "      <td>25692361</td>\n",
       "    </tr>\n",
       "  </tbody>\n",
       "</table>\n",
       "</div>"
      ],
      "text/plain": [
       "               close      high       low      open    volume\n",
       "date                                                        \n",
       "2017-06-20  142.2912  144.1164  142.2225  144.1164  24900073\n",
       "2017-06-21  143.1351  143.3307  141.8987  142.7917  21265751\n",
       "2017-06-22  142.8996  143.9495  142.3991  143.0370  19106294\n",
       "2017-06-23  143.5374  144.4009  142.3893  142.4090  35439389\n",
       "2017-06-26  143.0860  145.4999  142.6543  144.4107  25692361"
      ]
     },
     "execution_count": 40,
     "metadata": {},
     "output_type": "execute_result"
    }
   ],
   "source": [
    "##### sort by label on column lables\n",
    "horizAAPL = AAPL.sort_index(axis=1)\n",
    "horizAAPL.head()"
   ]
  },
  {
   "cell_type": "code",
   "execution_count": 41,
   "metadata": {},
   "outputs": [
    {
     "data": {
      "text/html": [
       "<div>\n",
       "<style scoped>\n",
       "    .dataframe tbody tr th:only-of-type {\n",
       "        vertical-align: middle;\n",
       "    }\n",
       "\n",
       "    .dataframe tbody tr th {\n",
       "        vertical-align: top;\n",
       "    }\n",
       "\n",
       "    .dataframe thead th {\n",
       "        text-align: right;\n",
       "    }\n",
       "</style>\n",
       "<table border=\"1\" class=\"dataframe\">\n",
       "  <thead>\n",
       "    <tr style=\"text-align: right;\">\n",
       "      <th></th>\n",
       "      <th>open</th>\n",
       "      <th>high</th>\n",
       "      <th>low</th>\n",
       "      <th>close</th>\n",
       "      <th>volume</th>\n",
       "    </tr>\n",
       "    <tr>\n",
       "      <th>date</th>\n",
       "      <th></th>\n",
       "      <th></th>\n",
       "      <th></th>\n",
       "      <th></th>\n",
       "      <th></th>\n",
       "    </tr>\n",
       "  </thead>\n",
       "  <tbody>\n",
       "    <tr>\n",
       "      <th>2018-06-07</th>\n",
       "      <td>193.4615</td>\n",
       "      <td>193.5213</td>\n",
       "      <td>191.6628</td>\n",
       "      <td>192.7839</td>\n",
       "      <td>21347180</td>\n",
       "    </tr>\n",
       "    <tr>\n",
       "      <th>2018-06-06</th>\n",
       "      <td>192.9533</td>\n",
       "      <td>193.4017</td>\n",
       "      <td>191.2492</td>\n",
       "      <td>193.3020</td>\n",
       "      <td>20933619</td>\n",
       "    </tr>\n",
       "    <tr>\n",
       "      <th>2018-06-05</th>\n",
       "      <td>192.3902</td>\n",
       "      <td>193.2622</td>\n",
       "      <td>191.6877</td>\n",
       "      <td>192.6344</td>\n",
       "      <td>21565963</td>\n",
       "    </tr>\n",
       "    <tr>\n",
       "      <th>2018-06-04</th>\n",
       "      <td>190.9652</td>\n",
       "      <td>192.7440</td>\n",
       "      <td>190.6812</td>\n",
       "      <td>191.1596</td>\n",
       "      <td>26266174</td>\n",
       "    </tr>\n",
       "    <tr>\n",
       "      <th>2018-06-13</th>\n",
       "      <td>191.7475</td>\n",
       "      <td>192.2059</td>\n",
       "      <td>189.7744</td>\n",
       "      <td>190.0335</td>\n",
       "      <td>21638393</td>\n",
       "    </tr>\n",
       "  </tbody>\n",
       "</table>\n",
       "</div>"
      ],
      "text/plain": [
       "                open      high       low     close    volume\n",
       "date                                                        \n",
       "2018-06-07  193.4615  193.5213  191.6628  192.7839  21347180\n",
       "2018-06-06  192.9533  193.4017  191.2492  193.3020  20933619\n",
       "2018-06-05  192.3902  193.2622  191.6877  192.6344  21565963\n",
       "2018-06-04  190.9652  192.7440  190.6812  191.1596  26266174\n",
       "2018-06-13  191.7475  192.2059  189.7744  190.0335  21638393"
      ]
     },
     "execution_count": 41,
     "metadata": {},
     "output_type": "execute_result"
    }
   ],
   "source": [
    "#### sort by value\n",
    "sortHighThenVol = AAPL.sort_values(by=[\"high\", \"volume\"], ascending=False)\n",
    "sortHighThenVol.head()"
   ]
  },
  {
   "cell_type": "markdown",
   "metadata": {},
   "source": [
    "---\n",
    "## **Window functions and rolling stats**\n",
    "  - rolling()\n",
    "  - ewm()\n",
    "  - expanding()"
   ]
  },
  {
   "cell_type": "markdown",
   "metadata": {},
   "source": [
    "#### Create a 20-period moving average\n",
    "\n",
    "The fixed-size averaging window \"rolls\" along row-by-row and averages the data within the designated N rows.  It then rolls ahead one row, eliminating the last row from the averaging process and including the new row in the averaging process, always computing an average across N rows. \n",
    "\n",
    "Note: the first N-1 elements will be missing.  axis=1 with roll across columns."
   ]
  },
  {
   "cell_type": "code",
   "execution_count": 42,
   "metadata": {},
   "outputs": [
    {
     "data": {
      "text/html": [
       "<div>\n",
       "<style scoped>\n",
       "    .dataframe tbody tr th:only-of-type {\n",
       "        vertical-align: middle;\n",
       "    }\n",
       "\n",
       "    .dataframe tbody tr th {\n",
       "        vertical-align: top;\n",
       "    }\n",
       "\n",
       "    .dataframe thead th {\n",
       "        text-align: right;\n",
       "    }\n",
       "</style>\n",
       "<table border=\"1\" class=\"dataframe\">\n",
       "  <thead>\n",
       "    <tr style=\"text-align: right;\">\n",
       "      <th></th>\n",
       "      <th>open</th>\n",
       "      <th>high</th>\n",
       "      <th>low</th>\n",
       "      <th>close</th>\n",
       "      <th>volume</th>\n",
       "      <th>MA20</th>\n",
       "    </tr>\n",
       "    <tr>\n",
       "      <th>date</th>\n",
       "      <th></th>\n",
       "      <th></th>\n",
       "      <th></th>\n",
       "      <th></th>\n",
       "      <th></th>\n",
       "      <th></th>\n",
       "    </tr>\n",
       "  </thead>\n",
       "  <tbody>\n",
       "    <tr>\n",
       "      <th>2017-06-20</th>\n",
       "      <td>144.1164</td>\n",
       "      <td>144.1164</td>\n",
       "      <td>142.2225</td>\n",
       "      <td>142.2912</td>\n",
       "      <td>24900073</td>\n",
       "      <td>NaN</td>\n",
       "    </tr>\n",
       "    <tr>\n",
       "      <th>2017-06-21</th>\n",
       "      <td>142.7917</td>\n",
       "      <td>143.3307</td>\n",
       "      <td>141.8987</td>\n",
       "      <td>143.1351</td>\n",
       "      <td>21265751</td>\n",
       "      <td>NaN</td>\n",
       "    </tr>\n",
       "    <tr>\n",
       "      <th>2017-06-22</th>\n",
       "      <td>143.0370</td>\n",
       "      <td>143.9495</td>\n",
       "      <td>142.3991</td>\n",
       "      <td>142.8996</td>\n",
       "      <td>19106294</td>\n",
       "      <td>NaN</td>\n",
       "    </tr>\n",
       "    <tr>\n",
       "      <th>2017-06-23</th>\n",
       "      <td>142.4090</td>\n",
       "      <td>144.4009</td>\n",
       "      <td>142.3893</td>\n",
       "      <td>143.5374</td>\n",
       "      <td>35439389</td>\n",
       "      <td>NaN</td>\n",
       "    </tr>\n",
       "    <tr>\n",
       "      <th>2017-06-26</th>\n",
       "      <td>144.4107</td>\n",
       "      <td>145.4999</td>\n",
       "      <td>142.6543</td>\n",
       "      <td>143.0860</td>\n",
       "      <td>25692361</td>\n",
       "      <td>NaN</td>\n",
       "    </tr>\n",
       "  </tbody>\n",
       "</table>\n",
       "</div>"
      ],
      "text/plain": [
       "                open      high       low     close    volume  MA20\n",
       "date                                                              \n",
       "2017-06-20  144.1164  144.1164  142.2225  142.2912  24900073   NaN\n",
       "2017-06-21  142.7917  143.3307  141.8987  143.1351  21265751   NaN\n",
       "2017-06-22  143.0370  143.9495  142.3991  142.8996  19106294   NaN\n",
       "2017-06-23  142.4090  144.4009  142.3893  143.5374  35439389   NaN\n",
       "2017-06-26  144.4107  145.4999  142.6543  143.0860  25692361   NaN"
      ]
     },
     "execution_count": 42,
     "metadata": {},
     "output_type": "execute_result"
    }
   ],
   "source": [
    "AAPL['MA20'] = AAPL['close'].rolling(20).mean()\n",
    "AAPL.head()"
   ]
  },
  {
   "cell_type": "code",
   "execution_count": 43,
   "metadata": {},
   "outputs": [
    {
     "data": {
      "text/plain": [
       "<matplotlib.axes._subplots.AxesSubplot at 0x7f72fdc5dd68>"
      ]
     },
     "execution_count": 43,
     "metadata": {},
     "output_type": "execute_result"
    },
    {
     "data": {
      "image/png": "[encoded data removed]",
      "text/plain": [
       "<Figure size 432x288 with 1 Axes>"
      ]
     },
     "metadata": {},
     "output_type": "display_data"
    }
   ],
   "source": [
    "%matplotlib inline\n",
    "AAPL[['close','MA20']].plot()"
   ]
  },
  {
   "cell_type": "markdown",
   "metadata": {},
   "source": [
    "#### Exponentially weighted moving average:\n",
    " $$ y_{t} = (1 - \\alpha) \\ y_{t-1} + \\alpha \\ x_{t-1} $$\n",
    "$\\alpha$ is the smoothing factor"
   ]
  },
  {
   "cell_type": "code",
   "execution_count": 44,
   "metadata": {},
   "outputs": [
    {
     "data": {
      "text/plain": [
       "<matplotlib.axes._subplots.AxesSubplot at 0x7f72fdc35b70>"
      ]
     },
     "execution_count": 44,
     "metadata": {},
     "output_type": "execute_result"
    },
    {
     "data": {
      "image/png": "[encoded data removed]",
      "text/plain": [
       "<Figure size 432x288 with 1 Axes>"
      ]
     },
     "metadata": {},
     "output_type": "display_data"
    }
   ],
   "source": [
    "AAPL['close'].ewm(alpha=.9, adjust=False).mean().plot()"
   ]
  },
  {
   "cell_type": "markdown",
   "metadata": {},
   "source": [
    "#### Expanding window\n",
    "\n",
    "The window over which the statistic is computed continually expands until reaching the end of the dataframe"
   ]
  },
  {
   "cell_type": "code",
   "execution_count": 45,
   "metadata": {},
   "outputs": [
    {
     "data": {
      "text/html": [
       "<div>\n",
       "<style scoped>\n",
       "    .dataframe tbody tr th:only-of-type {\n",
       "        vertical-align: middle;\n",
       "    }\n",
       "\n",
       "    .dataframe tbody tr th {\n",
       "        vertical-align: top;\n",
       "    }\n",
       "\n",
       "    .dataframe thead th {\n",
       "        text-align: right;\n",
       "    }\n",
       "</style>\n",
       "<table border=\"1\" class=\"dataframe\">\n",
       "  <thead>\n",
       "    <tr style=\"text-align: right;\">\n",
       "      <th></th>\n",
       "      <th>IncreasingSequence</th>\n",
       "      <th>RunningSum</th>\n",
       "    </tr>\n",
       "  </thead>\n",
       "  <tbody>\n",
       "    <tr>\n",
       "      <th>0</th>\n",
       "      <td>0</td>\n",
       "      <td>0.0</td>\n",
       "    </tr>\n",
       "    <tr>\n",
       "      <th>1</th>\n",
       "      <td>1</td>\n",
       "      <td>1.0</td>\n",
       "    </tr>\n",
       "    <tr>\n",
       "      <th>2</th>\n",
       "      <td>2</td>\n",
       "      <td>3.0</td>\n",
       "    </tr>\n",
       "    <tr>\n",
       "      <th>3</th>\n",
       "      <td>3</td>\n",
       "      <td>6.0</td>\n",
       "    </tr>\n",
       "    <tr>\n",
       "      <th>4</th>\n",
       "      <td>4</td>\n",
       "      <td>10.0</td>\n",
       "    </tr>\n",
       "    <tr>\n",
       "      <th>5</th>\n",
       "      <td>5</td>\n",
       "      <td>15.0</td>\n",
       "    </tr>\n",
       "    <tr>\n",
       "      <th>6</th>\n",
       "      <td>6</td>\n",
       "      <td>21.0</td>\n",
       "    </tr>\n",
       "    <tr>\n",
       "      <th>7</th>\n",
       "      <td>7</td>\n",
       "      <td>28.0</td>\n",
       "    </tr>\n",
       "    <tr>\n",
       "      <th>8</th>\n",
       "      <td>8</td>\n",
       "      <td>36.0</td>\n",
       "    </tr>\n",
       "    <tr>\n",
       "      <th>9</th>\n",
       "      <td>9</td>\n",
       "      <td>45.0</td>\n",
       "    </tr>\n",
       "  </tbody>\n",
       "</table>\n",
       "</div>"
      ],
      "text/plain": [
       "   IncreasingSequence  RunningSum\n",
       "0                   0         0.0\n",
       "1                   1         1.0\n",
       "2                   2         3.0\n",
       "3                   3         6.0\n",
       "4                   4        10.0\n",
       "5                   5        15.0\n",
       "6                   6        21.0\n",
       "7                   7        28.0\n",
       "8                   8        36.0\n",
       "9                   9        45.0"
      ]
     },
     "execution_count": 45,
     "metadata": {},
     "output_type": "execute_result"
    }
   ],
   "source": [
    "import numpy as np\n",
    "incr = pd.DataFrame(np.arange(10), columns=['IncreasingSequence'])\n",
    "incr['RunningSum'] = incr['IncreasingSequence'].expanding().sum()\n",
    "incr"
   ]
  },
  {
   "cell_type": "markdown",
   "metadata": {},
   "source": [
    "---\n",
    "## **Concatenate, append, join, merge**"
   ]
  },
  {
   "cell_type": "markdown",
   "metadata": {},
   "source": [
    "### Concatenating\n",
    "automatically fills NaN if data not present"
   ]
  },
  {
   "cell_type": "code",
   "execution_count": 46,
   "metadata": {},
   "outputs": [
    {
     "data": {
      "text/html": [
       "<div>\n",
       "<style scoped>\n",
       "    .dataframe tbody tr th:only-of-type {\n",
       "        vertical-align: middle;\n",
       "    }\n",
       "\n",
       "    .dataframe tbody tr th {\n",
       "        vertical-align: top;\n",
       "    }\n",
       "\n",
       "    .dataframe thead th {\n",
       "        text-align: right;\n",
       "    }\n",
       "</style>\n",
       "<table border=\"1\" class=\"dataframe\">\n",
       "  <thead>\n",
       "    <tr style=\"text-align: right;\">\n",
       "      <th></th>\n",
       "      <th>Fog Indicator</th>\n",
       "      <th>Relative Humidity (%)</th>\n",
       "      <th>Temperature (F)</th>\n",
       "    </tr>\n",
       "  </thead>\n",
       "  <tbody>\n",
       "    <tr>\n",
       "      <th>0</th>\n",
       "      <td>0</td>\n",
       "      <td>40</td>\n",
       "      <td>65</td>\n",
       "    </tr>\n",
       "    <tr>\n",
       "      <th>1</th>\n",
       "      <td>0</td>\n",
       "      <td>55</td>\n",
       "      <td>63</td>\n",
       "    </tr>\n",
       "    <tr>\n",
       "      <th>2</th>\n",
       "      <td>0</td>\n",
       "      <td>42</td>\n",
       "      <td>62</td>\n",
       "    </tr>\n",
       "    <tr>\n",
       "      <th>3</th>\n",
       "      <td>1</td>\n",
       "      <td>92</td>\n",
       "      <td>66</td>\n",
       "    </tr>\n",
       "    <tr>\n",
       "      <th>4</th>\n",
       "      <td>1</td>\n",
       "      <td>53</td>\n",
       "      <td>66</td>\n",
       "    </tr>\n",
       "    <tr>\n",
       "      <th>5</th>\n",
       "      <td>0</td>\n",
       "      <td>45</td>\n",
       "      <td>69</td>\n",
       "    </tr>\n",
       "    <tr>\n",
       "      <th>6</th>\n",
       "      <td>1</td>\n",
       "      <td>47</td>\n",
       "      <td>67</td>\n",
       "    </tr>\n",
       "    <tr>\n",
       "      <th>7</th>\n",
       "      <td>1</td>\n",
       "      <td>83</td>\n",
       "      <td>67</td>\n",
       "    </tr>\n",
       "    <tr>\n",
       "      <th>8</th>\n",
       "      <td>0</td>\n",
       "      <td>50</td>\n",
       "      <td>67</td>\n",
       "    </tr>\n",
       "    <tr>\n",
       "      <th>9</th>\n",
       "      <td>1</td>\n",
       "      <td>82</td>\n",
       "      <td>69</td>\n",
       "    </tr>\n",
       "    <tr>\n",
       "      <th>10</th>\n",
       "      <td>1</td>\n",
       "      <td>92</td>\n",
       "      <td>71</td>\n",
       "    </tr>\n",
       "    <tr>\n",
       "      <th>11</th>\n",
       "      <td>1</td>\n",
       "      <td>93</td>\n",
       "      <td>66</td>\n",
       "    </tr>\n",
       "  </tbody>\n",
       "</table>\n",
       "</div>"
      ],
      "text/plain": [
       "    Fog Indicator  Relative Humidity (%)  Temperature (F)\n",
       "0               0                     40               65\n",
       "1               0                     55               63\n",
       "2               0                     42               62\n",
       "3               1                     92               66\n",
       "4               1                     53               66\n",
       "5               0                     45               69\n",
       "6               1                     47               67\n",
       "7               1                     83               67\n",
       "8               0                     50               67\n",
       "9               1                     82               69\n",
       "10              1                     92               71\n",
       "11              1                     93               66"
      ]
     },
     "execution_count": 46,
     "metadata": {},
     "output_type": "execute_result"
    }
   ],
   "source": [
    "df1 = pd.DataFrame({'Temperature (F)':[65, 63, 62, 66],\n",
    "                    'Relative Humidity (%)':[40, 55, 42, 92],\n",
    "                    'Fog Indicator':[0, 0, 0, 1]},\n",
    "                   index = [0,1,2,3])\n",
    "\n",
    "df2 = pd.DataFrame({'Temperature (F)':[66, 69, 67, 67],\n",
    "                    'Relative Humidity (%)':[53, 45, 47, 83],\n",
    "                    'Fog Indicator':[1, 0, 1,1]},\n",
    "                   index = [4,5,6,7])\n",
    "\n",
    "df3 = pd.DataFrame({'Temperature (F)':[67, 69, 71, 66],\n",
    "                    'Relative Humidity (%)':[50, 82, 92, 93],\n",
    "                    'Fog Indicator':[0, 1, 1, 1]},\n",
    "                   index = [8,9,10,11])\n",
    "\n",
    "df4 = pd.DataFrame({'Temperature (F)':[67, 69, 71, 66],\n",
    "                    'Relative Humidity (%)':[40, 42, 42, 43],\n",
    "                    'Wind Speed (knots)':[15, 11, 12, 13]},\n",
    "                   index = [8,9,10,11])\n",
    "\n",
    "df5 = pd.DataFrame({'Pressure (Pa)':[77, 79, 81, 76],\n",
    "                    'Cloud Indicator':[1, 0, 0, 1],\n",
    "                    'Wind Speed (knots)':[15, 11, 12, 13]},\n",
    "                   index = [0,1,2,3])\n",
    "\n",
    "concat_1 = pd.concat([df1, df2, df3])\n",
    "concat_1\n"
   ]
  },
  {
   "cell_type": "code",
   "execution_count": 47,
   "metadata": {},
   "outputs": [
    {
     "data": {
      "text/html": [
       "<div>\n",
       "<style scoped>\n",
       "    .dataframe tbody tr th:only-of-type {\n",
       "        vertical-align: middle;\n",
       "    }\n",
       "\n",
       "    .dataframe tbody tr th {\n",
       "        vertical-align: top;\n",
       "    }\n",
       "\n",
       "    .dataframe thead th {\n",
       "        text-align: right;\n",
       "    }\n",
       "</style>\n",
       "<table border=\"1\" class=\"dataframe\">\n",
       "  <thead>\n",
       "    <tr style=\"text-align: right;\">\n",
       "      <th></th>\n",
       "      <th>Fog Indicator</th>\n",
       "      <th>Relative Humidity (%)</th>\n",
       "      <th>Temperature (F)</th>\n",
       "      <th>Wind Speed (knots)</th>\n",
       "    </tr>\n",
       "  </thead>\n",
       "  <tbody>\n",
       "    <tr>\n",
       "      <th>0</th>\n",
       "      <td>0.0</td>\n",
       "      <td>40</td>\n",
       "      <td>65</td>\n",
       "      <td>NaN</td>\n",
       "    </tr>\n",
       "    <tr>\n",
       "      <th>1</th>\n",
       "      <td>0.0</td>\n",
       "      <td>55</td>\n",
       "      <td>63</td>\n",
       "      <td>NaN</td>\n",
       "    </tr>\n",
       "    <tr>\n",
       "      <th>2</th>\n",
       "      <td>0.0</td>\n",
       "      <td>42</td>\n",
       "      <td>62</td>\n",
       "      <td>NaN</td>\n",
       "    </tr>\n",
       "    <tr>\n",
       "      <th>3</th>\n",
       "      <td>1.0</td>\n",
       "      <td>92</td>\n",
       "      <td>66</td>\n",
       "      <td>NaN</td>\n",
       "    </tr>\n",
       "    <tr>\n",
       "      <th>8</th>\n",
       "      <td>NaN</td>\n",
       "      <td>40</td>\n",
       "      <td>67</td>\n",
       "      <td>15.0</td>\n",
       "    </tr>\n",
       "    <tr>\n",
       "      <th>9</th>\n",
       "      <td>NaN</td>\n",
       "      <td>42</td>\n",
       "      <td>69</td>\n",
       "      <td>11.0</td>\n",
       "    </tr>\n",
       "    <tr>\n",
       "      <th>10</th>\n",
       "      <td>NaN</td>\n",
       "      <td>42</td>\n",
       "      <td>71</td>\n",
       "      <td>12.0</td>\n",
       "    </tr>\n",
       "    <tr>\n",
       "      <th>11</th>\n",
       "      <td>NaN</td>\n",
       "      <td>43</td>\n",
       "      <td>66</td>\n",
       "      <td>13.0</td>\n",
       "    </tr>\n",
       "    <tr>\n",
       "      <th>4</th>\n",
       "      <td>1.0</td>\n",
       "      <td>53</td>\n",
       "      <td>66</td>\n",
       "      <td>NaN</td>\n",
       "    </tr>\n",
       "    <tr>\n",
       "      <th>5</th>\n",
       "      <td>0.0</td>\n",
       "      <td>45</td>\n",
       "      <td>69</td>\n",
       "      <td>NaN</td>\n",
       "    </tr>\n",
       "    <tr>\n",
       "      <th>6</th>\n",
       "      <td>1.0</td>\n",
       "      <td>47</td>\n",
       "      <td>67</td>\n",
       "      <td>NaN</td>\n",
       "    </tr>\n",
       "    <tr>\n",
       "      <th>7</th>\n",
       "      <td>1.0</td>\n",
       "      <td>83</td>\n",
       "      <td>67</td>\n",
       "      <td>NaN</td>\n",
       "    </tr>\n",
       "  </tbody>\n",
       "</table>\n",
       "</div>"
      ],
      "text/plain": [
       "    Fog Indicator  Relative Humidity (%)  Temperature (F)  Wind Speed (knots)\n",
       "0             0.0                     40               65                 NaN\n",
       "1             0.0                     55               63                 NaN\n",
       "2             0.0                     42               62                 NaN\n",
       "3             1.0                     92               66                 NaN\n",
       "8             NaN                     40               67                15.0\n",
       "9             NaN                     42               69                11.0\n",
       "10            NaN                     42               71                12.0\n",
       "11            NaN                     43               66                13.0\n",
       "4             1.0                     53               66                 NaN\n",
       "5             0.0                     45               69                 NaN\n",
       "6             1.0                     47               67                 NaN\n",
       "7             1.0                     83               67                 NaN"
      ]
     },
     "execution_count": 47,
     "metadata": {},
     "output_type": "execute_result"
    }
   ],
   "source": [
    "concat_2 = pd.concat([df1, df4, df2], sort=False)\n",
    "concat_2"
   ]
  },
  {
   "cell_type": "code",
   "execution_count": 48,
   "metadata": {},
   "outputs": [
    {
     "data": {
      "text/html": [
       "<div>\n",
       "<style scoped>\n",
       "    .dataframe tbody tr th:only-of-type {\n",
       "        vertical-align: middle;\n",
       "    }\n",
       "\n",
       "    .dataframe tbody tr th {\n",
       "        vertical-align: top;\n",
       "    }\n",
       "\n",
       "    .dataframe thead th {\n",
       "        text-align: right;\n",
       "    }\n",
       "</style>\n",
       "<table border=\"1\" class=\"dataframe\">\n",
       "  <thead>\n",
       "    <tr style=\"text-align: right;\">\n",
       "      <th></th>\n",
       "      <th>Fog Indicator</th>\n",
       "      <th>Relative Humidity (%)</th>\n",
       "      <th>Temperature (F)</th>\n",
       "      <th>Fog Indicator</th>\n",
       "      <th>Relative Humidity (%)</th>\n",
       "      <th>Temperature (F)</th>\n",
       "      <th>Cloud Indicator</th>\n",
       "      <th>Pressure (Pa)</th>\n",
       "      <th>Wind Speed (knots)</th>\n",
       "    </tr>\n",
       "  </thead>\n",
       "  <tbody>\n",
       "    <tr>\n",
       "      <th>0</th>\n",
       "      <td>0.0</td>\n",
       "      <td>40.0</td>\n",
       "      <td>65.0</td>\n",
       "      <td>NaN</td>\n",
       "      <td>NaN</td>\n",
       "      <td>NaN</td>\n",
       "      <td>1.0</td>\n",
       "      <td>77.0</td>\n",
       "      <td>15.0</td>\n",
       "    </tr>\n",
       "    <tr>\n",
       "      <th>1</th>\n",
       "      <td>0.0</td>\n",
       "      <td>55.0</td>\n",
       "      <td>63.0</td>\n",
       "      <td>NaN</td>\n",
       "      <td>NaN</td>\n",
       "      <td>NaN</td>\n",
       "      <td>0.0</td>\n",
       "      <td>79.0</td>\n",
       "      <td>11.0</td>\n",
       "    </tr>\n",
       "    <tr>\n",
       "      <th>2</th>\n",
       "      <td>0.0</td>\n",
       "      <td>42.0</td>\n",
       "      <td>62.0</td>\n",
       "      <td>NaN</td>\n",
       "      <td>NaN</td>\n",
       "      <td>NaN</td>\n",
       "      <td>0.0</td>\n",
       "      <td>81.0</td>\n",
       "      <td>12.0</td>\n",
       "    </tr>\n",
       "    <tr>\n",
       "      <th>3</th>\n",
       "      <td>1.0</td>\n",
       "      <td>92.0</td>\n",
       "      <td>66.0</td>\n",
       "      <td>NaN</td>\n",
       "      <td>NaN</td>\n",
       "      <td>NaN</td>\n",
       "      <td>1.0</td>\n",
       "      <td>76.0</td>\n",
       "      <td>13.0</td>\n",
       "    </tr>\n",
       "    <tr>\n",
       "      <th>4</th>\n",
       "      <td>NaN</td>\n",
       "      <td>NaN</td>\n",
       "      <td>NaN</td>\n",
       "      <td>1.0</td>\n",
       "      <td>53.0</td>\n",
       "      <td>66.0</td>\n",
       "      <td>NaN</td>\n",
       "      <td>NaN</td>\n",
       "      <td>NaN</td>\n",
       "    </tr>\n",
       "    <tr>\n",
       "      <th>5</th>\n",
       "      <td>NaN</td>\n",
       "      <td>NaN</td>\n",
       "      <td>NaN</td>\n",
       "      <td>0.0</td>\n",
       "      <td>45.0</td>\n",
       "      <td>69.0</td>\n",
       "      <td>NaN</td>\n",
       "      <td>NaN</td>\n",
       "      <td>NaN</td>\n",
       "    </tr>\n",
       "    <tr>\n",
       "      <th>6</th>\n",
       "      <td>NaN</td>\n",
       "      <td>NaN</td>\n",
       "      <td>NaN</td>\n",
       "      <td>1.0</td>\n",
       "      <td>47.0</td>\n",
       "      <td>67.0</td>\n",
       "      <td>NaN</td>\n",
       "      <td>NaN</td>\n",
       "      <td>NaN</td>\n",
       "    </tr>\n",
       "    <tr>\n",
       "      <th>7</th>\n",
       "      <td>NaN</td>\n",
       "      <td>NaN</td>\n",
       "      <td>NaN</td>\n",
       "      <td>1.0</td>\n",
       "      <td>83.0</td>\n",
       "      <td>67.0</td>\n",
       "      <td>NaN</td>\n",
       "      <td>NaN</td>\n",
       "      <td>NaN</td>\n",
       "    </tr>\n",
       "  </tbody>\n",
       "</table>\n",
       "</div>"
      ],
      "text/plain": [
       "   Fog Indicator  Relative Humidity (%)  Temperature (F)  Fog Indicator  \\\n",
       "0            0.0                   40.0             65.0            NaN   \n",
       "1            0.0                   55.0             63.0            NaN   \n",
       "2            0.0                   42.0             62.0            NaN   \n",
       "3            1.0                   92.0             66.0            NaN   \n",
       "4            NaN                    NaN              NaN            1.0   \n",
       "5            NaN                    NaN              NaN            0.0   \n",
       "6            NaN                    NaN              NaN            1.0   \n",
       "7            NaN                    NaN              NaN            1.0   \n",
       "\n",
       "   Relative Humidity (%)  Temperature (F)  Cloud Indicator  Pressure (Pa)  \\\n",
       "0                    NaN              NaN              1.0           77.0   \n",
       "1                    NaN              NaN              0.0           79.0   \n",
       "2                    NaN              NaN              0.0           81.0   \n",
       "3                    NaN              NaN              1.0           76.0   \n",
       "4                   53.0             66.0              NaN            NaN   \n",
       "5                   45.0             69.0              NaN            NaN   \n",
       "6                   47.0             67.0              NaN            NaN   \n",
       "7                   83.0             67.0              NaN            NaN   \n",
       "\n",
       "   Wind Speed (knots)  \n",
       "0                15.0  \n",
       "1                11.0  \n",
       "2                12.0  \n",
       "3                13.0  \n",
       "4                 NaN  \n",
       "5                 NaN  \n",
       "6                 NaN  \n",
       "7                 NaN  "
      ]
     },
     "execution_count": 48,
     "metadata": {},
     "output_type": "execute_result"
    }
   ],
   "source": [
    "##### concatenate along rows\n",
    "concat_3 = pd.concat([df1, df2, df5], axis=1)\n",
    "concat_3"
   ]
  },
  {
   "cell_type": "markdown",
   "metadata": {},
   "source": [
    "### Appending"
   ]
  },
  {
   "cell_type": "code",
   "execution_count": 49,
   "metadata": {},
   "outputs": [
    {
     "data": {
      "text/html": [
       "<div>\n",
       "<style scoped>\n",
       "    .dataframe tbody tr th:only-of-type {\n",
       "        vertical-align: middle;\n",
       "    }\n",
       "\n",
       "    .dataframe tbody tr th {\n",
       "        vertical-align: top;\n",
       "    }\n",
       "\n",
       "    .dataframe thead th {\n",
       "        text-align: right;\n",
       "    }\n",
       "</style>\n",
       "<table border=\"1\" class=\"dataframe\">\n",
       "  <thead>\n",
       "    <tr style=\"text-align: right;\">\n",
       "      <th></th>\n",
       "      <th>Fog Indicator</th>\n",
       "      <th>Relative Humidity (%)</th>\n",
       "      <th>Temperature (F)</th>\n",
       "    </tr>\n",
       "  </thead>\n",
       "  <tbody>\n",
       "    <tr>\n",
       "      <th>0</th>\n",
       "      <td>0</td>\n",
       "      <td>40</td>\n",
       "      <td>65</td>\n",
       "    </tr>\n",
       "    <tr>\n",
       "      <th>1</th>\n",
       "      <td>0</td>\n",
       "      <td>55</td>\n",
       "      <td>63</td>\n",
       "    </tr>\n",
       "    <tr>\n",
       "      <th>2</th>\n",
       "      <td>0</td>\n",
       "      <td>42</td>\n",
       "      <td>62</td>\n",
       "    </tr>\n",
       "    <tr>\n",
       "      <th>3</th>\n",
       "      <td>1</td>\n",
       "      <td>92</td>\n",
       "      <td>66</td>\n",
       "    </tr>\n",
       "    <tr>\n",
       "      <th>4</th>\n",
       "      <td>1</td>\n",
       "      <td>53</td>\n",
       "      <td>66</td>\n",
       "    </tr>\n",
       "    <tr>\n",
       "      <th>5</th>\n",
       "      <td>0</td>\n",
       "      <td>45</td>\n",
       "      <td>69</td>\n",
       "    </tr>\n",
       "    <tr>\n",
       "      <th>6</th>\n",
       "      <td>1</td>\n",
       "      <td>47</td>\n",
       "      <td>67</td>\n",
       "    </tr>\n",
       "    <tr>\n",
       "      <th>7</th>\n",
       "      <td>1</td>\n",
       "      <td>83</td>\n",
       "      <td>67</td>\n",
       "    </tr>\n",
       "  </tbody>\n",
       "</table>\n",
       "</div>"
      ],
      "text/plain": [
       "   Fog Indicator  Relative Humidity (%)  Temperature (F)\n",
       "0              0                     40               65\n",
       "1              0                     55               63\n",
       "2              0                     42               62\n",
       "3              1                     92               66\n",
       "4              1                     53               66\n",
       "5              0                     45               69\n",
       "6              1                     47               67\n",
       "7              1                     83               67"
      ]
     },
     "execution_count": 49,
     "metadata": {},
     "output_type": "execute_result"
    }
   ],
   "source": [
    "df2_after_df1 = df1.append(df2)\n",
    "df2_after_df1"
   ]
  },
  {
   "cell_type": "code",
   "execution_count": 50,
   "metadata": {},
   "outputs": [
    {
     "data": {
      "text/html": [
       "<div>\n",
       "<style scoped>\n",
       "    .dataframe tbody tr th:only-of-type {\n",
       "        vertical-align: middle;\n",
       "    }\n",
       "\n",
       "    .dataframe tbody tr th {\n",
       "        vertical-align: top;\n",
       "    }\n",
       "\n",
       "    .dataframe thead th {\n",
       "        text-align: right;\n",
       "    }\n",
       "</style>\n",
       "<table border=\"1\" class=\"dataframe\">\n",
       "  <thead>\n",
       "    <tr style=\"text-align: right;\">\n",
       "      <th></th>\n",
       "      <th>Fog Indicator</th>\n",
       "      <th>Relative Humidity (%)</th>\n",
       "      <th>Temperature (F)</th>\n",
       "    </tr>\n",
       "  </thead>\n",
       "  <tbody>\n",
       "    <tr>\n",
       "      <th>4</th>\n",
       "      <td>1</td>\n",
       "      <td>53</td>\n",
       "      <td>66</td>\n",
       "    </tr>\n",
       "    <tr>\n",
       "      <th>5</th>\n",
       "      <td>0</td>\n",
       "      <td>45</td>\n",
       "      <td>69</td>\n",
       "    </tr>\n",
       "    <tr>\n",
       "      <th>6</th>\n",
       "      <td>1</td>\n",
       "      <td>47</td>\n",
       "      <td>67</td>\n",
       "    </tr>\n",
       "    <tr>\n",
       "      <th>7</th>\n",
       "      <td>1</td>\n",
       "      <td>83</td>\n",
       "      <td>67</td>\n",
       "    </tr>\n",
       "    <tr>\n",
       "      <th>0</th>\n",
       "      <td>0</td>\n",
       "      <td>40</td>\n",
       "      <td>65</td>\n",
       "    </tr>\n",
       "    <tr>\n",
       "      <th>1</th>\n",
       "      <td>0</td>\n",
       "      <td>55</td>\n",
       "      <td>63</td>\n",
       "    </tr>\n",
       "    <tr>\n",
       "      <th>2</th>\n",
       "      <td>0</td>\n",
       "      <td>42</td>\n",
       "      <td>62</td>\n",
       "    </tr>\n",
       "    <tr>\n",
       "      <th>3</th>\n",
       "      <td>1</td>\n",
       "      <td>92</td>\n",
       "      <td>66</td>\n",
       "    </tr>\n",
       "  </tbody>\n",
       "</table>\n",
       "</div>"
      ],
      "text/plain": [
       "   Fog Indicator  Relative Humidity (%)  Temperature (F)\n",
       "4              1                     53               66\n",
       "5              0                     45               69\n",
       "6              1                     47               67\n",
       "7              1                     83               67\n",
       "0              0                     40               65\n",
       "1              0                     55               63\n",
       "2              0                     42               62\n",
       "3              1                     92               66"
      ]
     },
     "execution_count": 50,
     "metadata": {},
     "output_type": "execute_result"
    }
   ],
   "source": [
    "#### note the resulting index\n",
    "df1_after_df2 = df2.append(df1)\n",
    "df1_after_df2"
   ]
  },
  {
   "cell_type": "markdown",
   "metadata": {},
   "source": [
    "### Produce a frequency tabulation using crosstab\n",
    "  setting margins to True gives the marginal totals; more helpful in frequency cross-tabulations"
   ]
  },
  {
   "cell_type": "code",
   "execution_count": 51,
   "metadata": {},
   "outputs": [
    {
     "data": {
      "text/html": [
       "<div>\n",
       "<style scoped>\n",
       "    .dataframe tbody tr th:only-of-type {\n",
       "        vertical-align: middle;\n",
       "    }\n",
       "\n",
       "    .dataframe tbody tr th {\n",
       "        vertical-align: top;\n",
       "    }\n",
       "\n",
       "    .dataframe thead th {\n",
       "        text-align: right;\n",
       "    }\n",
       "</style>\n",
       "<table border=\"1\" class=\"dataframe\">\n",
       "  <thead>\n",
       "    <tr style=\"text-align: right;\">\n",
       "      <th>Freq Tabulation</th>\n",
       "      <th>count</th>\n",
       "      <th>All</th>\n",
       "    </tr>\n",
       "    <tr>\n",
       "      <th>Temperature (F)</th>\n",
       "      <th></th>\n",
       "      <th></th>\n",
       "    </tr>\n",
       "  </thead>\n",
       "  <tbody>\n",
       "    <tr>\n",
       "      <th>62</th>\n",
       "      <td>1</td>\n",
       "      <td>1</td>\n",
       "    </tr>\n",
       "    <tr>\n",
       "      <th>63</th>\n",
       "      <td>1</td>\n",
       "      <td>1</td>\n",
       "    </tr>\n",
       "    <tr>\n",
       "      <th>65</th>\n",
       "      <td>1</td>\n",
       "      <td>1</td>\n",
       "    </tr>\n",
       "    <tr>\n",
       "      <th>66</th>\n",
       "      <td>4</td>\n",
       "      <td>4</td>\n",
       "    </tr>\n",
       "    <tr>\n",
       "      <th>67</th>\n",
       "      <td>4</td>\n",
       "      <td>4</td>\n",
       "    </tr>\n",
       "    <tr>\n",
       "      <th>69</th>\n",
       "      <td>3</td>\n",
       "      <td>3</td>\n",
       "    </tr>\n",
       "    <tr>\n",
       "      <th>71</th>\n",
       "      <td>2</td>\n",
       "      <td>2</td>\n",
       "    </tr>\n",
       "    <tr>\n",
       "      <th>All</th>\n",
       "      <td>16</td>\n",
       "      <td>16</td>\n",
       "    </tr>\n",
       "  </tbody>\n",
       "</table>\n",
       "</div>"
      ],
      "text/plain": [
       "Freq Tabulation  count  All\n",
       "Temperature (F)            \n",
       "62                   1    1\n",
       "63                   1    1\n",
       "65                   1    1\n",
       "66                   4    4\n",
       "67                   4    4\n",
       "69                   3    3\n",
       "71                   2    2\n",
       "All                 16   16"
      ]
     },
     "execution_count": 51,
     "metadata": {},
     "output_type": "execute_result"
    }
   ],
   "source": [
    "big_append = df1.append([df2,df3,df4], sort=True)\n",
    "tabulation = pd.crosstab(big_append['Temperature (F)'], columns='count', margins=True)\n",
    "tabulation.columns.name = 'Freq Tabulation'\n",
    "tabulation"
   ]
  },
  {
   "cell_type": "code",
   "execution_count": 52,
   "metadata": {},
   "outputs": [
    {
     "data": {
      "text/plain": [
       "Index([62, 63, 65, 66, 67, 69, 71, 'All'], dtype='object', name='Temperature (F)')"
      ]
     },
     "execution_count": 52,
     "metadata": {},
     "output_type": "execute_result"
    }
   ],
   "source": [
    "tabulation.index"
   ]
  },
  {
   "cell_type": "code",
   "execution_count": 53,
   "metadata": {},
   "outputs": [
    {
     "data": {
      "text/plain": [
       "Index(['count', 'All'], dtype='object', name='Freq Tabulation')"
      ]
     },
     "execution_count": 53,
     "metadata": {},
     "output_type": "execute_result"
    }
   ],
   "source": [
    "tabulation.columns"
   ]
  },
  {
   "cell_type": "code",
   "execution_count": 54,
   "metadata": {},
   "outputs": [
    {
     "data": {
      "text/plain": [
       "array(['count', 'All'], dtype=object)"
      ]
     },
     "execution_count": 54,
     "metadata": {},
     "output_type": "execute_result"
    }
   ],
   "source": [
    "tabulation.columns.values"
   ]
  },
  {
   "cell_type": "code",
   "execution_count": 55,
   "metadata": {},
   "outputs": [
    {
     "data": {
      "text/plain": [
       "['count', 'All']"
      ]
     },
     "execution_count": 55,
     "metadata": {},
     "output_type": "execute_result"
    }
   ],
   "source": [
    "list(tabulation)"
   ]
  },
  {
   "cell_type": "markdown",
   "metadata": {},
   "source": [
    "### Joining\n",
    "occurs on a common index"
   ]
  },
  {
   "cell_type": "code",
   "execution_count": 56,
   "metadata": {},
   "outputs": [
    {
     "data": {
      "text/html": [
       "<div>\n",
       "<style scoped>\n",
       "    .dataframe tbody tr th:only-of-type {\n",
       "        vertical-align: middle;\n",
       "    }\n",
       "\n",
       "    .dataframe tbody tr th {\n",
       "        vertical-align: top;\n",
       "    }\n",
       "\n",
       "    .dataframe thead th {\n",
       "        text-align: right;\n",
       "    }\n",
       "</style>\n",
       "<table border=\"1\" class=\"dataframe\">\n",
       "  <thead>\n",
       "    <tr style=\"text-align: right;\">\n",
       "      <th></th>\n",
       "      <th>Favorite Month</th>\n",
       "      <th>Password</th>\n",
       "      <th>Contributions</th>\n",
       "      <th>User_Probation</th>\n",
       "    </tr>\n",
       "    <tr>\n",
       "      <th>User_Name</th>\n",
       "      <th></th>\n",
       "      <th></th>\n",
       "      <th></th>\n",
       "      <th></th>\n",
       "    </tr>\n",
       "  </thead>\n",
       "  <tbody>\n",
       "    <tr>\n",
       "      <th>Zeenat</th>\n",
       "      <td>Jul</td>\n",
       "      <td>Passw0rd</td>\n",
       "      <td>51.0</td>\n",
       "      <td>0.0</td>\n",
       "    </tr>\n",
       "    <tr>\n",
       "      <th>Inga</th>\n",
       "      <td>May</td>\n",
       "      <td>$3sda</td>\n",
       "      <td>82.0</td>\n",
       "      <td>1.0</td>\n",
       "    </tr>\n",
       "    <tr>\n",
       "      <th>Carlos</th>\n",
       "      <td>Aug</td>\n",
       "      <td>N/A</td>\n",
       "      <td>76.0</td>\n",
       "      <td>0.0</td>\n",
       "    </tr>\n",
       "    <tr>\n",
       "      <th>Ophelia</th>\n",
       "      <td>Aug</td>\n",
       "      <td>3@m8z</td>\n",
       "      <td>55.0</td>\n",
       "      <td>1.0</td>\n",
       "    </tr>\n",
       "    <tr>\n",
       "      <th>Ledell</th>\n",
       "      <td>Sep</td>\n",
       "      <td>23ifuio34</td>\n",
       "      <td>NaN</td>\n",
       "      <td>NaN</td>\n",
       "    </tr>\n",
       "  </tbody>\n",
       "</table>\n",
       "</div>"
      ],
      "text/plain": [
       "          Favorite Month   Password  Contributions  User_Probation\n",
       "User_Name                                                         \n",
       "Zeenat               Jul   Passw0rd           51.0             0.0\n",
       "Inga                 May      $3sda           82.0             1.0\n",
       "Carlos               Aug        N/A           76.0             0.0\n",
       "Ophelia              Aug      3@m8z           55.0             1.0\n",
       "Ledell               Sep  23ifuio34            NaN             NaN"
      ]
     },
     "execution_count": 56,
     "metadata": {},
     "output_type": "execute_result"
    }
   ],
   "source": [
    "Mainforum_users = pd.DataFrame({'User_Name':['Zeenat', 'Inga', 'Carlos', 'Ophelia', 'Ledell'],\n",
    "                           'Password':['Passw0rd', '$3sda', 'N/A', '3@m8z', '23ifuio34'],\n",
    "                           'Favorite Month':['Jul', 'May', 'Aug', 'Aug', 'Sep']})\n",
    "\n",
    "Subforum_users = pd.DataFrame({'User_Name':['Zeenat', 'Inga', 'Carlos', 'Ophelia'],\n",
    "                           'Contributions':[51, 82, 76, 55],\n",
    "                           'User_Probation':[0,1,0,1]})\n",
    "\n",
    "Mainforum_users.set_index('User_Name', inplace = True)\n",
    "Subforum_users.set_index('User_Name', inplace = True)\n",
    "\n",
    "joinedTable = Mainforum_users.join(Subforum_users)\n",
    "joinedTable"
   ]
  },
  {
   "cell_type": "markdown",
   "metadata": {},
   "source": [
    "#### use the 'right' option for how to join\n",
    "we only obtain records matching the dataframe on the right"
   ]
  },
  {
   "cell_type": "code",
   "execution_count": 57,
   "metadata": {},
   "outputs": [
    {
     "data": {
      "text/html": [
       "<div>\n",
       "<style scoped>\n",
       "    .dataframe tbody tr th:only-of-type {\n",
       "        vertical-align: middle;\n",
       "    }\n",
       "\n",
       "    .dataframe tbody tr th {\n",
       "        vertical-align: top;\n",
       "    }\n",
       "\n",
       "    .dataframe thead th {\n",
       "        text-align: right;\n",
       "    }\n",
       "</style>\n",
       "<table border=\"1\" class=\"dataframe\">\n",
       "  <thead>\n",
       "    <tr style=\"text-align: right;\">\n",
       "      <th></th>\n",
       "      <th>Favorite Month</th>\n",
       "      <th>Password</th>\n",
       "      <th>Contributions</th>\n",
       "      <th>User_Probation</th>\n",
       "    </tr>\n",
       "    <tr>\n",
       "      <th>User_Name</th>\n",
       "      <th></th>\n",
       "      <th></th>\n",
       "      <th></th>\n",
       "      <th></th>\n",
       "    </tr>\n",
       "  </thead>\n",
       "  <tbody>\n",
       "    <tr>\n",
       "      <th>Zeenat</th>\n",
       "      <td>Jul</td>\n",
       "      <td>Passw0rd</td>\n",
       "      <td>51</td>\n",
       "      <td>0</td>\n",
       "    </tr>\n",
       "    <tr>\n",
       "      <th>Inga</th>\n",
       "      <td>May</td>\n",
       "      <td>$3sda</td>\n",
       "      <td>82</td>\n",
       "      <td>1</td>\n",
       "    </tr>\n",
       "    <tr>\n",
       "      <th>Carlos</th>\n",
       "      <td>Aug</td>\n",
       "      <td>N/A</td>\n",
       "      <td>76</td>\n",
       "      <td>0</td>\n",
       "    </tr>\n",
       "    <tr>\n",
       "      <th>Ophelia</th>\n",
       "      <td>Aug</td>\n",
       "      <td>3@m8z</td>\n",
       "      <td>55</td>\n",
       "      <td>1</td>\n",
       "    </tr>\n",
       "  </tbody>\n",
       "</table>\n",
       "</div>"
      ],
      "text/plain": [
       "          Favorite Month  Password  Contributions  User_Probation\n",
       "User_Name                                                        \n",
       "Zeenat               Jul  Passw0rd             51               0\n",
       "Inga                 May     $3sda             82               1\n",
       "Carlos               Aug       N/A             76               0\n",
       "Ophelia              Aug     3@m8z             55               1"
      ]
     },
     "execution_count": 57,
     "metadata": {},
     "output_type": "execute_result"
    }
   ],
   "source": [
    "newTable = Mainforum_users.join(Subforum_users, how='right')\n",
    "newTable"
   ]
  },
  {
   "cell_type": "markdown",
   "metadata": {},
   "source": [
    "### Merging\n",
    "bring two dataframes together on a single column\n",
    "  - left\n",
    "  - right\n",
    "  - on\n",
    "  - how\n",
    "  - sorted : sorts on join keys; default is True.  False can improve performance"
   ]
  },
  {
   "cell_type": "code",
   "execution_count": 58,
   "metadata": {},
   "outputs": [
    {
     "data": {
      "text/html": [
       "<div>\n",
       "<style scoped>\n",
       "    .dataframe tbody tr th:only-of-type {\n",
       "        vertical-align: middle;\n",
       "    }\n",
       "\n",
       "    .dataframe tbody tr th {\n",
       "        vertical-align: top;\n",
       "    }\n",
       "\n",
       "    .dataframe thead th {\n",
       "        text-align: right;\n",
       "    }\n",
       "</style>\n",
       "<table border=\"1\" class=\"dataframe\">\n",
       "  <thead>\n",
       "    <tr style=\"text-align: right;\">\n",
       "      <th></th>\n",
       "      <th>Fog Indicator</th>\n",
       "      <th>Relative Humidity (%)</th>\n",
       "      <th>Temperature (F)</th>\n",
       "      <th>Cloud Indicator</th>\n",
       "      <th>Wind Speed (knots)</th>\n",
       "    </tr>\n",
       "  </thead>\n",
       "  <tbody>\n",
       "    <tr>\n",
       "      <th>0</th>\n",
       "      <td>0</td>\n",
       "      <td>30</td>\n",
       "      <td>65</td>\n",
       "      <td>1</td>\n",
       "      <td>33</td>\n",
       "    </tr>\n",
       "    <tr>\n",
       "      <th>1</th>\n",
       "      <td>0</td>\n",
       "      <td>45</td>\n",
       "      <td>63</td>\n",
       "      <td>0</td>\n",
       "      <td>35</td>\n",
       "    </tr>\n",
       "    <tr>\n",
       "      <th>2</th>\n",
       "      <td>0</td>\n",
       "      <td>32</td>\n",
       "      <td>62</td>\n",
       "      <td>1</td>\n",
       "      <td>37</td>\n",
       "    </tr>\n",
       "  </tbody>\n",
       "</table>\n",
       "</div>"
      ],
      "text/plain": [
       "   Fog Indicator  Relative Humidity (%)  Temperature (F)  Cloud Indicator  \\\n",
       "0              0                     30               65                1   \n",
       "1              0                     45               63                0   \n",
       "2              0                     32               62                1   \n",
       "\n",
       "   Wind Speed (knots)  \n",
       "0                  33  \n",
       "1                  35  \n",
       "2                  37  "
      ]
     },
     "execution_count": 58,
     "metadata": {},
     "output_type": "execute_result"
    }
   ],
   "source": [
    "df1 = pd.DataFrame({'Temperature (F)':[65, 63, 62, 66],\n",
    "                    'Relative Humidity (%)':[30, 45, 32, 92],\n",
    "                    'Fog Indicator':[0, 0, 0, 1]})\n",
    "\n",
    "df2 = pd.DataFrame({'Temperature (F)':[65, 63, 62, 67],\n",
    "                    'Wind Speed (knots)':[33, 35, 37, 23],\n",
    "                    'Cloud Indicator':[1, 0, 1, 1]})\n",
    "\n",
    "mergedFrame = pd.merge(df1, df2, on='Temperature (F)', how='inner')\n",
    "mergedFrame"
   ]
  },
  {
   "cell_type": "code",
   "execution_count": 59,
   "metadata": {},
   "outputs": [
    {
     "data": {
      "text/html": [
       "<div>\n",
       "<style scoped>\n",
       "    .dataframe tbody tr th:only-of-type {\n",
       "        vertical-align: middle;\n",
       "    }\n",
       "\n",
       "    .dataframe tbody tr th {\n",
       "        vertical-align: top;\n",
       "    }\n",
       "\n",
       "    .dataframe thead th {\n",
       "        text-align: right;\n",
       "    }\n",
       "</style>\n",
       "<table border=\"1\" class=\"dataframe\">\n",
       "  <thead>\n",
       "    <tr style=\"text-align: right;\">\n",
       "      <th></th>\n",
       "      <th>Fog Indicator</th>\n",
       "      <th>Relative Humidity (%)</th>\n",
       "      <th>Temperature (F)</th>\n",
       "      <th>Cloud Indicator</th>\n",
       "      <th>Wind Speed (knots)</th>\n",
       "    </tr>\n",
       "  </thead>\n",
       "  <tbody>\n",
       "    <tr>\n",
       "      <th>0</th>\n",
       "      <td>0</td>\n",
       "      <td>30</td>\n",
       "      <td>65</td>\n",
       "      <td>1.0</td>\n",
       "      <td>33.0</td>\n",
       "    </tr>\n",
       "    <tr>\n",
       "      <th>1</th>\n",
       "      <td>0</td>\n",
       "      <td>45</td>\n",
       "      <td>63</td>\n",
       "      <td>0.0</td>\n",
       "      <td>35.0</td>\n",
       "    </tr>\n",
       "    <tr>\n",
       "      <th>2</th>\n",
       "      <td>0</td>\n",
       "      <td>32</td>\n",
       "      <td>62</td>\n",
       "      <td>1.0</td>\n",
       "      <td>37.0</td>\n",
       "    </tr>\n",
       "    <tr>\n",
       "      <th>3</th>\n",
       "      <td>1</td>\n",
       "      <td>92</td>\n",
       "      <td>66</td>\n",
       "      <td>NaN</td>\n",
       "      <td>NaN</td>\n",
       "    </tr>\n",
       "  </tbody>\n",
       "</table>\n",
       "</div>"
      ],
      "text/plain": [
       "   Fog Indicator  Relative Humidity (%)  Temperature (F)  Cloud Indicator  \\\n",
       "0              0                     30               65              1.0   \n",
       "1              0                     45               63              0.0   \n",
       "2              0                     32               62              1.0   \n",
       "3              1                     92               66              NaN   \n",
       "\n",
       "   Wind Speed (knots)  \n",
       "0                33.0  \n",
       "1                35.0  \n",
       "2                37.0  \n",
       "3                 NaN  "
      ]
     },
     "execution_count": 59,
     "metadata": {},
     "output_type": "execute_result"
    }
   ],
   "source": [
    "leftMerged = pd.merge(df1, df2, on='Temperature (F)', how='left')\n",
    "leftMerged"
   ]
  },
  {
   "cell_type": "code",
   "execution_count": 60,
   "metadata": {},
   "outputs": [
    {
     "data": {
      "text/html": [
       "<div>\n",
       "<style scoped>\n",
       "    .dataframe tbody tr th:only-of-type {\n",
       "        vertical-align: middle;\n",
       "    }\n",
       "\n",
       "    .dataframe tbody tr th {\n",
       "        vertical-align: top;\n",
       "    }\n",
       "\n",
       "    .dataframe thead th {\n",
       "        text-align: right;\n",
       "    }\n",
       "</style>\n",
       "<table border=\"1\" class=\"dataframe\">\n",
       "  <thead>\n",
       "    <tr style=\"text-align: right;\">\n",
       "      <th></th>\n",
       "      <th>Fog Indicator</th>\n",
       "      <th>Relative Humidity (%)</th>\n",
       "      <th>Temperature (F)</th>\n",
       "      <th>Cloud Indicator</th>\n",
       "      <th>Wind Speed (knots)</th>\n",
       "    </tr>\n",
       "  </thead>\n",
       "  <tbody>\n",
       "    <tr>\n",
       "      <th>0</th>\n",
       "      <td>0.0</td>\n",
       "      <td>30.0</td>\n",
       "      <td>65</td>\n",
       "      <td>1</td>\n",
       "      <td>33</td>\n",
       "    </tr>\n",
       "    <tr>\n",
       "      <th>1</th>\n",
       "      <td>0.0</td>\n",
       "      <td>45.0</td>\n",
       "      <td>63</td>\n",
       "      <td>0</td>\n",
       "      <td>35</td>\n",
       "    </tr>\n",
       "    <tr>\n",
       "      <th>2</th>\n",
       "      <td>0.0</td>\n",
       "      <td>32.0</td>\n",
       "      <td>62</td>\n",
       "      <td>1</td>\n",
       "      <td>37</td>\n",
       "    </tr>\n",
       "    <tr>\n",
       "      <th>3</th>\n",
       "      <td>NaN</td>\n",
       "      <td>NaN</td>\n",
       "      <td>67</td>\n",
       "      <td>1</td>\n",
       "      <td>23</td>\n",
       "    </tr>\n",
       "  </tbody>\n",
       "</table>\n",
       "</div>"
      ],
      "text/plain": [
       "   Fog Indicator  Relative Humidity (%)  Temperature (F)  Cloud Indicator  \\\n",
       "0            0.0                   30.0               65                1   \n",
       "1            0.0                   45.0               63                0   \n",
       "2            0.0                   32.0               62                1   \n",
       "3            NaN                    NaN               67                1   \n",
       "\n",
       "   Wind Speed (knots)  \n",
       "0                  33  \n",
       "1                  35  \n",
       "2                  37  \n",
       "3                  23  "
      ]
     },
     "execution_count": 60,
     "metadata": {},
     "output_type": "execute_result"
    }
   ],
   "source": [
    "rightMerged = pd.merge(df1, df2, on='Temperature (F)', how='right')\n",
    "rightMerged"
   ]
  },
  {
   "cell_type": "markdown",
   "metadata": {},
   "source": [
    "---\n",
    "## **IO functions**\n",
    "\n",
    "### Read\n",
    "  - read_csv: read comma separated variables into dataframe\n",
    "  - read_table: read general delimited variables into dataframe\n",
    "  - read_excel\n",
    "  - read_json\n",
    "  - read_hdf\n",
    "  - read_pickle\n",
    "  - DataReader from pandas_datareader\n",
    "\n",
    "### Write  \n",
    "  - to_csv\n",
    "  - to_excel\n",
    "  - to_json\n",
    "  - to_hdf\n",
    "  - to_pickle"
   ]
  },
  {
   "cell_type": "code",
   "execution_count": 61,
   "metadata": {},
   "outputs": [
    {
     "data": {
      "text/html": [
       "<div>\n",
       "<style scoped>\n",
       "    .dataframe tbody tr th:only-of-type {\n",
       "        vertical-align: middle;\n",
       "    }\n",
       "\n",
       "    .dataframe tbody tr th {\n",
       "        vertical-align: top;\n",
       "    }\n",
       "\n",
       "    .dataframe thead th {\n",
       "        text-align: right;\n",
       "    }\n",
       "</style>\n",
       "<table border=\"1\" class=\"dataframe\">\n",
       "  <thead>\n",
       "    <tr style=\"text-align: right;\">\n",
       "      <th></th>\n",
       "      <th>Year</th>\n",
       "      <th>Population</th>\n",
       "      <th>Violent Crime</th>\n",
       "      <th>Violent Crime Rate</th>\n",
       "      <th>Murder and nonegligent manslaughter</th>\n",
       "      <th>Murder and nonegligent manslaughter rate</th>\n",
       "      <th>Rape (legacy definition)</th>\n",
       "      <th>Rape (legacy definition) rate</th>\n",
       "      <th>Robbery</th>\n",
       "      <th>Robbery Rate</th>\n",
       "      <th>Aggravated Assault</th>\n",
       "      <th>Aggravated Assault Rate</th>\n",
       "      <th>Property Crime</th>\n",
       "      <th>Property Crime Rate</th>\n",
       "      <th>Burglary</th>\n",
       "      <th>Burglary Rate</th>\n",
       "      <th>Larceny-Theft</th>\n",
       "      <th>Larceny-Theft Rate</th>\n",
       "      <th>Motor Vehicle Theft</th>\n",
       "      <th>Motor Vehicle Theft Rate</th>\n",
       "    </tr>\n",
       "  </thead>\n",
       "  <tbody>\n",
       "    <tr>\n",
       "      <th>0</th>\n",
       "      <td>2013-12-31</td>\n",
       "      <td>316128839.0</td>\n",
       "      <td>1163146.0</td>\n",
       "      <td>367.9</td>\n",
       "      <td>14196.0</td>\n",
       "      <td>4.5</td>\n",
       "      <td>79770.0</td>\n",
       "      <td>25.2</td>\n",
       "      <td>345031.0</td>\n",
       "      <td>109.1</td>\n",
       "      <td>724149.0</td>\n",
       "      <td>229.1</td>\n",
       "      <td>8632512.0</td>\n",
       "      <td>2730.7</td>\n",
       "      <td>1928465.0</td>\n",
       "      <td>610.0</td>\n",
       "      <td>6004453.0</td>\n",
       "      <td>1899.4</td>\n",
       "      <td>699594.0</td>\n",
       "      <td>221.3</td>\n",
       "    </tr>\n",
       "    <tr>\n",
       "      <th>1</th>\n",
       "      <td>2012-12-31</td>\n",
       "      <td>313873685.0</td>\n",
       "      <td>1217057.0</td>\n",
       "      <td>387.8</td>\n",
       "      <td>14856.0</td>\n",
       "      <td>4.7</td>\n",
       "      <td>85141.0</td>\n",
       "      <td>27.1</td>\n",
       "      <td>355051.0</td>\n",
       "      <td>113.1</td>\n",
       "      <td>762009.0</td>\n",
       "      <td>242.8</td>\n",
       "      <td>9001992.0</td>\n",
       "      <td>2868.0</td>\n",
       "      <td>2109932.0</td>\n",
       "      <td>672.2</td>\n",
       "      <td>6168874.0</td>\n",
       "      <td>1965.4</td>\n",
       "      <td>723186.0</td>\n",
       "      <td>230.4</td>\n",
       "    </tr>\n",
       "  </tbody>\n",
       "</table>\n",
       "</div>"
      ],
      "text/plain": [
       "         Year   Population  Violent Crime  Violent Crime Rate  \\\n",
       "0  2013-12-31  316128839.0      1163146.0               367.9   \n",
       "1  2012-12-31  313873685.0      1217057.0               387.8   \n",
       "\n",
       "   Murder and nonegligent manslaughter  \\\n",
       "0                              14196.0   \n",
       "1                              14856.0   \n",
       "\n",
       "   Murder and nonegligent manslaughter rate  Rape (legacy definition)  \\\n",
       "0                                       4.5                   79770.0   \n",
       "1                                       4.7                   85141.0   \n",
       "\n",
       "   Rape (legacy definition) rate   Robbery  Robbery Rate  Aggravated Assault  \\\n",
       "0                           25.2  345031.0         109.1            724149.0   \n",
       "1                           27.1  355051.0         113.1            762009.0   \n",
       "\n",
       "   Aggravated Assault Rate  Property Crime  Property Crime Rate   Burglary  \\\n",
       "0                    229.1       8632512.0               2730.7  1928465.0   \n",
       "1                    242.8       9001992.0               2868.0  2109932.0   \n",
       "\n",
       "   Burglary Rate  Larceny-Theft  Larceny-Theft Rate  Motor Vehicle Theft  \\\n",
       "0          610.0      6004453.0              1899.4             699594.0   \n",
       "1          672.2      6168874.0              1965.4             723186.0   \n",
       "\n",
       "   Motor Vehicle Theft Rate  \n",
       "0                     221.3  \n",
       "1                     230.4  "
      ]
     },
     "execution_count": 61,
     "metadata": {},
     "output_type": "execute_result"
    }
   ],
   "source": [
    "crimeData = pd.read_csv('/home/hoona/Python/mpug/exampleData.csv')\n",
    "crimeData.head(2)"
   ]
  },
  {
   "cell_type": "markdown",
   "metadata": {},
   "source": [
    "#### pandas writes the index and header along with the data"
   ]
  },
  {
   "cell_type": "code",
   "execution_count": 62,
   "metadata": {},
   "outputs": [],
   "source": [
    "crimeData.to_csv('/home/hoona/Python/mpug/checkIndexIsWritten.csv')"
   ]
  },
  {
   "cell_type": "code",
   "execution_count": 63,
   "metadata": {},
   "outputs": [
    {
     "data": {
      "text/html": [
       "<div>\n",
       "<style scoped>\n",
       "    .dataframe tbody tr th:only-of-type {\n",
       "        vertical-align: middle;\n",
       "    }\n",
       "\n",
       "    .dataframe tbody tr th {\n",
       "        vertical-align: top;\n",
       "    }\n",
       "\n",
       "    .dataframe thead th {\n",
       "        text-align: right;\n",
       "    }\n",
       "</style>\n",
       "<table border=\"1\" class=\"dataframe\">\n",
       "  <thead>\n",
       "    <tr style=\"text-align: right;\">\n",
       "      <th></th>\n",
       "      <th>Population</th>\n",
       "      <th>Violent Crime</th>\n",
       "      <th>Violent Crime Rate</th>\n",
       "      <th>Murder and nonegligent manslaughter</th>\n",
       "      <th>Murder and nonegligent manslaughter rate</th>\n",
       "      <th>Rape (legacy definition)</th>\n",
       "      <th>Rape (legacy definition) rate</th>\n",
       "      <th>Robbery</th>\n",
       "      <th>Robbery Rate</th>\n",
       "      <th>Aggravated Assault</th>\n",
       "      <th>Aggravated Assault Rate</th>\n",
       "      <th>Property Crime</th>\n",
       "      <th>Property Crime Rate</th>\n",
       "      <th>Burglary</th>\n",
       "      <th>Burglary Rate</th>\n",
       "      <th>Larceny-Theft</th>\n",
       "      <th>Larceny-Theft Rate</th>\n",
       "      <th>Motor Vehicle Theft</th>\n",
       "      <th>Motor Vehicle Theft Rate</th>\n",
       "    </tr>\n",
       "    <tr>\n",
       "      <th>Year</th>\n",
       "      <th></th>\n",
       "      <th></th>\n",
       "      <th></th>\n",
       "      <th></th>\n",
       "      <th></th>\n",
       "      <th></th>\n",
       "      <th></th>\n",
       "      <th></th>\n",
       "      <th></th>\n",
       "      <th></th>\n",
       "      <th></th>\n",
       "      <th></th>\n",
       "      <th></th>\n",
       "      <th></th>\n",
       "      <th></th>\n",
       "      <th></th>\n",
       "      <th></th>\n",
       "      <th></th>\n",
       "      <th></th>\n",
       "    </tr>\n",
       "  </thead>\n",
       "  <tbody>\n",
       "    <tr>\n",
       "      <th>2013-12-31</th>\n",
       "      <td>316128839.0</td>\n",
       "      <td>1163146.0</td>\n",
       "      <td>367.9</td>\n",
       "      <td>14196.0</td>\n",
       "      <td>4.5</td>\n",
       "      <td>79770.0</td>\n",
       "      <td>25.2</td>\n",
       "      <td>345031.0</td>\n",
       "      <td>109.1</td>\n",
       "      <td>724149.0</td>\n",
       "      <td>229.1</td>\n",
       "      <td>8632512.0</td>\n",
       "      <td>2730.7</td>\n",
       "      <td>1928465.0</td>\n",
       "      <td>610.0</td>\n",
       "      <td>6004453.0</td>\n",
       "      <td>1899.4</td>\n",
       "      <td>699594.0</td>\n",
       "      <td>221.3</td>\n",
       "    </tr>\n",
       "    <tr>\n",
       "      <th>2012-12-31</th>\n",
       "      <td>313873685.0</td>\n",
       "      <td>1217057.0</td>\n",
       "      <td>387.8</td>\n",
       "      <td>14856.0</td>\n",
       "      <td>4.7</td>\n",
       "      <td>85141.0</td>\n",
       "      <td>27.1</td>\n",
       "      <td>355051.0</td>\n",
       "      <td>113.1</td>\n",
       "      <td>762009.0</td>\n",
       "      <td>242.8</td>\n",
       "      <td>9001992.0</td>\n",
       "      <td>2868.0</td>\n",
       "      <td>2109932.0</td>\n",
       "      <td>672.2</td>\n",
       "      <td>6168874.0</td>\n",
       "      <td>1965.4</td>\n",
       "      <td>723186.0</td>\n",
       "      <td>230.4</td>\n",
       "    </tr>\n",
       "    <tr>\n",
       "      <th>2011-12-31</th>\n",
       "      <td>311587816.0</td>\n",
       "      <td>1206005.0</td>\n",
       "      <td>387.1</td>\n",
       "      <td>14661.0</td>\n",
       "      <td>4.7</td>\n",
       "      <td>84175.0</td>\n",
       "      <td>27.0</td>\n",
       "      <td>354746.0</td>\n",
       "      <td>113.9</td>\n",
       "      <td>752423.0</td>\n",
       "      <td>241.5</td>\n",
       "      <td>9052743.0</td>\n",
       "      <td>2905.4</td>\n",
       "      <td>2185140.0</td>\n",
       "      <td>701.3</td>\n",
       "      <td>6151095.0</td>\n",
       "      <td>1974.1</td>\n",
       "      <td>716508.0</td>\n",
       "      <td>230.0</td>\n",
       "    </tr>\n",
       "    <tr>\n",
       "      <th>2010-12-31</th>\n",
       "      <td>309330219.0</td>\n",
       "      <td>1251248.0</td>\n",
       "      <td>404.5</td>\n",
       "      <td>14722.0</td>\n",
       "      <td>4.8</td>\n",
       "      <td>85593.0</td>\n",
       "      <td>27.7</td>\n",
       "      <td>369089.0</td>\n",
       "      <td>119.3</td>\n",
       "      <td>781844.0</td>\n",
       "      <td>252.8</td>\n",
       "      <td>9112625.0</td>\n",
       "      <td>2945.9</td>\n",
       "      <td>2168459.0</td>\n",
       "      <td>701.0</td>\n",
       "      <td>6204601.0</td>\n",
       "      <td>2005.8</td>\n",
       "      <td>739565.0</td>\n",
       "      <td>239.1</td>\n",
       "    </tr>\n",
       "    <tr>\n",
       "      <th>2009-12-31</th>\n",
       "      <td>307006550.0</td>\n",
       "      <td>1325896.0</td>\n",
       "      <td>431.9</td>\n",
       "      <td>15399.0</td>\n",
       "      <td>5.0</td>\n",
       "      <td>89241.0</td>\n",
       "      <td>29.1</td>\n",
       "      <td>408742.0</td>\n",
       "      <td>133.1</td>\n",
       "      <td>812514.0</td>\n",
       "      <td>264.7</td>\n",
       "      <td>9337060.0</td>\n",
       "      <td>3041.3</td>\n",
       "      <td>2203313.0</td>\n",
       "      <td>717.7</td>\n",
       "      <td>6338095.0</td>\n",
       "      <td>2064.5</td>\n",
       "      <td>795652.0</td>\n",
       "      <td>259.2</td>\n",
       "    </tr>\n",
       "  </tbody>\n",
       "</table>\n",
       "</div>"
      ],
      "text/plain": [
       "             Population  Violent Crime  Violent Crime Rate  \\\n",
       "Year                                                         \n",
       "2013-12-31  316128839.0      1163146.0               367.9   \n",
       "2012-12-31  313873685.0      1217057.0               387.8   \n",
       "2011-12-31  311587816.0      1206005.0               387.1   \n",
       "2010-12-31  309330219.0      1251248.0               404.5   \n",
       "2009-12-31  307006550.0      1325896.0               431.9   \n",
       "\n",
       "            Murder and nonegligent manslaughter  \\\n",
       "Year                                              \n",
       "2013-12-31                              14196.0   \n",
       "2012-12-31                              14856.0   \n",
       "2011-12-31                              14661.0   \n",
       "2010-12-31                              14722.0   \n",
       "2009-12-31                              15399.0   \n",
       "\n",
       "            Murder and nonegligent manslaughter rate  \\\n",
       "Year                                                   \n",
       "2013-12-31                                       4.5   \n",
       "2012-12-31                                       4.7   \n",
       "2011-12-31                                       4.7   \n",
       "2010-12-31                                       4.8   \n",
       "2009-12-31                                       5.0   \n",
       "\n",
       "            Rape (legacy definition)  Rape (legacy definition) rate   Robbery  \\\n",
       "Year                                                                            \n",
       "2013-12-31                   79770.0                           25.2  345031.0   \n",
       "2012-12-31                   85141.0                           27.1  355051.0   \n",
       "2011-12-31                   84175.0                           27.0  354746.0   \n",
       "2010-12-31                   85593.0                           27.7  369089.0   \n",
       "2009-12-31                   89241.0                           29.1  408742.0   \n",
       "\n",
       "            Robbery Rate  Aggravated Assault  Aggravated Assault Rate  \\\n",
       "Year                                                                    \n",
       "2013-12-31         109.1            724149.0                    229.1   \n",
       "2012-12-31         113.1            762009.0                    242.8   \n",
       "2011-12-31         113.9            752423.0                    241.5   \n",
       "2010-12-31         119.3            781844.0                    252.8   \n",
       "2009-12-31         133.1            812514.0                    264.7   \n",
       "\n",
       "            Property Crime  Property Crime Rate   Burglary  Burglary Rate  \\\n",
       "Year                                                                        \n",
       "2013-12-31       8632512.0               2730.7  1928465.0          610.0   \n",
       "2012-12-31       9001992.0               2868.0  2109932.0          672.2   \n",
       "2011-12-31       9052743.0               2905.4  2185140.0          701.3   \n",
       "2010-12-31       9112625.0               2945.9  2168459.0          701.0   \n",
       "2009-12-31       9337060.0               3041.3  2203313.0          717.7   \n",
       "\n",
       "            Larceny-Theft  Larceny-Theft Rate  Motor Vehicle Theft  \\\n",
       "Year                                                                 \n",
       "2013-12-31      6004453.0              1899.4             699594.0   \n",
       "2012-12-31      6168874.0              1965.4             723186.0   \n",
       "2011-12-31      6151095.0              1974.1             716508.0   \n",
       "2010-12-31      6204601.0              2005.8             739565.0   \n",
       "2009-12-31      6338095.0              2064.5             795652.0   \n",
       "\n",
       "            Motor Vehicle Theft Rate  \n",
       "Year                                  \n",
       "2013-12-31                     221.3  \n",
       "2012-12-31                     230.4  \n",
       "2011-12-31                     230.0  \n",
       "2010-12-31                     239.1  \n",
       "2009-12-31                     259.2  "
      ]
     },
     "execution_count": 63,
     "metadata": {},
     "output_type": "execute_result"
    }
   ],
   "source": [
    "##### modify to use variable Year as index\n",
    "modCrimeData = crimeData\n",
    "modCrimeData.set_index(\"Year\", inplace=True)\n",
    "modCrimeData.head()"
   ]
  },
  {
   "cell_type": "code",
   "execution_count": 64,
   "metadata": {},
   "outputs": [],
   "source": [
    "#### write our earlier dataframe to csv file\n",
    "AAPL.to_csv('/home/hoona/Python/mpug/directFromPandaDataFrame.csv')"
   ]
  },
  {
   "cell_type": "markdown",
   "metadata": {},
   "source": [
    "---\n",
    "## **Other Pandas topics**\n",
    "  - reindexing, renaming\n",
    "  - aggregations\n",
    "  - working with text data\n",
    "  - pivot, stack/unstack, melting\n",
    "  - missing data\n",
    "  - categorical data\n",
    "  - group-by\n",
    "  - date functionality\n",
    "  - timedelta\n",
    "  - sparse data\n",
    "  - buffering\n",
    "  - options & customization\n",
    "  "
   ]
  }
 ],
 "metadata": {
  "kernelspec": {
   "display_name": "Python 3",
   "language": "python",
   "name": "python3"
  },
  "language_info": {
   "codemirror_mode": {
    "name": "ipython",
    "version": 3
   },
   "file_extension": ".py",
   "mimetype": "text/x-python",
   "name": "python",
   "nbconvert_exporter": "python",
   "pygments_lexer": "ipython3",
   "version": "3.5.5"
  }
 },
 "nbformat": 4,
 "nbformat_minor": 2
}
